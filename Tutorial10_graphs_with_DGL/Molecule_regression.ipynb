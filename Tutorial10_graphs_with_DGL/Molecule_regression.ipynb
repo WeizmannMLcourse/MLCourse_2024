{
 "cells": [
  {
   "attachments": {},
   "cell_type": "markdown",
   "metadata": {},
   "source": [
    "# Molecule property regression with message-passing network"
   ]
  },
  {
   "attachments": {},
   "cell_type": "markdown",
   "metadata": {},
   "source": [
    "### Preamble"
   ]
  },
  {
   "cell_type": "code",
   "execution_count": 1,
   "metadata": {},
   "outputs": [],
   "source": [
    "import numpy as np\n",
    "import matplotlib.pyplot as plt\n",
    "import torch.nn as nn\n",
    "from torch.utils.data import Dataset, DataLoader\n",
    "import torch\n",
    "import dgl\n",
    "from dgl.data import QM9EdgeDataset\n",
    "from tqdm import tqdm"
   ]
  },
  {
   "cell_type": "code",
   "execution_count": 2,
   "metadata": {},
   "outputs": [],
   "source": [
    "%load_ext autoreload\n",
    "%autoreload 2"
   ]
  },
  {
   "attachments": {},
   "cell_type": "markdown",
   "metadata": {},
   "source": [
    "## QM9EdgeDataset\n",
    "DGL provides a preloaded interface to this dataset of 130k molecules.\n",
    "- https://docs.dgl.ai/en/0.8.x/generated/dgl.data.QM9EdgeDataset.html\n",
    "- http://quantum-machine.org/datasets/\n",
    "\n",
    "We want to train a graph neural network to regress the magnitude of the electric dipole moment $|\\vec{\\mu}|$ of the molecule, where:\n",
    "\n",
    "$\\vec{\\mu} = \\sum_{i} q_i \\vec{x_i}$\n",
    "\n",
    "The atoms (nodes) in each molecule (graph) contain the following features:\n",
    "- `pos`: spatial coordinates (3 numbers)\n",
    "- `attr`: additional properties (11 numbers)\n",
    "\n",
    "For our task, we will restrict ourselves to _purely_ the spatial coordinates and the atomic number as input features."
   ]
  },
  {
   "cell_type": "code",
   "execution_count": 3,
   "metadata": {},
   "outputs": [
    {
     "name": "stdout",
     "output_type": "stream",
     "text": [
      "Done loading data from cached files.\n"
     ]
    }
   ],
   "source": [
    "data = QM9EdgeDataset(label_keys=['mu'])"
   ]
  },
  {
   "cell_type": "code",
   "execution_count": 4,
   "metadata": {},
   "outputs": [
    {
     "data": {
      "text/plain": [
       "130831"
      ]
     },
     "execution_count": 4,
     "metadata": {},
     "output_type": "execute_result"
    }
   ],
   "source": [
    "len(data)"
   ]
  },
  {
   "cell_type": "code",
   "execution_count": 5,
   "metadata": {},
   "outputs": [],
   "source": [
    "g, labels = data.__getitem__(100000)"
   ]
  },
  {
   "cell_type": "markdown",
   "metadata": {},
   "source": [
    "Note: I needed `pip install --upgrade nbformat` after getting `ValueError: Mime type rendering requires nbformat>=4.2.0 but it is not installed`"
   ]
  },
  {
   "cell_type": "markdown",
   "metadata": {},
   "source": [
    "## Plotly visualization\n",
    "Code in `visualizer.py`"
   ]
  },
  {
   "cell_type": "code",
   "execution_count": 6,
   "metadata": {},
   "outputs": [
    {
     "data": {
      "application/vnd.plotly.v1+json": {
       "config": {
        "linkText": "Export to plot.ly",
        "plotlyServerURL": "https://plot.ly",
        "showLink": false
       },
       "data": [
        {
         "hovertemplate": "<b>%{text}</b><br>",
         "marker": {
          "color": [
           "black",
           "black",
           "blue",
           "black",
           "blue",
           "black",
           "blue",
           "black",
           "red",
           "white",
           "white",
           "white",
           "white",
           "white",
           "white",
           "white",
           "white",
           "white"
          ],
          "line": {
           "color": "rgb(50,50,50)",
           "width": 2
          },
          "size": [
           30,
           30,
           35,
           30,
           35,
           30,
           35,
           30,
           40,
           5,
           5,
           5,
           5,
           5,
           5,
           5,
           5,
           5
          ],
          "symbol": "circle"
         },
         "mode": "markers",
         "name": "atom",
         "text": [
          "C",
          "C",
          "N",
          "C",
          "N",
          "C",
          "N",
          "C",
          "O",
          "H",
          "H",
          "H",
          "H",
          "H",
          "H",
          "H",
          "H",
          "H"
         ],
         "type": "scatter3d",
         "x": [
          0.9480000138282776,
          -0.05490000173449516,
          -1.4190000295639038,
          -2.4386000633239746,
          -3.6668999195098877,
          -1.7129000425338745,
          -0.9021000266075134,
          -2.9405999183654785,
          -3.424099922180176,
          1.941499948501587,
          0.6646000146865845,
          1.0111000537872314,
          -0.09969999641180038,
          0.2475000023841858,
          -2.063800096511841,
          -4.275700092315674,
          -1.2879999876022339,
          -3.276900053024292
         ],
         "y": [
          0.426800012588501,
          -0.6075999736785889,
          -0.36980000138282776,
          -0.12290000170469284,
          -0.2563999891281128,
          -0.7006999850273132,
          -1.402999997138977,
          -0.0632999986410141,
          -0.5303999781608582,
          0.20970000326633453,
          1.4375,
          0.3970000147819519,
          -0.5949000120162964,
          -1.611299991607666,
          0.18930000066757202,
          0.024900000542402267,
          -1.5018999576568604,
          0.8920000195503235
         ],
         "z": [
          0.07339999824762344,
          -0.4350999891757965,
          0.059700001031160355,
          -0.8377000093460083,
          -0.5288000106811523,
          1.3875000476837158,
          2.0738000869750977,
          2.0248000621795654,
          3.0239999294281006,
          -0.3303000032901764,
          -0.23639999330043793,
          1.1632000207901,
          -1.527400016784668,
          -0.12520000338554382,
          -1.8178000450134277,
          -1.2926000356674194,
          3.0157999992370605,
          1.5913000106811523
         ]
        },
        {
         "hoverinfo": "none",
         "line": {
          "color": "rgb(125,125,125,0.6)",
          "width": 3
         },
         "mode": "lines",
         "type": "scatter3d",
         "x": [
          0.9480000138282776,
          -0.05490000173449516,
          null,
          0.9480000138282776,
          1.941499948501587,
          null,
          0.9480000138282776,
          0.6646000146865845,
          null,
          0.9480000138282776,
          1.0111000537872314,
          null,
          -0.05490000173449516,
          0.9480000138282776,
          null,
          -0.05490000173449516,
          -1.4190000295639038,
          null,
          -0.05490000173449516,
          -0.09969999641180038,
          null,
          -0.05490000173449516,
          0.2475000023841858,
          null,
          -1.4190000295639038,
          -0.05490000173449516,
          null,
          -1.4190000295639038,
          -2.4386000633239746,
          null,
          -1.4190000295639038,
          -1.7129000425338745,
          null,
          -2.4386000633239746,
          -1.4190000295639038,
          null,
          -2.4386000633239746,
          -3.6668999195098877,
          null,
          -2.4386000633239746,
          -2.063800096511841,
          null,
          -3.6668999195098877,
          -2.4386000633239746,
          null,
          -3.6668999195098877,
          -4.275700092315674,
          null,
          -1.7129000425338745,
          -1.4190000295639038,
          null,
          -1.7129000425338745,
          -0.9021000266075134,
          null,
          -1.7129000425338745,
          -2.9405999183654785,
          null,
          -0.9021000266075134,
          -1.7129000425338745,
          null,
          -0.9021000266075134,
          -1.2879999876022339,
          null,
          -2.9405999183654785,
          -1.7129000425338745,
          null,
          -2.9405999183654785,
          -3.424099922180176,
          null,
          -2.9405999183654785,
          -3.276900053024292,
          null,
          -3.424099922180176,
          -2.9405999183654785,
          null,
          1.941499948501587,
          0.9480000138282776,
          null,
          0.6646000146865845,
          0.9480000138282776,
          null,
          1.0111000537872314,
          0.9480000138282776,
          null,
          -0.09969999641180038,
          -0.05490000173449516,
          null,
          0.2475000023841858,
          -0.05490000173449516,
          null,
          -2.063800096511841,
          -2.4386000633239746,
          null,
          -4.275700092315674,
          -3.6668999195098877,
          null,
          -1.2879999876022339,
          -0.9021000266075134,
          null,
          -3.276900053024292,
          -2.9405999183654785,
          null
         ],
         "y": [
          0.426800012588501,
          -0.6075999736785889,
          null,
          0.426800012588501,
          0.20970000326633453,
          null,
          0.426800012588501,
          1.4375,
          null,
          0.426800012588501,
          0.3970000147819519,
          null,
          -0.6075999736785889,
          0.426800012588501,
          null,
          -0.6075999736785889,
          -0.36980000138282776,
          null,
          -0.6075999736785889,
          -0.5949000120162964,
          null,
          -0.6075999736785889,
          -1.611299991607666,
          null,
          -0.36980000138282776,
          -0.6075999736785889,
          null,
          -0.36980000138282776,
          -0.12290000170469284,
          null,
          -0.36980000138282776,
          -0.7006999850273132,
          null,
          -0.12290000170469284,
          -0.36980000138282776,
          null,
          -0.12290000170469284,
          -0.2563999891281128,
          null,
          -0.12290000170469284,
          0.18930000066757202,
          null,
          -0.2563999891281128,
          -0.12290000170469284,
          null,
          -0.2563999891281128,
          0.024900000542402267,
          null,
          -0.7006999850273132,
          -0.36980000138282776,
          null,
          -0.7006999850273132,
          -1.402999997138977,
          null,
          -0.7006999850273132,
          -0.0632999986410141,
          null,
          -1.402999997138977,
          -0.7006999850273132,
          null,
          -1.402999997138977,
          -1.5018999576568604,
          null,
          -0.0632999986410141,
          -0.7006999850273132,
          null,
          -0.0632999986410141,
          -0.5303999781608582,
          null,
          -0.0632999986410141,
          0.8920000195503235,
          null,
          -0.5303999781608582,
          -0.0632999986410141,
          null,
          0.20970000326633453,
          0.426800012588501,
          null,
          1.4375,
          0.426800012588501,
          null,
          0.3970000147819519,
          0.426800012588501,
          null,
          -0.5949000120162964,
          -0.6075999736785889,
          null,
          -1.611299991607666,
          -0.6075999736785889,
          null,
          0.18930000066757202,
          -0.12290000170469284,
          null,
          0.024900000542402267,
          -0.2563999891281128,
          null,
          -1.5018999576568604,
          -1.402999997138977,
          null,
          0.8920000195503235,
          -0.0632999986410141,
          null
         ],
         "z": [
          0.07339999824762344,
          -0.4350999891757965,
          null,
          0.07339999824762344,
          -0.3303000032901764,
          null,
          0.07339999824762344,
          -0.23639999330043793,
          null,
          0.07339999824762344,
          1.1632000207901,
          null,
          -0.4350999891757965,
          0.07339999824762344,
          null,
          -0.4350999891757965,
          0.059700001031160355,
          null,
          -0.4350999891757965,
          -1.527400016784668,
          null,
          -0.4350999891757965,
          -0.12520000338554382,
          null,
          0.059700001031160355,
          -0.4350999891757965,
          null,
          0.059700001031160355,
          -0.8377000093460083,
          null,
          0.059700001031160355,
          1.3875000476837158,
          null,
          -0.8377000093460083,
          0.059700001031160355,
          null,
          -0.8377000093460083,
          -0.5288000106811523,
          null,
          -0.8377000093460083,
          -1.8178000450134277,
          null,
          -0.5288000106811523,
          -0.8377000093460083,
          null,
          -0.5288000106811523,
          -1.2926000356674194,
          null,
          1.3875000476837158,
          0.059700001031160355,
          null,
          1.3875000476837158,
          2.0738000869750977,
          null,
          1.3875000476837158,
          2.0248000621795654,
          null,
          2.0738000869750977,
          1.3875000476837158,
          null,
          2.0738000869750977,
          3.0157999992370605,
          null,
          2.0248000621795654,
          1.3875000476837158,
          null,
          2.0248000621795654,
          3.0239999294281006,
          null,
          2.0248000621795654,
          1.5913000106811523,
          null,
          3.0239999294281006,
          2.0248000621795654,
          null,
          -0.3303000032901764,
          0.07339999824762344,
          null,
          -0.23639999330043793,
          0.07339999824762344,
          null,
          1.1632000207901,
          0.07339999824762344,
          null,
          -1.527400016784668,
          -0.4350999891757965,
          null,
          -0.12520000338554382,
          -0.4350999891757965,
          null,
          -1.8178000450134277,
          -0.8377000093460083,
          null,
          -1.2926000356674194,
          -0.5288000106811523,
          null,
          3.0157999992370605,
          2.0738000869750977,
          null,
          1.5913000106811523,
          2.0248000621795654,
          null
         ]
        }
       ],
       "layout": {
        "height": 800,
        "hovermode": "closest",
        "legend": {
         "font": {
          "size": 10
         },
         "orientation": "h"
        },
        "margin": {
         "t": 100
        },
        "scene": {
         "aspectratio": {
          "x": 1,
          "y": 1,
          "z": 1
         },
         "xaxis": {
          "range": [
           -5,
           5
          ],
          "showbackground": false,
          "showgrid": true,
          "showline": true,
          "showticklabels": true,
          "visible": true,
          "zeroline": false
         },
         "yaxis": {
          "range": [
           -5,
           5
          ],
          "showbackground": false,
          "showgrid": true,
          "showline": true,
          "showticklabels": true,
          "visible": true,
          "zeroline": false
         },
         "zaxis": {
          "range": [
           -5,
           5
          ],
          "showbackground": false,
          "showgrid": true,
          "showline": true,
          "showticklabels": true,
          "visible": true,
          "zeroline": false
         }
        },
        "showlegend": false,
        "template": {
         "data": {
          "bar": [
           {
            "error_x": {
             "color": "#2a3f5f"
            },
            "error_y": {
             "color": "#2a3f5f"
            },
            "marker": {
             "line": {
              "color": "#E5ECF6",
              "width": 0.5
             },
             "pattern": {
              "fillmode": "overlay",
              "size": 10,
              "solidity": 0.2
             }
            },
            "type": "bar"
           }
          ],
          "barpolar": [
           {
            "marker": {
             "line": {
              "color": "#E5ECF6",
              "width": 0.5
             },
             "pattern": {
              "fillmode": "overlay",
              "size": 10,
              "solidity": 0.2
             }
            },
            "type": "barpolar"
           }
          ],
          "carpet": [
           {
            "aaxis": {
             "endlinecolor": "#2a3f5f",
             "gridcolor": "white",
             "linecolor": "white",
             "minorgridcolor": "white",
             "startlinecolor": "#2a3f5f"
            },
            "baxis": {
             "endlinecolor": "#2a3f5f",
             "gridcolor": "white",
             "linecolor": "white",
             "minorgridcolor": "white",
             "startlinecolor": "#2a3f5f"
            },
            "type": "carpet"
           }
          ],
          "choropleth": [
           {
            "colorbar": {
             "outlinewidth": 0,
             "ticks": ""
            },
            "type": "choropleth"
           }
          ],
          "contour": [
           {
            "colorbar": {
             "outlinewidth": 0,
             "ticks": ""
            },
            "colorscale": [
             [
              0,
              "#0d0887"
             ],
             [
              0.1111111111111111,
              "#46039f"
             ],
             [
              0.2222222222222222,
              "#7201a8"
             ],
             [
              0.3333333333333333,
              "#9c179e"
             ],
             [
              0.4444444444444444,
              "#bd3786"
             ],
             [
              0.5555555555555556,
              "#d8576b"
             ],
             [
              0.6666666666666666,
              "#ed7953"
             ],
             [
              0.7777777777777778,
              "#fb9f3a"
             ],
             [
              0.8888888888888888,
              "#fdca26"
             ],
             [
              1,
              "#f0f921"
             ]
            ],
            "type": "contour"
           }
          ],
          "contourcarpet": [
           {
            "colorbar": {
             "outlinewidth": 0,
             "ticks": ""
            },
            "type": "contourcarpet"
           }
          ],
          "heatmap": [
           {
            "colorbar": {
             "outlinewidth": 0,
             "ticks": ""
            },
            "colorscale": [
             [
              0,
              "#0d0887"
             ],
             [
              0.1111111111111111,
              "#46039f"
             ],
             [
              0.2222222222222222,
              "#7201a8"
             ],
             [
              0.3333333333333333,
              "#9c179e"
             ],
             [
              0.4444444444444444,
              "#bd3786"
             ],
             [
              0.5555555555555556,
              "#d8576b"
             ],
             [
              0.6666666666666666,
              "#ed7953"
             ],
             [
              0.7777777777777778,
              "#fb9f3a"
             ],
             [
              0.8888888888888888,
              "#fdca26"
             ],
             [
              1,
              "#f0f921"
             ]
            ],
            "type": "heatmap"
           }
          ],
          "heatmapgl": [
           {
            "colorbar": {
             "outlinewidth": 0,
             "ticks": ""
            },
            "colorscale": [
             [
              0,
              "#0d0887"
             ],
             [
              0.1111111111111111,
              "#46039f"
             ],
             [
              0.2222222222222222,
              "#7201a8"
             ],
             [
              0.3333333333333333,
              "#9c179e"
             ],
             [
              0.4444444444444444,
              "#bd3786"
             ],
             [
              0.5555555555555556,
              "#d8576b"
             ],
             [
              0.6666666666666666,
              "#ed7953"
             ],
             [
              0.7777777777777778,
              "#fb9f3a"
             ],
             [
              0.8888888888888888,
              "#fdca26"
             ],
             [
              1,
              "#f0f921"
             ]
            ],
            "type": "heatmapgl"
           }
          ],
          "histogram": [
           {
            "marker": {
             "pattern": {
              "fillmode": "overlay",
              "size": 10,
              "solidity": 0.2
             }
            },
            "type": "histogram"
           }
          ],
          "histogram2d": [
           {
            "colorbar": {
             "outlinewidth": 0,
             "ticks": ""
            },
            "colorscale": [
             [
              0,
              "#0d0887"
             ],
             [
              0.1111111111111111,
              "#46039f"
             ],
             [
              0.2222222222222222,
              "#7201a8"
             ],
             [
              0.3333333333333333,
              "#9c179e"
             ],
             [
              0.4444444444444444,
              "#bd3786"
             ],
             [
              0.5555555555555556,
              "#d8576b"
             ],
             [
              0.6666666666666666,
              "#ed7953"
             ],
             [
              0.7777777777777778,
              "#fb9f3a"
             ],
             [
              0.8888888888888888,
              "#fdca26"
             ],
             [
              1,
              "#f0f921"
             ]
            ],
            "type": "histogram2d"
           }
          ],
          "histogram2dcontour": [
           {
            "colorbar": {
             "outlinewidth": 0,
             "ticks": ""
            },
            "colorscale": [
             [
              0,
              "#0d0887"
             ],
             [
              0.1111111111111111,
              "#46039f"
             ],
             [
              0.2222222222222222,
              "#7201a8"
             ],
             [
              0.3333333333333333,
              "#9c179e"
             ],
             [
              0.4444444444444444,
              "#bd3786"
             ],
             [
              0.5555555555555556,
              "#d8576b"
             ],
             [
              0.6666666666666666,
              "#ed7953"
             ],
             [
              0.7777777777777778,
              "#fb9f3a"
             ],
             [
              0.8888888888888888,
              "#fdca26"
             ],
             [
              1,
              "#f0f921"
             ]
            ],
            "type": "histogram2dcontour"
           }
          ],
          "mesh3d": [
           {
            "colorbar": {
             "outlinewidth": 0,
             "ticks": ""
            },
            "type": "mesh3d"
           }
          ],
          "parcoords": [
           {
            "line": {
             "colorbar": {
              "outlinewidth": 0,
              "ticks": ""
             }
            },
            "type": "parcoords"
           }
          ],
          "pie": [
           {
            "automargin": true,
            "type": "pie"
           }
          ],
          "scatter": [
           {
            "fillpattern": {
             "fillmode": "overlay",
             "size": 10,
             "solidity": 0.2
            },
            "type": "scatter"
           }
          ],
          "scatter3d": [
           {
            "line": {
             "colorbar": {
              "outlinewidth": 0,
              "ticks": ""
             }
            },
            "marker": {
             "colorbar": {
              "outlinewidth": 0,
              "ticks": ""
             }
            },
            "type": "scatter3d"
           }
          ],
          "scattercarpet": [
           {
            "marker": {
             "colorbar": {
              "outlinewidth": 0,
              "ticks": ""
             }
            },
            "type": "scattercarpet"
           }
          ],
          "scattergeo": [
           {
            "marker": {
             "colorbar": {
              "outlinewidth": 0,
              "ticks": ""
             }
            },
            "type": "scattergeo"
           }
          ],
          "scattergl": [
           {
            "marker": {
             "colorbar": {
              "outlinewidth": 0,
              "ticks": ""
             }
            },
            "type": "scattergl"
           }
          ],
          "scattermapbox": [
           {
            "marker": {
             "colorbar": {
              "outlinewidth": 0,
              "ticks": ""
             }
            },
            "type": "scattermapbox"
           }
          ],
          "scatterpolar": [
           {
            "marker": {
             "colorbar": {
              "outlinewidth": 0,
              "ticks": ""
             }
            },
            "type": "scatterpolar"
           }
          ],
          "scatterpolargl": [
           {
            "marker": {
             "colorbar": {
              "outlinewidth": 0,
              "ticks": ""
             }
            },
            "type": "scatterpolargl"
           }
          ],
          "scatterternary": [
           {
            "marker": {
             "colorbar": {
              "outlinewidth": 0,
              "ticks": ""
             }
            },
            "type": "scatterternary"
           }
          ],
          "surface": [
           {
            "colorbar": {
             "outlinewidth": 0,
             "ticks": ""
            },
            "colorscale": [
             [
              0,
              "#0d0887"
             ],
             [
              0.1111111111111111,
              "#46039f"
             ],
             [
              0.2222222222222222,
              "#7201a8"
             ],
             [
              0.3333333333333333,
              "#9c179e"
             ],
             [
              0.4444444444444444,
              "#bd3786"
             ],
             [
              0.5555555555555556,
              "#d8576b"
             ],
             [
              0.6666666666666666,
              "#ed7953"
             ],
             [
              0.7777777777777778,
              "#fb9f3a"
             ],
             [
              0.8888888888888888,
              "#fdca26"
             ],
             [
              1,
              "#f0f921"
             ]
            ],
            "type": "surface"
           }
          ],
          "table": [
           {
            "cells": {
             "fill": {
              "color": "#EBF0F8"
             },
             "line": {
              "color": "white"
             }
            },
            "header": {
             "fill": {
              "color": "#C8D4E3"
             },
             "line": {
              "color": "white"
             }
            },
            "type": "table"
           }
          ]
         },
         "layout": {
          "annotationdefaults": {
           "arrowcolor": "#2a3f5f",
           "arrowhead": 0,
           "arrowwidth": 1
          },
          "autotypenumbers": "strict",
          "coloraxis": {
           "colorbar": {
            "outlinewidth": 0,
            "ticks": ""
           }
          },
          "colorscale": {
           "diverging": [
            [
             0,
             "#8e0152"
            ],
            [
             0.1,
             "#c51b7d"
            ],
            [
             0.2,
             "#de77ae"
            ],
            [
             0.3,
             "#f1b6da"
            ],
            [
             0.4,
             "#fde0ef"
            ],
            [
             0.5,
             "#f7f7f7"
            ],
            [
             0.6,
             "#e6f5d0"
            ],
            [
             0.7,
             "#b8e186"
            ],
            [
             0.8,
             "#7fbc41"
            ],
            [
             0.9,
             "#4d9221"
            ],
            [
             1,
             "#276419"
            ]
           ],
           "sequential": [
            [
             0,
             "#0d0887"
            ],
            [
             0.1111111111111111,
             "#46039f"
            ],
            [
             0.2222222222222222,
             "#7201a8"
            ],
            [
             0.3333333333333333,
             "#9c179e"
            ],
            [
             0.4444444444444444,
             "#bd3786"
            ],
            [
             0.5555555555555556,
             "#d8576b"
            ],
            [
             0.6666666666666666,
             "#ed7953"
            ],
            [
             0.7777777777777778,
             "#fb9f3a"
            ],
            [
             0.8888888888888888,
             "#fdca26"
            ],
            [
             1,
             "#f0f921"
            ]
           ],
           "sequentialminus": [
            [
             0,
             "#0d0887"
            ],
            [
             0.1111111111111111,
             "#46039f"
            ],
            [
             0.2222222222222222,
             "#7201a8"
            ],
            [
             0.3333333333333333,
             "#9c179e"
            ],
            [
             0.4444444444444444,
             "#bd3786"
            ],
            [
             0.5555555555555556,
             "#d8576b"
            ],
            [
             0.6666666666666666,
             "#ed7953"
            ],
            [
             0.7777777777777778,
             "#fb9f3a"
            ],
            [
             0.8888888888888888,
             "#fdca26"
            ],
            [
             1,
             "#f0f921"
            ]
           ]
          },
          "colorway": [
           "#636efa",
           "#EF553B",
           "#00cc96",
           "#ab63fa",
           "#FFA15A",
           "#19d3f3",
           "#FF6692",
           "#B6E880",
           "#FF97FF",
           "#FECB52"
          ],
          "font": {
           "color": "#2a3f5f"
          },
          "geo": {
           "bgcolor": "white",
           "lakecolor": "white",
           "landcolor": "#E5ECF6",
           "showlakes": true,
           "showland": true,
           "subunitcolor": "white"
          },
          "hoverlabel": {
           "align": "left"
          },
          "hovermode": "closest",
          "mapbox": {
           "style": "light"
          },
          "paper_bgcolor": "white",
          "plot_bgcolor": "#E5ECF6",
          "polar": {
           "angularaxis": {
            "gridcolor": "white",
            "linecolor": "white",
            "ticks": ""
           },
           "bgcolor": "#E5ECF6",
           "radialaxis": {
            "gridcolor": "white",
            "linecolor": "white",
            "ticks": ""
           }
          },
          "scene": {
           "xaxis": {
            "backgroundcolor": "#E5ECF6",
            "gridcolor": "white",
            "gridwidth": 2,
            "linecolor": "white",
            "showbackground": true,
            "ticks": "",
            "zerolinecolor": "white"
           },
           "yaxis": {
            "backgroundcolor": "#E5ECF6",
            "gridcolor": "white",
            "gridwidth": 2,
            "linecolor": "white",
            "showbackground": true,
            "ticks": "",
            "zerolinecolor": "white"
           },
           "zaxis": {
            "backgroundcolor": "#E5ECF6",
            "gridcolor": "white",
            "gridwidth": 2,
            "linecolor": "white",
            "showbackground": true,
            "ticks": "",
            "zerolinecolor": "white"
           }
          },
          "shapedefaults": {
           "line": {
            "color": "#2a3f5f"
           }
          },
          "ternary": {
           "aaxis": {
            "gridcolor": "white",
            "linecolor": "white",
            "ticks": ""
           },
           "baxis": {
            "gridcolor": "white",
            "linecolor": "white",
            "ticks": ""
           },
           "bgcolor": "#E5ECF6",
           "caxis": {
            "gridcolor": "white",
            "linecolor": "white",
            "ticks": ""
           }
          },
          "title": {
           "x": 0.05
          },
          "xaxis": {
           "automargin": true,
           "gridcolor": "white",
           "linecolor": "white",
           "ticks": "",
           "title": {
            "standoff": 15
           },
           "zerolinecolor": "white",
           "zerolinewidth": 2
          },
          "yaxis": {
           "automargin": true,
           "gridcolor": "white",
           "linecolor": "white",
           "ticks": "",
           "title": {
            "standoff": 15
           },
           "zerolinecolor": "white",
           "zerolinewidth": 2
          }
         }
        },
        "width": 800
       }
      }
     },
     "metadata": {},
     "output_type": "display_data"
    }
   ],
   "source": [
    "from visualizer import draw_plotly\n",
    "draw_plotly(g)"
   ]
  },
  {
   "cell_type": "markdown",
   "metadata": {},
   "source": [
    "## Message-passing model\n",
    "This simple graph neural network consists of three main network components:\n",
    "1) Node feature encoding\n",
    "2) Message passing blocks\n",
    "3) Graph-level prediction"
   ]
  },
  {
   "cell_type": "markdown",
   "metadata": {},
   "source": [
    "<img src=\"./model.jpeg\">"
   ]
  },
  {
   "cell_type": "code",
   "execution_count": 7,
   "metadata": {},
   "outputs": [],
   "source": [
    "from model import MoleculeMPNN"
   ]
  },
  {
   "cell_type": "code",
   "execution_count": 8,
   "metadata": {},
   "outputs": [],
   "source": [
    "net = MoleculeMPNN()"
   ]
  },
  {
   "cell_type": "code",
   "execution_count": 9,
   "metadata": {},
   "outputs": [
    {
     "data": {
      "text/plain": [
       "371713"
      ]
     },
     "execution_count": 9,
     "metadata": {},
     "output_type": "execute_result"
    }
   ],
   "source": [
    "### number of parameters ###\n",
    "sum(p.numel() for p in net.parameters())"
   ]
  },
  {
   "cell_type": "code",
   "execution_count": 10,
   "metadata": {},
   "outputs": [],
   "source": [
    "### Modified from https://docs.dgl.ai/en/0.2.x/tutorials/basics/4_batch.html ### \n",
    "def collate(samples):\n",
    "    # The input `samples` is a list of pairs\n",
    "    #  (graph, label).\n",
    "    graphs, labels = map(list, zip(*samples))\n",
    "    batched_graph = dgl.batch(graphs)\n",
    "    labels = torch.row_stack(labels)\n",
    "    return batched_graph, labels"
   ]
  },
  {
   "cell_type": "markdown",
   "metadata": {},
   "source": [
    "### Train-val-test splits"
   ]
  },
  {
   "cell_type": "code",
   "execution_count": 20,
   "metadata": {},
   "outputs": [],
   "source": [
    "train_dataset = torch.utils.data.Subset(data,range(100000))\n",
    "valid_dataset = torch.utils.data.Subset(data,range(100000,105000))\n",
    "test_dataset = torch.utils.data.Subset(data,range(110000,len(data)-1))\n",
    "\n",
    "train_dataloader = DataLoader(train_dataset, batch_size=200, shuffle=True, collate_fn=collate, num_workers=0)\n",
    "valid_dataloader = DataLoader(valid_dataset, batch_size=200, collate_fn=collate, num_workers=0)\n",
    "test_dataloader  = DataLoader(test_dataset,  batch_size=1, collate_fn=collate, num_workers=0)"
   ]
  },
  {
   "cell_type": "code",
   "execution_count": 21,
   "metadata": {},
   "outputs": [
    {
     "data": {
      "text/plain": [
       "tensor([[-0.1208]], grad_fn=<AddmmBackward0>)"
      ]
     },
     "execution_count": 21,
     "metadata": {},
     "output_type": "execute_result"
    }
   ],
   "source": [
    "net(g)"
   ]
  },
  {
   "cell_type": "markdown",
   "metadata": {},
   "source": [
    "## Training"
   ]
  },
  {
   "cell_type": "code",
   "execution_count": 22,
   "metadata": {},
   "outputs": [
    {
     "name": "stderr",
     "output_type": "stream",
     "text": [
      "  0%|          | 0/10 [00:00<?, ?it/s]"
     ]
    },
    {
     "name": "stderr",
     "output_type": "stream",
     "text": [
      " 10%|█         | 1/10 [00:47<07:07, 47.51s/it]"
     ]
    },
    {
     "name": "stdout",
     "output_type": "stream",
     "text": [
      "Epoch:  0  Train loss:  2.071965068459511  Valid loss:  1.1980252361297608\n"
     ]
    },
    {
     "name": "stderr",
     "output_type": "stream",
     "text": [
      " 20%|██        | 2/10 [01:34<06:16, 47.11s/it]"
     ]
    },
    {
     "name": "stdout",
     "output_type": "stream",
     "text": [
      "Epoch:  1  Train loss:  1.2844843119382858  Valid loss:  1.2748289465904237\n"
     ]
    },
    {
     "name": "stderr",
     "output_type": "stream",
     "text": [
      " 30%|███       | 3/10 [02:23<05:34, 47.84s/it]"
     ]
    },
    {
     "name": "stdout",
     "output_type": "stream",
     "text": [
      "Epoch:  2  Train loss:  1.2532916470766067  Valid loss:  1.0422079825401307\n"
     ]
    },
    {
     "name": "stderr",
     "output_type": "stream",
     "text": [
      " 40%|████      | 4/10 [03:12<04:51, 48.64s/it]"
     ]
    },
    {
     "name": "stdout",
     "output_type": "stream",
     "text": [
      "Epoch:  3  Train loss:  1.1889004226922988  Valid loss:  0.9888024258613587\n"
     ]
    },
    {
     "name": "stderr",
     "output_type": "stream",
     "text": [
      " 50%|█████     | 5/10 [04:00<04:01, 48.33s/it]"
     ]
    },
    {
     "name": "stdout",
     "output_type": "stream",
     "text": [
      "Epoch:  4  Train loss:  1.1573650249242782  Valid loss:  1.0841595506668091\n"
     ]
    },
    {
     "name": "stderr",
     "output_type": "stream",
     "text": [
      " 60%|██████    | 6/10 [04:48<03:12, 48.08s/it]"
     ]
    },
    {
     "name": "stdout",
     "output_type": "stream",
     "text": [
      "Epoch:  5  Train loss:  1.150634229183197  Valid loss:  1.0147600519657134\n"
     ]
    },
    {
     "name": "stderr",
     "output_type": "stream",
     "text": [
      " 70%|███████   | 7/10 [05:37<02:25, 48.41s/it]"
     ]
    },
    {
     "name": "stdout",
     "output_type": "stream",
     "text": [
      "Epoch:  6  Train loss:  1.1319922761917114  Valid loss:  1.0436562478542328\n"
     ]
    },
    {
     "name": "stderr",
     "output_type": "stream",
     "text": [
      " 80%|████████  | 8/10 [06:25<01:36, 48.44s/it]"
     ]
    },
    {
     "name": "stdout",
     "output_type": "stream",
     "text": [
      "Epoch:  7  Train loss:  1.1026429507732391  Valid loss:  0.9152409839630127\n"
     ]
    },
    {
     "name": "stderr",
     "output_type": "stream",
     "text": [
      " 90%|█████████ | 9/10 [07:14<00:48, 48.42s/it]"
     ]
    },
    {
     "name": "stdout",
     "output_type": "stream",
     "text": [
      "Epoch:  8  Train loss:  1.0908961848020553  Valid loss:  0.9656018352508545\n"
     ]
    },
    {
     "name": "stderr",
     "output_type": "stream",
     "text": [
      "100%|██████████| 10/10 [08:04<00:00, 48.41s/it]"
     ]
    },
    {
     "name": "stdout",
     "output_type": "stream",
     "text": [
      "Epoch:  9  Train loss:  1.0575290385484695  Valid loss:  0.8901155745983124\n"
     ]
    },
    {
     "name": "stderr",
     "output_type": "stream",
     "text": [
      "\n"
     ]
    }
   ],
   "source": [
    "from training import train_valid_loop\n",
    "\n",
    "train_loss, valid_loss = train_valid_loop(net, train_dataloader, valid_dataloader, 10)"
   ]
  },
  {
   "cell_type": "code",
   "execution_count": 23,
   "metadata": {},
   "outputs": [],
   "source": [
    "### Reload stored values ###\n",
    "train_loss = np.load('train_loss.npy')\n",
    "valid_loss = np.load('valid_loss.npy')"
   ]
  },
  {
   "cell_type": "code",
   "execution_count": 24,
   "metadata": {},
   "outputs": [
    {
     "data": {
      "text/plain": [
       "<All keys matched successfully>"
      ]
     },
     "execution_count": 24,
     "metadata": {},
     "output_type": "execute_result"
    }
   ],
   "source": [
    "### Load saved model ###\n",
    "net.load_state_dict(torch.load('saved_model.pt',map_location=torch.device('cpu')))"
   ]
  },
  {
   "cell_type": "code",
   "execution_count": 25,
   "metadata": {},
   "outputs": [
    {
     "data": {
      "image/png": "[encoded data removed]",
      "text/plain": [
       "<Figure size 640x480 with 1 Axes>"
      ]
     },
     "metadata": {},
     "output_type": "display_data"
    }
   ],
   "source": [
    "fig, axes = plt.subplots()\n",
    "axes.plot(range(len(train_loss)),train_loss,label='train loss')\n",
    "axes.plot(range(len(valid_loss)),valid_loss,label='valid loss')\n",
    "#axes.set_yscale('log')\n",
    "#axes.set_ylim([1e-2,1e0])\n",
    "axes.legend()\n",
    "plt.show()"
   ]
  },
  {
   "cell_type": "markdown",
   "metadata": {},
   "source": [
    "## Performance evaluation"
   ]
  },
  {
   "cell_type": "code",
   "execution_count": 26,
   "metadata": {},
   "outputs": [
    {
     "name": "stderr",
     "output_type": "stream",
     "text": [
      "100%|██████████| 20830/20830 [01:30<00:00, 230.78it/s]\n"
     ]
    }
   ],
   "source": [
    "preds, trues = [], []\n",
    "\n",
    "for i in tqdm(range(len(test_dataset))):\n",
    "    g, labels = test_dataset.__getitem__(i)\n",
    "    preds.append(net(g).detach().numpy().item())\n",
    "    trues.append(labels.item())\n",
    "\n",
    "preds = np.array(preds)\n",
    "trues = np.array(trues)"
   ]
  },
  {
   "cell_type": "markdown",
   "metadata": {},
   "source": [
    "### Predicted vs. true scatter plot"
   ]
  },
  {
   "cell_type": "code",
   "execution_count": 28,
   "metadata": {},
   "outputs": [
    {
     "data": {
      "image/png": "[encoded data removed]",
      "text/plain": [
       "<Figure size 1000x1000 with 1 Axes>"
      ]
     },
     "metadata": {},
     "output_type": "display_data"
    }
   ],
   "source": [
    "fig, axes = plt.subplots(figsize=(10,10))\n",
    "axes.scatter(trues,preds,s=0.6,c='black')\n",
    "axes.plot([0,20],[0,20],c='red',ls='--')\n",
    "axes.set_xlabel('True EDM')\n",
    "axes.set_ylabel('Predicted EDM')\n",
    "axes.set_xlim(0,20)\n",
    "axes.set_ylim(0,20)\n",
    "axes.set_aspect('equal')"
   ]
  },
  {
   "cell_type": "markdown",
   "metadata": {},
   "source": [
    "### Residual distribution"
   ]
  },
  {
   "cell_type": "code",
   "execution_count": 29,
   "metadata": {},
   "outputs": [
    {
     "data": {
      "text/plain": [
       "Text(0.5, 0, '(pred - true) / true')"
      ]
     },
     "execution_count": 29,
     "metadata": {},
     "output_type": "execute_result"
    },
    {
     "data": {
      "image/png": "[encoded data removed]",
      "text/plain": [
       "<Figure size 1000x500 with 1 Axes>"
      ]
     },
     "metadata": {},
     "output_type": "display_data"
    }
   ],
   "source": [
    "resids = (preds-trues)/(trues+1e-6)\n",
    "resids = resids[abs(resids) < 1.2]\n",
    "\n",
    "fig, axes = plt.subplots(figsize=(10,5))\n",
    "h = axes.hist(resids,bins=100,range=(-1.2,1.2),facecolor='black',alpha=0.2,density=True,lw=1,edgecolor='black')\n",
    "axes.set_xlim(-1.2,1.2)\n",
    "axes.text(0.85,0.9,'mean = {:.2f}'.format(np.mean(resids)),transform=axes.transAxes)\n",
    "axes.text(0.85,0.8,'std = {:.2f}'.format(np.std(resids)),transform=axes.transAxes)\n",
    "axes.set_xlabel('(pred - true) / true')"
   ]
  }
 ],
 "metadata": {
  "kernelspec": {
   "display_name": "base",
   "language": "python",
   "name": "python3"
  },
  "language_info": {
   "codemirror_mode": {
    "name": "ipython",
    "version": 3
   },
   "file_extension": ".py",
   "mimetype": "text/x-python",
   "name": "python",
   "nbconvert_exporter": "python",
   "pygments_lexer": "ipython3",
   "version": "3.11.6"
  },
  "orig_nbformat": 4
 },
 "nbformat": 4,
 "nbformat_minor": 2
}

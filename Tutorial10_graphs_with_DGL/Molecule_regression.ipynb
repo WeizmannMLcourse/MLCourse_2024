{
  "cells": [
    {
      "cell_type": "markdown",
      "metadata": {
        "id": "nAkQdZe5Y7Hu"
      },
      "source": [
        "# Molecule property regression with message-passing network"
      ]
    },
    {
      "cell_type": "markdown",
      "metadata": {
        "id": "1NTULZhjY7H5"
      },
      "source": [
        "### Preamble"
      ]
    },
    {
      "cell_type": "code",
      "source": [
        "### Colab\n",
        "! pip3 install  dgl -f https://data.dgl.ai/wheels/torch-2.3/cu121/repo.html"
      ],
      "metadata": {
        "colab": {
          "base_uri": "https://localhost:8080/"
        },
        "id": "JOQ8ocnrY_ZX",
        "outputId": "99b64219-799e-4722-fe7d-7bb3493d602d"
      },
      "execution_count": 1,
      "outputs": [
        {
          "output_type": "stream",
          "name": "stdout",
          "text": [
            "Looking in links: https://data.dgl.ai/wheels/torch-2.3/cu121/repo.html\n",
            "Requirement already satisfied: dgl in /usr/local/lib/python3.10/dist-packages (2.2.1+cu121)\n",
            "Requirement already satisfied: numpy>=1.14.0 in /usr/local/lib/python3.10/dist-packages (from dgl) (1.25.2)\n",
            "Requirement already satisfied: scipy>=1.1.0 in /usr/local/lib/python3.10/dist-packages (from dgl) (1.11.4)\n",
            "Requirement already satisfied: networkx>=2.1 in /usr/local/lib/python3.10/dist-packages (from dgl) (3.3)\n",
            "Requirement already satisfied: requests>=2.19.0 in /usr/local/lib/python3.10/dist-packages (from dgl) (2.31.0)\n",
            "Requirement already satisfied: tqdm in /usr/local/lib/python3.10/dist-packages (from dgl) (4.66.4)\n",
            "Requirement already satisfied: psutil>=5.8.0 in /usr/local/lib/python3.10/dist-packages (from dgl) (5.9.5)\n",
            "Requirement already satisfied: torchdata>=0.5.0 in /usr/local/lib/python3.10/dist-packages (from dgl) (0.7.1)\n",
            "Requirement already satisfied: pandas in /usr/local/lib/python3.10/dist-packages (from dgl) (2.0.3)\n",
            "Requirement already satisfied: charset-normalizer<4,>=2 in /usr/local/lib/python3.10/dist-packages (from requests>=2.19.0->dgl) (3.3.2)\n",
            "Requirement already satisfied: idna<4,>=2.5 in /usr/local/lib/python3.10/dist-packages (from requests>=2.19.0->dgl) (3.7)\n",
            "Requirement already satisfied: urllib3<3,>=1.21.1 in /usr/local/lib/python3.10/dist-packages (from requests>=2.19.0->dgl) (2.0.7)\n",
            "Requirement already satisfied: certifi>=2017.4.17 in /usr/local/lib/python3.10/dist-packages (from requests>=2.19.0->dgl) (2024.6.2)\n",
            "Requirement already satisfied: torch>=2 in /usr/local/lib/python3.10/dist-packages (from torchdata>=0.5.0->dgl) (2.3.0+cu121)\n",
            "Requirement already satisfied: python-dateutil>=2.8.2 in /usr/local/lib/python3.10/dist-packages (from pandas->dgl) (2.8.2)\n",
            "Requirement already satisfied: pytz>=2020.1 in /usr/local/lib/python3.10/dist-packages (from pandas->dgl) (2023.4)\n",
            "Requirement already satisfied: tzdata>=2022.1 in /usr/local/lib/python3.10/dist-packages (from pandas->dgl) (2024.1)\n",
            "Requirement already satisfied: six>=1.5 in /usr/local/lib/python3.10/dist-packages (from python-dateutil>=2.8.2->pandas->dgl) (1.16.0)\n",
            "Requirement already satisfied: filelock in /usr/local/lib/python3.10/dist-packages (from torch>=2->torchdata>=0.5.0->dgl) (3.14.0)\n",
            "Requirement already satisfied: typing-extensions>=4.8.0 in /usr/local/lib/python3.10/dist-packages (from torch>=2->torchdata>=0.5.0->dgl) (4.12.2)\n",
            "Requirement already satisfied: sympy in /usr/local/lib/python3.10/dist-packages (from torch>=2->torchdata>=0.5.0->dgl) (1.12.1)\n",
            "Requirement already satisfied: jinja2 in /usr/local/lib/python3.10/dist-packages (from torch>=2->torchdata>=0.5.0->dgl) (3.1.4)\n",
            "Requirement already satisfied: fsspec in /usr/local/lib/python3.10/dist-packages (from torch>=2->torchdata>=0.5.0->dgl) (2023.6.0)\n",
            "Requirement already satisfied: nvidia-cuda-nvrtc-cu12==12.1.105 in /usr/local/lib/python3.10/dist-packages (from torch>=2->torchdata>=0.5.0->dgl) (12.1.105)\n",
            "Requirement already satisfied: nvidia-cuda-runtime-cu12==12.1.105 in /usr/local/lib/python3.10/dist-packages (from torch>=2->torchdata>=0.5.0->dgl) (12.1.105)\n",
            "Requirement already satisfied: nvidia-cuda-cupti-cu12==12.1.105 in /usr/local/lib/python3.10/dist-packages (from torch>=2->torchdata>=0.5.0->dgl) (12.1.105)\n",
            "Requirement already satisfied: nvidia-cudnn-cu12==8.9.2.26 in /usr/local/lib/python3.10/dist-packages (from torch>=2->torchdata>=0.5.0->dgl) (8.9.2.26)\n",
            "Requirement already satisfied: nvidia-cublas-cu12==12.1.3.1 in /usr/local/lib/python3.10/dist-packages (from torch>=2->torchdata>=0.5.0->dgl) (12.1.3.1)\n",
            "Requirement already satisfied: nvidia-cufft-cu12==11.0.2.54 in /usr/local/lib/python3.10/dist-packages (from torch>=2->torchdata>=0.5.0->dgl) (11.0.2.54)\n",
            "Requirement already satisfied: nvidia-curand-cu12==10.3.2.106 in /usr/local/lib/python3.10/dist-packages (from torch>=2->torchdata>=0.5.0->dgl) (10.3.2.106)\n",
            "Requirement already satisfied: nvidia-cusolver-cu12==11.4.5.107 in /usr/local/lib/python3.10/dist-packages (from torch>=2->torchdata>=0.5.0->dgl) (11.4.5.107)\n",
            "Requirement already satisfied: nvidia-cusparse-cu12==12.1.0.106 in /usr/local/lib/python3.10/dist-packages (from torch>=2->torchdata>=0.5.0->dgl) (12.1.0.106)\n",
            "Requirement already satisfied: nvidia-nccl-cu12==2.20.5 in /usr/local/lib/python3.10/dist-packages (from torch>=2->torchdata>=0.5.0->dgl) (2.20.5)\n",
            "Requirement already satisfied: nvidia-nvtx-cu12==12.1.105 in /usr/local/lib/python3.10/dist-packages (from torch>=2->torchdata>=0.5.0->dgl) (12.1.105)\n",
            "Requirement already satisfied: triton==2.3.0 in /usr/local/lib/python3.10/dist-packages (from torch>=2->torchdata>=0.5.0->dgl) (2.3.0)\n",
            "Requirement already satisfied: nvidia-nvjitlink-cu12 in /usr/local/lib/python3.10/dist-packages (from nvidia-cusolver-cu12==11.4.5.107->torch>=2->torchdata>=0.5.0->dgl) (12.5.40)\n",
            "Requirement already satisfied: MarkupSafe>=2.0 in /usr/local/lib/python3.10/dist-packages (from jinja2->torch>=2->torchdata>=0.5.0->dgl) (2.1.5)\n",
            "Requirement already satisfied: mpmath<1.4.0,>=1.1.0 in /usr/local/lib/python3.10/dist-packages (from sympy->torch>=2->torchdata>=0.5.0->dgl) (1.3.0)\n"
          ]
        }
      ]
    },
    {
      "cell_type": "code",
      "execution_count": 2,
      "metadata": {
        "id": "uirSQUAPY7H5"
      },
      "outputs": [],
      "source": [
        "import numpy as np\n",
        "import matplotlib.pyplot as plt\n",
        "import torch.nn as nn\n",
        "from torch.utils.data import Dataset, DataLoader\n",
        "import torch\n",
        "import dgl\n",
        "from dgl.data import QM9EdgeDataset\n",
        "from tqdm import tqdm"
      ]
    },
    {
      "cell_type": "code",
      "execution_count": 3,
      "metadata": {
        "id": "_Z8BpmQNY7H6"
      },
      "outputs": [],
      "source": [
        "%load_ext autoreload\n",
        "%autoreload 2"
      ]
    },
    {
      "cell_type": "markdown",
      "metadata": {
        "id": "c78t3RczY7H6"
      },
      "source": [
        "## QM9EdgeDataset\n",
        "DGL provides a preloaded interface to this dataset of 130k molecules.\n",
        "- https://docs.dgl.ai/en/0.8.x/generated/dgl.data.QM9EdgeDataset.html\n",
        "- http://quantum-machine.org/datasets/\n",
        "\n",
        "We want to train a graph neural network to regress the magnitude of the electric dipole moment $|\\vec{\\mu}|$ of the molecule, where:\n",
        "\n",
        "$\\vec{\\mu} = \\sum_{i} q_i \\vec{x_i}$\n",
        "\n",
        "The atoms (nodes) in each molecule (graph) contain the following features:\n",
        "- `pos`: spatial coordinates (3 numbers)\n",
        "- `attr`: additional properties (11 numbers)\n",
        "\n",
        "For our task, we will restrict ourselves to _purely_ the spatial coordinates and the atomic number as input features."
      ]
    },
    {
      "cell_type": "code",
      "execution_count": 4,
      "metadata": {
        "colab": {
          "base_uri": "https://localhost:8080/"
        },
        "id": "IJajvPOkY7H6",
        "outputId": "0d4d4fbb-d7b3-4b52-b40a-2077ec56bf8d"
      },
      "outputs": [
        {
          "output_type": "stream",
          "name": "stdout",
          "text": [
            "Done loading data from cached files.\n"
          ]
        }
      ],
      "source": [
        "data = QM9EdgeDataset(label_keys=['mu'])"
      ]
    },
    {
      "cell_type": "code",
      "execution_count": 5,
      "metadata": {
        "colab": {
          "base_uri": "https://localhost:8080/"
        },
        "id": "HZk9KFTSY7H7",
        "outputId": "96abccbb-afe6-49b7-e0ce-b2cec8977049"
      },
      "outputs": [
        {
          "output_type": "execute_result",
          "data": {
            "text/plain": [
              "130831"
            ]
          },
          "metadata": {},
          "execution_count": 5
        }
      ],
      "source": [
        "len(data)"
      ]
    },
    {
      "cell_type": "code",
      "execution_count": 6,
      "metadata": {
        "id": "JRtxCb8fY7H7"
      },
      "outputs": [],
      "source": [
        "g, labels = data.__getitem__(100000)"
      ]
    },
    {
      "cell_type": "markdown",
      "metadata": {
        "id": "FhxL6YcuY7H8"
      },
      "source": [
        "Note: I needed `pip install --upgrade nbformat` after getting `ValueError: Mime type rendering requires nbformat>=4.2.0 but it is not installed`"
      ]
    },
    {
      "cell_type": "markdown",
      "metadata": {
        "id": "lF48apwwY7H8"
      },
      "source": [
        "## Plotly visualization\n",
        "Code in `visualizer.py`"
      ]
    },
    {
      "cell_type": "code",
      "execution_count": 7,
      "metadata": {
        "colab": {
          "base_uri": "https://localhost:8080/",
          "height": 838
        },
        "id": "yP5Y9h84Y7H8",
        "outputId": "5e722024-f9d3-4ce6-e679-234c8687d8bc"
      },
      "outputs": [
        {
          "output_type": "display_data",
          "data": {
            "text/html": [
              "<html>\n",
              "<head><meta charset=\"utf-8\" /></head>\n",
              "<body>\n",
              "    <div>            <script src=\"https://cdnjs.cloudflare.com/ajax/libs/mathjax/2.7.5/MathJax.js?config=TeX-AMS-MML_SVG\"></script><script type=\"text/javascript\">if (window.MathJax && window.MathJax.Hub && window.MathJax.Hub.Config) {window.MathJax.Hub.Config({SVG: {font: \"STIX-Web\"}});}</script>                <script type=\"text/javascript\">window.PlotlyConfig = {MathJaxConfig: 'local'};</script>\n",
              "        <script charset=\"utf-8\" src=\"https://cdn.plot.ly/plotly-2.24.1.min.js\"></script>                <div id=\"429f44ab-b72b-4c62-81d1-25527d1e8846\" class=\"plotly-graph-div\" style=\"height:800px; width:800px;\"></div>            <script type=\"text/javascript\">                                    window.PLOTLYENV=window.PLOTLYENV || {};                                    if (document.getElementById(\"429f44ab-b72b-4c62-81d1-25527d1e8846\")) {                    Plotly.newPlot(                        \"429f44ab-b72b-4c62-81d1-25527d1e8846\",                        [{\"hovertemplate\":\"\\u003cb\\u003e%{text}\\u003c\\u002fb\\u003e\\u003cbr\\u003e\",\"marker\":{\"color\":[\"black\",\"black\",\"blue\",\"black\",\"blue\",\"black\",\"blue\",\"black\",\"red\",\"white\",\"white\",\"white\",\"white\",\"white\",\"white\",\"white\",\"white\",\"white\"],\"line\":{\"color\":\"rgb(50,50,50)\",\"width\":2},\"size\":[30.0,30.0,35.0,30.0,35.0,30.0,35.0,30.0,40.0,5.0,5.0,5.0,5.0,5.0,5.0,5.0,5.0,5.0],\"symbol\":\"circle\"},\"mode\":\"markers\",\"name\":\"atom\",\"text\":[\"C\",\"C\",\"N\",\"C\",\"N\",\"C\",\"N\",\"C\",\"O\",\"H\",\"H\",\"H\",\"H\",\"H\",\"H\",\"H\",\"H\",\"H\"],\"x\":[0.9480000138282776,-0.05490000173449516,-1.4190000295639038,-2.4386000633239746,-3.6668999195098877,-1.7129000425338745,-0.9021000266075134,-2.9405999183654785,-3.424099922180176,1.941499948501587,0.6646000146865845,1.0111000537872314,-0.09969999641180038,0.2475000023841858,-2.063800096511841,-4.275700092315674,-1.2879999876022339,-3.276900053024292],\"y\":[0.426800012588501,-0.6075999736785889,-0.36980000138282776,-0.12290000170469284,-0.2563999891281128,-0.7006999850273132,-1.402999997138977,-0.0632999986410141,-0.5303999781608582,0.20970000326633453,1.4375,0.3970000147819519,-0.5949000120162964,-1.611299991607666,0.18930000066757202,0.024900000542402267,-1.5018999576568604,0.8920000195503235],\"z\":[0.07339999824762344,-0.4350999891757965,0.059700001031160355,-0.8377000093460083,-0.5288000106811523,1.3875000476837158,2.0738000869750977,2.0248000621795654,3.0239999294281006,-0.3303000032901764,-0.23639999330043793,1.1632000207901,-1.527400016784668,-0.12520000338554382,-1.8178000450134277,-1.2926000356674194,3.0157999992370605,1.5913000106811523],\"type\":\"scatter3d\"},{\"hoverinfo\":\"none\",\"line\":{\"color\":\"rgb(125,125,125,0.6)\",\"width\":3},\"mode\":\"lines\",\"x\":[0.9480000138282776,-0.05490000173449516,null,0.9480000138282776,1.941499948501587,null,0.9480000138282776,0.6646000146865845,null,0.9480000138282776,1.0111000537872314,null,-0.05490000173449516,0.9480000138282776,null,-0.05490000173449516,-1.4190000295639038,null,-0.05490000173449516,-0.09969999641180038,null,-0.05490000173449516,0.2475000023841858,null,-1.4190000295639038,-0.05490000173449516,null,-1.4190000295639038,-2.4386000633239746,null,-1.4190000295639038,-1.7129000425338745,null,-2.4386000633239746,-1.4190000295639038,null,-2.4386000633239746,-3.6668999195098877,null,-2.4386000633239746,-2.063800096511841,null,-3.6668999195098877,-2.4386000633239746,null,-3.6668999195098877,-4.275700092315674,null,-1.7129000425338745,-1.4190000295639038,null,-1.7129000425338745,-0.9021000266075134,null,-1.7129000425338745,-2.9405999183654785,null,-0.9021000266075134,-1.7129000425338745,null,-0.9021000266075134,-1.2879999876022339,null,-2.9405999183654785,-1.7129000425338745,null,-2.9405999183654785,-3.424099922180176,null,-2.9405999183654785,-3.276900053024292,null,-3.424099922180176,-2.9405999183654785,null,1.941499948501587,0.9480000138282776,null,0.6646000146865845,0.9480000138282776,null,1.0111000537872314,0.9480000138282776,null,-0.09969999641180038,-0.05490000173449516,null,0.2475000023841858,-0.05490000173449516,null,-2.063800096511841,-2.4386000633239746,null,-4.275700092315674,-3.6668999195098877,null,-1.2879999876022339,-0.9021000266075134,null,-3.276900053024292,-2.9405999183654785,null],\"y\":[0.426800012588501,-0.6075999736785889,null,0.426800012588501,0.20970000326633453,null,0.426800012588501,1.4375,null,0.426800012588501,0.3970000147819519,null,-0.6075999736785889,0.426800012588501,null,-0.6075999736785889,-0.36980000138282776,null,-0.6075999736785889,-0.5949000120162964,null,-0.6075999736785889,-1.611299991607666,null,-0.36980000138282776,-0.6075999736785889,null,-0.36980000138282776,-0.12290000170469284,null,-0.36980000138282776,-0.7006999850273132,null,-0.12290000170469284,-0.36980000138282776,null,-0.12290000170469284,-0.2563999891281128,null,-0.12290000170469284,0.18930000066757202,null,-0.2563999891281128,-0.12290000170469284,null,-0.2563999891281128,0.024900000542402267,null,-0.7006999850273132,-0.36980000138282776,null,-0.7006999850273132,-1.402999997138977,null,-0.7006999850273132,-0.0632999986410141,null,-1.402999997138977,-0.7006999850273132,null,-1.402999997138977,-1.5018999576568604,null,-0.0632999986410141,-0.7006999850273132,null,-0.0632999986410141,-0.5303999781608582,null,-0.0632999986410141,0.8920000195503235,null,-0.5303999781608582,-0.0632999986410141,null,0.20970000326633453,0.426800012588501,null,1.4375,0.426800012588501,null,0.3970000147819519,0.426800012588501,null,-0.5949000120162964,-0.6075999736785889,null,-1.611299991607666,-0.6075999736785889,null,0.18930000066757202,-0.12290000170469284,null,0.024900000542402267,-0.2563999891281128,null,-1.5018999576568604,-1.402999997138977,null,0.8920000195503235,-0.0632999986410141,null],\"z\":[0.07339999824762344,-0.4350999891757965,null,0.07339999824762344,-0.3303000032901764,null,0.07339999824762344,-0.23639999330043793,null,0.07339999824762344,1.1632000207901,null,-0.4350999891757965,0.07339999824762344,null,-0.4350999891757965,0.059700001031160355,null,-0.4350999891757965,-1.527400016784668,null,-0.4350999891757965,-0.12520000338554382,null,0.059700001031160355,-0.4350999891757965,null,0.059700001031160355,-0.8377000093460083,null,0.059700001031160355,1.3875000476837158,null,-0.8377000093460083,0.059700001031160355,null,-0.8377000093460083,-0.5288000106811523,null,-0.8377000093460083,-1.8178000450134277,null,-0.5288000106811523,-0.8377000093460083,null,-0.5288000106811523,-1.2926000356674194,null,1.3875000476837158,0.059700001031160355,null,1.3875000476837158,2.0738000869750977,null,1.3875000476837158,2.0248000621795654,null,2.0738000869750977,1.3875000476837158,null,2.0738000869750977,3.0157999992370605,null,2.0248000621795654,1.3875000476837158,null,2.0248000621795654,3.0239999294281006,null,2.0248000621795654,1.5913000106811523,null,3.0239999294281006,2.0248000621795654,null,-0.3303000032901764,0.07339999824762344,null,-0.23639999330043793,0.07339999824762344,null,1.1632000207901,0.07339999824762344,null,-1.527400016784668,-0.4350999891757965,null,-0.12520000338554382,-0.4350999891757965,null,-1.8178000450134277,-0.8377000093460083,null,-1.2926000356674194,-0.5288000106811523,null,3.0157999992370605,2.0738000869750977,null,1.5913000106811523,2.0248000621795654,null],\"type\":\"scatter3d\"}],                        {\"height\":800,\"hovermode\":\"closest\",\"legend\":{\"font\":{\"size\":10},\"orientation\":\"h\"},\"margin\":{\"t\":100},\"scene\":{\"aspectratio\":{\"x\":1,\"y\":1,\"z\":1},\"xaxis\":{\"range\":[-5,5],\"showbackground\":false,\"showgrid\":true,\"showline\":true,\"showticklabels\":true,\"visible\":true,\"zeroline\":false},\"yaxis\":{\"range\":[-5,5],\"showbackground\":false,\"showgrid\":true,\"showline\":true,\"showticklabels\":true,\"visible\":true,\"zeroline\":false},\"zaxis\":{\"range\":[-5,5],\"showbackground\":false,\"showgrid\":true,\"showline\":true,\"showticklabels\":true,\"visible\":true,\"zeroline\":false}},\"showlegend\":false,\"template\":{\"data\":{\"barpolar\":[{\"marker\":{\"line\":{\"color\":\"#E5ECF6\",\"width\":0.5},\"pattern\":{\"fillmode\":\"overlay\",\"size\":10,\"solidity\":0.2}},\"type\":\"barpolar\"}],\"bar\":[{\"error_x\":{\"color\":\"#2a3f5f\"},\"error_y\":{\"color\":\"#2a3f5f\"},\"marker\":{\"line\":{\"color\":\"#E5ECF6\",\"width\":0.5},\"pattern\":{\"fillmode\":\"overlay\",\"size\":10,\"solidity\":0.2}},\"type\":\"bar\"}],\"carpet\":[{\"aaxis\":{\"endlinecolor\":\"#2a3f5f\",\"gridcolor\":\"white\",\"linecolor\":\"white\",\"minorgridcolor\":\"white\",\"startlinecolor\":\"#2a3f5f\"},\"baxis\":{\"endlinecolor\":\"#2a3f5f\",\"gridcolor\":\"white\",\"linecolor\":\"white\",\"minorgridcolor\":\"white\",\"startlinecolor\":\"#2a3f5f\"},\"type\":\"carpet\"}],\"choropleth\":[{\"colorbar\":{\"outlinewidth\":0,\"ticks\":\"\"},\"type\":\"choropleth\"}],\"contourcarpet\":[{\"colorbar\":{\"outlinewidth\":0,\"ticks\":\"\"},\"type\":\"contourcarpet\"}],\"contour\":[{\"colorbar\":{\"outlinewidth\":0,\"ticks\":\"\"},\"colorscale\":[[0.0,\"#0d0887\"],[0.1111111111111111,\"#46039f\"],[0.2222222222222222,\"#7201a8\"],[0.3333333333333333,\"#9c179e\"],[0.4444444444444444,\"#bd3786\"],[0.5555555555555556,\"#d8576b\"],[0.6666666666666666,\"#ed7953\"],[0.7777777777777778,\"#fb9f3a\"],[0.8888888888888888,\"#fdca26\"],[1.0,\"#f0f921\"]],\"type\":\"contour\"}],\"heatmapgl\":[{\"colorbar\":{\"outlinewidth\":0,\"ticks\":\"\"},\"colorscale\":[[0.0,\"#0d0887\"],[0.1111111111111111,\"#46039f\"],[0.2222222222222222,\"#7201a8\"],[0.3333333333333333,\"#9c179e\"],[0.4444444444444444,\"#bd3786\"],[0.5555555555555556,\"#d8576b\"],[0.6666666666666666,\"#ed7953\"],[0.7777777777777778,\"#fb9f3a\"],[0.8888888888888888,\"#fdca26\"],[1.0,\"#f0f921\"]],\"type\":\"heatmapgl\"}],\"heatmap\":[{\"colorbar\":{\"outlinewidth\":0,\"ticks\":\"\"},\"colorscale\":[[0.0,\"#0d0887\"],[0.1111111111111111,\"#46039f\"],[0.2222222222222222,\"#7201a8\"],[0.3333333333333333,\"#9c179e\"],[0.4444444444444444,\"#bd3786\"],[0.5555555555555556,\"#d8576b\"],[0.6666666666666666,\"#ed7953\"],[0.7777777777777778,\"#fb9f3a\"],[0.8888888888888888,\"#fdca26\"],[1.0,\"#f0f921\"]],\"type\":\"heatmap\"}],\"histogram2dcontour\":[{\"colorbar\":{\"outlinewidth\":0,\"ticks\":\"\"},\"colorscale\":[[0.0,\"#0d0887\"],[0.1111111111111111,\"#46039f\"],[0.2222222222222222,\"#7201a8\"],[0.3333333333333333,\"#9c179e\"],[0.4444444444444444,\"#bd3786\"],[0.5555555555555556,\"#d8576b\"],[0.6666666666666666,\"#ed7953\"],[0.7777777777777778,\"#fb9f3a\"],[0.8888888888888888,\"#fdca26\"],[1.0,\"#f0f921\"]],\"type\":\"histogram2dcontour\"}],\"histogram2d\":[{\"colorbar\":{\"outlinewidth\":0,\"ticks\":\"\"},\"colorscale\":[[0.0,\"#0d0887\"],[0.1111111111111111,\"#46039f\"],[0.2222222222222222,\"#7201a8\"],[0.3333333333333333,\"#9c179e\"],[0.4444444444444444,\"#bd3786\"],[0.5555555555555556,\"#d8576b\"],[0.6666666666666666,\"#ed7953\"],[0.7777777777777778,\"#fb9f3a\"],[0.8888888888888888,\"#fdca26\"],[1.0,\"#f0f921\"]],\"type\":\"histogram2d\"}],\"histogram\":[{\"marker\":{\"pattern\":{\"fillmode\":\"overlay\",\"size\":10,\"solidity\":0.2}},\"type\":\"histogram\"}],\"mesh3d\":[{\"colorbar\":{\"outlinewidth\":0,\"ticks\":\"\"},\"type\":\"mesh3d\"}],\"parcoords\":[{\"line\":{\"colorbar\":{\"outlinewidth\":0,\"ticks\":\"\"}},\"type\":\"parcoords\"}],\"pie\":[{\"automargin\":true,\"type\":\"pie\"}],\"scatter3d\":[{\"line\":{\"colorbar\":{\"outlinewidth\":0,\"ticks\":\"\"}},\"marker\":{\"colorbar\":{\"outlinewidth\":0,\"ticks\":\"\"}},\"type\":\"scatter3d\"}],\"scattercarpet\":[{\"marker\":{\"colorbar\":{\"outlinewidth\":0,\"ticks\":\"\"}},\"type\":\"scattercarpet\"}],\"scattergeo\":[{\"marker\":{\"colorbar\":{\"outlinewidth\":0,\"ticks\":\"\"}},\"type\":\"scattergeo\"}],\"scattergl\":[{\"marker\":{\"colorbar\":{\"outlinewidth\":0,\"ticks\":\"\"}},\"type\":\"scattergl\"}],\"scattermapbox\":[{\"marker\":{\"colorbar\":{\"outlinewidth\":0,\"ticks\":\"\"}},\"type\":\"scattermapbox\"}],\"scatterpolargl\":[{\"marker\":{\"colorbar\":{\"outlinewidth\":0,\"ticks\":\"\"}},\"type\":\"scatterpolargl\"}],\"scatterpolar\":[{\"marker\":{\"colorbar\":{\"outlinewidth\":0,\"ticks\":\"\"}},\"type\":\"scatterpolar\"}],\"scatter\":[{\"fillpattern\":{\"fillmode\":\"overlay\",\"size\":10,\"solidity\":0.2},\"type\":\"scatter\"}],\"scatterternary\":[{\"marker\":{\"colorbar\":{\"outlinewidth\":0,\"ticks\":\"\"}},\"type\":\"scatterternary\"}],\"surface\":[{\"colorbar\":{\"outlinewidth\":0,\"ticks\":\"\"},\"colorscale\":[[0.0,\"#0d0887\"],[0.1111111111111111,\"#46039f\"],[0.2222222222222222,\"#7201a8\"],[0.3333333333333333,\"#9c179e\"],[0.4444444444444444,\"#bd3786\"],[0.5555555555555556,\"#d8576b\"],[0.6666666666666666,\"#ed7953\"],[0.7777777777777778,\"#fb9f3a\"],[0.8888888888888888,\"#fdca26\"],[1.0,\"#f0f921\"]],\"type\":\"surface\"}],\"table\":[{\"cells\":{\"fill\":{\"color\":\"#EBF0F8\"},\"line\":{\"color\":\"white\"}},\"header\":{\"fill\":{\"color\":\"#C8D4E3\"},\"line\":{\"color\":\"white\"}},\"type\":\"table\"}]},\"layout\":{\"annotationdefaults\":{\"arrowcolor\":\"#2a3f5f\",\"arrowhead\":0,\"arrowwidth\":1},\"autotypenumbers\":\"strict\",\"coloraxis\":{\"colorbar\":{\"outlinewidth\":0,\"ticks\":\"\"}},\"colorscale\":{\"diverging\":[[0,\"#8e0152\"],[0.1,\"#c51b7d\"],[0.2,\"#de77ae\"],[0.3,\"#f1b6da\"],[0.4,\"#fde0ef\"],[0.5,\"#f7f7f7\"],[0.6,\"#e6f5d0\"],[0.7,\"#b8e186\"],[0.8,\"#7fbc41\"],[0.9,\"#4d9221\"],[1,\"#276419\"]],\"sequential\":[[0.0,\"#0d0887\"],[0.1111111111111111,\"#46039f\"],[0.2222222222222222,\"#7201a8\"],[0.3333333333333333,\"#9c179e\"],[0.4444444444444444,\"#bd3786\"],[0.5555555555555556,\"#d8576b\"],[0.6666666666666666,\"#ed7953\"],[0.7777777777777778,\"#fb9f3a\"],[0.8888888888888888,\"#fdca26\"],[1.0,\"#f0f921\"]],\"sequentialminus\":[[0.0,\"#0d0887\"],[0.1111111111111111,\"#46039f\"],[0.2222222222222222,\"#7201a8\"],[0.3333333333333333,\"#9c179e\"],[0.4444444444444444,\"#bd3786\"],[0.5555555555555556,\"#d8576b\"],[0.6666666666666666,\"#ed7953\"],[0.7777777777777778,\"#fb9f3a\"],[0.8888888888888888,\"#fdca26\"],[1.0,\"#f0f921\"]]},\"colorway\":[\"#636efa\",\"#EF553B\",\"#00cc96\",\"#ab63fa\",\"#FFA15A\",\"#19d3f3\",\"#FF6692\",\"#B6E880\",\"#FF97FF\",\"#FECB52\"],\"font\":{\"color\":\"#2a3f5f\"},\"geo\":{\"bgcolor\":\"white\",\"lakecolor\":\"white\",\"landcolor\":\"#E5ECF6\",\"showlakes\":true,\"showland\":true,\"subunitcolor\":\"white\"},\"hoverlabel\":{\"align\":\"left\"},\"hovermode\":\"closest\",\"mapbox\":{\"style\":\"light\"},\"paper_bgcolor\":\"white\",\"plot_bgcolor\":\"#E5ECF6\",\"polar\":{\"angularaxis\":{\"gridcolor\":\"white\",\"linecolor\":\"white\",\"ticks\":\"\"},\"bgcolor\":\"#E5ECF6\",\"radialaxis\":{\"gridcolor\":\"white\",\"linecolor\":\"white\",\"ticks\":\"\"}},\"scene\":{\"xaxis\":{\"backgroundcolor\":\"#E5ECF6\",\"gridcolor\":\"white\",\"gridwidth\":2,\"linecolor\":\"white\",\"showbackground\":true,\"ticks\":\"\",\"zerolinecolor\":\"white\"},\"yaxis\":{\"backgroundcolor\":\"#E5ECF6\",\"gridcolor\":\"white\",\"gridwidth\":2,\"linecolor\":\"white\",\"showbackground\":true,\"ticks\":\"\",\"zerolinecolor\":\"white\"},\"zaxis\":{\"backgroundcolor\":\"#E5ECF6\",\"gridcolor\":\"white\",\"gridwidth\":2,\"linecolor\":\"white\",\"showbackground\":true,\"ticks\":\"\",\"zerolinecolor\":\"white\"}},\"shapedefaults\":{\"line\":{\"color\":\"#2a3f5f\"}},\"ternary\":{\"aaxis\":{\"gridcolor\":\"white\",\"linecolor\":\"white\",\"ticks\":\"\"},\"baxis\":{\"gridcolor\":\"white\",\"linecolor\":\"white\",\"ticks\":\"\"},\"bgcolor\":\"#E5ECF6\",\"caxis\":{\"gridcolor\":\"white\",\"linecolor\":\"white\",\"ticks\":\"\"}},\"title\":{\"x\":0.05},\"xaxis\":{\"automargin\":true,\"gridcolor\":\"white\",\"linecolor\":\"white\",\"ticks\":\"\",\"title\":{\"standoff\":15},\"zerolinecolor\":\"white\",\"zerolinewidth\":2},\"yaxis\":{\"automargin\":true,\"gridcolor\":\"white\",\"linecolor\":\"white\",\"ticks\":\"\",\"title\":{\"standoff\":15},\"zerolinecolor\":\"white\",\"zerolinewidth\":2}}},\"width\":800},                        {\"responsive\": true}                    ).then(function(){\n",
              "                            \n",
              "var gd = document.getElementById('429f44ab-b72b-4c62-81d1-25527d1e8846');\n",
              "var x = new MutationObserver(function (mutations, observer) {{\n",
              "        var display = window.getComputedStyle(gd).display;\n",
              "        if (!display || display === 'none') {{\n",
              "            console.log([gd, 'removed!']);\n",
              "            Plotly.purge(gd);\n",
              "            observer.disconnect();\n",
              "        }}\n",
              "}});\n",
              "\n",
              "// Listen for the removal of the full notebook cells\n",
              "var notebookContainer = gd.closest('#notebook-container');\n",
              "if (notebookContainer) {{\n",
              "    x.observe(notebookContainer, {childList: true});\n",
              "}}\n",
              "\n",
              "// Listen for the clearing of the current output cell\n",
              "var outputEl = gd.closest('.output');\n",
              "if (outputEl) {{\n",
              "    x.observe(outputEl, {childList: true});\n",
              "}}\n",
              "\n",
              "                        })                };                            </script>        </div>\n",
              "</body>\n",
              "</html>"
            ]
          },
          "metadata": {}
        }
      ],
      "source": [
        "from visualizer import draw_plotly\n",
        "draw_plotly(g)"
      ]
    },
    {
      "cell_type": "markdown",
      "metadata": {
        "id": "EhlZRiXOY7H8"
      },
      "source": [
        "## Message-passing model\n",
        "This simple graph neural network consists of three main network components:\n",
        "1) Node feature encoding\n",
        "2) Message passing blocks\n",
        "3) Graph-level prediction"
      ]
    },
    {
      "cell_type": "markdown",
      "metadata": {
        "id": "ESciZh7lY7H9"
      },
      "source": [
        "<img src=\"https://github.com/WeizmannMLcourse/MLCourse_2024/blob/main/Tutorial10_graphs_with_DGL/model.jpeg?raw=1\">"
      ]
    },
    {
      "cell_type": "code",
      "execution_count": 8,
      "metadata": {
        "id": "r0bbgaRRY7H9"
      },
      "outputs": [],
      "source": [
        "from model import MoleculeMPNN"
      ]
    },
    {
      "cell_type": "code",
      "execution_count": 9,
      "metadata": {
        "id": "3Q5iE6BdY7H9"
      },
      "outputs": [],
      "source": [
        "net = MoleculeMPNN()"
      ]
    },
    {
      "cell_type": "code",
      "execution_count": 10,
      "metadata": {
        "colab": {
          "base_uri": "https://localhost:8080/"
        },
        "id": "nNbypqXtY7H9",
        "outputId": "da6fbd07-4a00-4cdb-8049-8c769485a65f"
      },
      "outputs": [
        {
          "output_type": "execute_result",
          "data": {
            "text/plain": [
              "371713"
            ]
          },
          "metadata": {},
          "execution_count": 10
        }
      ],
      "source": [
        "### number of parameters ###\n",
        "sum(p.numel() for p in net.parameters())"
      ]
    },
    {
      "cell_type": "code",
      "execution_count": 11,
      "metadata": {
        "id": "jFphnjqnY7H9"
      },
      "outputs": [],
      "source": [
        "### Modified from https://docs.dgl.ai/en/0.2.x/tutorials/basics/4_batch.html ###\n",
        "def collate(samples):\n",
        "    # The input `samples` is a list of pairs\n",
        "    #  (graph, label).\n",
        "    graphs, labels = map(list, zip(*samples))\n",
        "    batched_graph = dgl.batch(graphs)\n",
        "    labels = torch.row_stack(labels)\n",
        "    return batched_graph, labels"
      ]
    },
    {
      "cell_type": "markdown",
      "metadata": {
        "id": "EI5LQECOY7H9"
      },
      "source": [
        "### Train-val-test splits"
      ]
    },
    {
      "cell_type": "code",
      "execution_count": 12,
      "metadata": {
        "id": "9VVvm6v0Y7H9"
      },
      "outputs": [],
      "source": [
        "train_dataset = torch.utils.data.Subset(data,range(100000))\n",
        "valid_dataset = torch.utils.data.Subset(data,range(100000,105000))\n",
        "test_dataset = torch.utils.data.Subset(data,range(110000,len(data)-1))\n",
        "\n",
        "train_dataloader = DataLoader(train_dataset, batch_size=200, shuffle=True, collate_fn=collate, num_workers=2)\n",
        "valid_dataloader = DataLoader(valid_dataset, batch_size=200, collate_fn=collate, num_workers=2)\n",
        "test_dataloader  = DataLoader(test_dataset,  batch_size=1, collate_fn=collate, num_workers=0)"
      ]
    },
    {
      "cell_type": "code",
      "execution_count": 13,
      "metadata": {
        "colab": {
          "base_uri": "https://localhost:8080/"
        },
        "id": "cqif1XIoY7H9",
        "outputId": "09660e10-01ac-48a0-9e21-f3b07dfe0ac2"
      },
      "outputs": [
        {
          "output_type": "execute_result",
          "data": {
            "text/plain": [
              "tensor([[-0.0320]], grad_fn=<AddmmBackward0>)"
            ]
          },
          "metadata": {},
          "execution_count": 13
        }
      ],
      "source": [
        "net(g)"
      ]
    },
    {
      "cell_type": "markdown",
      "metadata": {
        "id": "GNT3WNjPY7H9"
      },
      "source": [
        "## Training"
      ]
    },
    {
      "cell_type": "code",
      "execution_count": 14,
      "metadata": {
        "colab": {
          "base_uri": "https://localhost:8080/"
        },
        "id": "_x_AJZgkY7H9",
        "outputId": "bf61f92c-9fb2-4ffb-99f8-234cf773044f"
      },
      "outputs": [
        {
          "output_type": "stream",
          "name": "stdout",
          "text": [
            "Found GPU!\n"
          ]
        },
        {
          "output_type": "stream",
          "name": "stderr",
          "text": [
            "  2%|▏         | 1/60 [01:17<1:15:49, 77.10s/it]"
          ]
        },
        {
          "output_type": "stream",
          "name": "stdout",
          "text": [
            "Epoch:  0  Train loss:  2.1373814237117768  Valid loss:  1.1719223022460938\n"
          ]
        },
        {
          "output_type": "stream",
          "name": "stderr",
          "text": [
            "\r  3%|▎         | 2/60 [02:28<1:11:18, 73.77s/it]"
          ]
        },
        {
          "output_type": "stream",
          "name": "stdout",
          "text": [
            "Epoch:  1  Train loss:  1.284877939939499  Valid loss:  1.0707561659812928\n"
          ]
        },
        {
          "output_type": "stream",
          "name": "stderr",
          "text": [
            "\r  5%|▌         | 3/60 [03:32<1:06:00, 69.48s/it]"
          ]
        },
        {
          "output_type": "stream",
          "name": "stdout",
          "text": [
            "Epoch:  2  Train loss:  1.2360877474546432  Valid loss:  0.9967940056324005\n"
          ]
        },
        {
          "output_type": "stream",
          "name": "stderr",
          "text": [
            "\r  7%|▋         | 4/60 [04:37<1:02:51, 67.35s/it]"
          ]
        },
        {
          "output_type": "stream",
          "name": "stdout",
          "text": [
            "Epoch:  3  Train loss:  1.1829971894025804  Valid loss:  0.9965782284736633\n"
          ]
        },
        {
          "output_type": "stream",
          "name": "stderr",
          "text": [
            "\r  8%|▊         | 5/60 [05:40<1:00:33, 66.07s/it]"
          ]
        },
        {
          "output_type": "stream",
          "name": "stdout",
          "text": [
            "Epoch:  4  Train loss:  1.1356297882795334  Valid loss:  0.9365548741817474\n"
          ]
        },
        {
          "output_type": "stream",
          "name": "stderr",
          "text": [
            "\r 10%|█         | 6/60 [06:44<58:44, 65.27s/it]  "
          ]
        },
        {
          "output_type": "stream",
          "name": "stdout",
          "text": [
            "Epoch:  5  Train loss:  1.089813397884369  Valid loss:  0.9363656830787659\n"
          ]
        },
        {
          "output_type": "stream",
          "name": "stderr",
          "text": [
            "\r 12%|█▏        | 7/60 [07:49<57:32, 65.15s/it]"
          ]
        },
        {
          "output_type": "stream",
          "name": "stdout",
          "text": [
            "Epoch:  6  Train loss:  1.0661965841054917  Valid loss:  0.8504298961162567\n"
          ]
        },
        {
          "output_type": "stream",
          "name": "stderr",
          "text": [
            "\r 13%|█▎        | 8/60 [08:53<56:03, 64.68s/it]"
          ]
        },
        {
          "output_type": "stream",
          "name": "stdout",
          "text": [
            "Epoch:  7  Train loss:  0.9954934145212173  Valid loss:  0.9271290254592895\n"
          ]
        },
        {
          "output_type": "stream",
          "name": "stderr",
          "text": [
            "\r 15%|█▌        | 9/60 [09:55<54:23, 64.00s/it]"
          ]
        },
        {
          "output_type": "stream",
          "name": "stdout",
          "text": [
            "Epoch:  8  Train loss:  0.9656295845508576  Valid loss:  0.7943667697906495\n"
          ]
        },
        {
          "output_type": "stream",
          "name": "stderr",
          "text": [
            "\r 17%|█▋        | 10/60 [10:59<53:17, 63.96s/it]"
          ]
        },
        {
          "output_type": "stream",
          "name": "stdout",
          "text": [
            "Epoch:  9  Train loss:  0.9482388553619385  Valid loss:  0.7967459952831268\n"
          ]
        },
        {
          "output_type": "stream",
          "name": "stderr",
          "text": [
            "\r 18%|█▊        | 11/60 [12:02<52:06, 63.80s/it]"
          ]
        },
        {
          "output_type": "stream",
          "name": "stdout",
          "text": [
            "Epoch:  10  Train loss:  0.9305476485490799  Valid loss:  0.8521691370010376\n"
          ]
        },
        {
          "output_type": "stream",
          "name": "stderr",
          "text": [
            "\r 20%|██        | 12/60 [13:06<50:56, 63.67s/it]"
          ]
        },
        {
          "output_type": "stream",
          "name": "stdout",
          "text": [
            "Epoch:  11  Train loss:  0.9173530913591385  Valid loss:  0.7335980260372161\n"
          ]
        },
        {
          "output_type": "stream",
          "name": "stderr",
          "text": [
            "\r 22%|██▏       | 13/60 [14:08<49:36, 63.33s/it]"
          ]
        },
        {
          "output_type": "stream",
          "name": "stdout",
          "text": [
            "Epoch:  12  Train loss:  0.8795680512189865  Valid loss:  0.697435222864151\n"
          ]
        },
        {
          "output_type": "stream",
          "name": "stderr",
          "text": [
            "\r 23%|██▎       | 14/60 [15:13<48:46, 63.62s/it]"
          ]
        },
        {
          "output_type": "stream",
          "name": "stdout",
          "text": [
            "Epoch:  13  Train loss:  0.8339942095279693  Valid loss:  0.7317462861537933\n"
          ]
        },
        {
          "output_type": "stream",
          "name": "stderr",
          "text": [
            "\r 25%|██▌       | 15/60 [16:17<47:49, 63.76s/it]"
          ]
        },
        {
          "output_type": "stream",
          "name": "stdout",
          "text": [
            "Epoch:  14  Train loss:  0.8396145876646042  Valid loss:  0.7640520465373993\n"
          ]
        },
        {
          "output_type": "stream",
          "name": "stderr",
          "text": [
            "\r 27%|██▋       | 16/60 [17:21<46:54, 63.97s/it]"
          ]
        },
        {
          "output_type": "stream",
          "name": "stdout",
          "text": [
            "Epoch:  15  Train loss:  0.8121068925261498  Valid loss:  0.7222025287151337\n"
          ]
        },
        {
          "output_type": "stream",
          "name": "stderr",
          "text": [
            "\r 28%|██▊       | 17/60 [18:25<45:51, 63.98s/it]"
          ]
        },
        {
          "output_type": "stream",
          "name": "stdout",
          "text": [
            "Epoch:  16  Train loss:  0.7844577147960663  Valid loss:  0.6742380583286285\n"
          ]
        },
        {
          "output_type": "stream",
          "name": "stderr",
          "text": [
            "\r 30%|███       | 18/60 [19:30<44:57, 64.22s/it]"
          ]
        },
        {
          "output_type": "stream",
          "name": "stdout",
          "text": [
            "Epoch:  17  Train loss:  0.8248024591207505  Valid loss:  0.7076214981079102\n"
          ]
        },
        {
          "output_type": "stream",
          "name": "stderr",
          "text": [
            "\r 32%|███▏      | 19/60 [20:35<44:05, 64.54s/it]"
          ]
        },
        {
          "output_type": "stream",
          "name": "stdout",
          "text": [
            "Epoch:  18  Train loss:  0.8082410324215888  Valid loss:  0.6648886215686798\n"
          ]
        },
        {
          "output_type": "stream",
          "name": "stderr",
          "text": [
            "\r 33%|███▎      | 20/60 [21:40<43:08, 64.70s/it]"
          ]
        },
        {
          "output_type": "stream",
          "name": "stdout",
          "text": [
            "Epoch:  19  Train loss:  0.7349688432812691  Valid loss:  0.67251326918602\n"
          ]
        },
        {
          "output_type": "stream",
          "name": "stderr",
          "text": [
            "\r 35%|███▌      | 21/60 [22:45<41:58, 64.59s/it]"
          ]
        },
        {
          "output_type": "stream",
          "name": "stdout",
          "text": [
            "Epoch:  20  Train loss:  0.7127762414216995  Valid loss:  0.6483102381229401\n"
          ]
        },
        {
          "output_type": "stream",
          "name": "stderr",
          "text": [
            "\r 37%|███▋      | 22/60 [23:48<40:36, 64.12s/it]"
          ]
        },
        {
          "output_type": "stream",
          "name": "stdout",
          "text": [
            "Epoch:  21  Train loss:  0.7321998140811921  Valid loss:  0.7145048141479492\n"
          ]
        },
        {
          "output_type": "stream",
          "name": "stderr",
          "text": [
            "\r 38%|███▊      | 23/60 [24:51<39:25, 63.94s/it]"
          ]
        },
        {
          "output_type": "stream",
          "name": "stdout",
          "text": [
            "Epoch:  22  Train loss:  0.704736328125  Valid loss:  0.7566517043113709\n"
          ]
        },
        {
          "output_type": "stream",
          "name": "stderr",
          "text": [
            "\r 40%|████      | 24/60 [25:54<38:09, 63.60s/it]"
          ]
        },
        {
          "output_type": "stream",
          "name": "stdout",
          "text": [
            "Epoch:  23  Train loss:  0.6718028499484062  Valid loss:  0.6268106019496917\n"
          ]
        },
        {
          "output_type": "stream",
          "name": "stderr",
          "text": [
            "\r 42%|████▏     | 25/60 [26:57<37:00, 63.44s/it]"
          ]
        },
        {
          "output_type": "stream",
          "name": "stdout",
          "text": [
            "Epoch:  24  Train loss:  0.6555816075801849  Valid loss:  0.6080364346504211\n"
          ]
        },
        {
          "output_type": "stream",
          "name": "stderr",
          "text": [
            "\r 43%|████▎     | 26/60 [27:59<35:41, 62.97s/it]"
          ]
        },
        {
          "output_type": "stream",
          "name": "stdout",
          "text": [
            "Epoch:  25  Train loss:  0.6269799020290375  Valid loss:  0.6369166040420532\n"
          ]
        },
        {
          "output_type": "stream",
          "name": "stderr",
          "text": [
            "\r 45%|████▌     | 27/60 [29:02<34:38, 62.99s/it]"
          ]
        },
        {
          "output_type": "stream",
          "name": "stdout",
          "text": [
            "Epoch:  26  Train loss:  0.6260898613929748  Valid loss:  0.7376395833492279\n"
          ]
        },
        {
          "output_type": "stream",
          "name": "stderr",
          "text": [
            "\r 47%|████▋     | 28/60 [30:06<33:45, 63.30s/it]"
          ]
        },
        {
          "output_type": "stream",
          "name": "stdout",
          "text": [
            "Epoch:  27  Train loss:  0.618912609577179  Valid loss:  0.5938786208629608\n"
          ]
        },
        {
          "output_type": "stream",
          "name": "stderr",
          "text": [
            "\r 48%|████▊     | 29/60 [31:07<32:20, 62.59s/it]"
          ]
        },
        {
          "output_type": "stream",
          "name": "stdout",
          "text": [
            "Epoch:  28  Train loss:  0.594702566921711  Valid loss:  0.5842171275615692\n"
          ]
        },
        {
          "output_type": "stream",
          "name": "stderr",
          "text": [
            "\r 50%|█████     | 30/60 [32:11<31:30, 63.02s/it]"
          ]
        },
        {
          "output_type": "stream",
          "name": "stdout",
          "text": [
            "Epoch:  29  Train loss:  0.5984274877905845  Valid loss:  0.6588117158412934\n"
          ]
        },
        {
          "output_type": "stream",
          "name": "stderr",
          "text": [
            "\r 52%|█████▏    | 31/60 [33:13<30:21, 62.82s/it]"
          ]
        },
        {
          "output_type": "stream",
          "name": "stdout",
          "text": [
            "Epoch:  30  Train loss:  0.5647591924667359  Valid loss:  0.6296463596820832\n"
          ]
        },
        {
          "output_type": "stream",
          "name": "stderr",
          "text": [
            "\r 53%|█████▎    | 32/60 [34:17<29:24, 63.01s/it]"
          ]
        },
        {
          "output_type": "stream",
          "name": "stdout",
          "text": [
            "Epoch:  31  Train loss:  0.5471686210632324  Valid loss:  0.6253039801120758\n"
          ]
        },
        {
          "output_type": "stream",
          "name": "stderr",
          "text": [
            "\r 55%|█████▌    | 33/60 [35:20<28:27, 63.22s/it]"
          ]
        },
        {
          "output_type": "stream",
          "name": "stdout",
          "text": [
            "Epoch:  32  Train loss:  0.5602512351870537  Valid loss:  0.635276870727539\n"
          ]
        },
        {
          "output_type": "stream",
          "name": "stderr",
          "text": [
            "\r 57%|█████▋    | 34/60 [36:24<27:25, 63.28s/it]"
          ]
        },
        {
          "output_type": "stream",
          "name": "stdout",
          "text": [
            "Epoch:  33  Train loss:  0.8062365927100181  Valid loss:  0.6620007538795472\n"
          ]
        },
        {
          "output_type": "stream",
          "name": "stderr",
          "text": [
            "\r 58%|█████▊    | 35/60 [37:26<26:11, 62.88s/it]"
          ]
        },
        {
          "output_type": "stream",
          "name": "stdout",
          "text": [
            "Epoch:  34  Train loss:  0.5661299432516098  Valid loss:  0.5793743717670441\n"
          ]
        },
        {
          "output_type": "stream",
          "name": "stderr",
          "text": [
            "\r 60%|██████    | 36/60 [38:29<25:13, 63.04s/it]"
          ]
        },
        {
          "output_type": "stream",
          "name": "stdout",
          "text": [
            "Epoch:  35  Train loss:  0.5176665216088295  Valid loss:  0.5703039479255676\n"
          ]
        },
        {
          "output_type": "stream",
          "name": "stderr",
          "text": [
            "\r 62%|██████▏   | 37/60 [39:33<24:12, 63.14s/it]"
          ]
        },
        {
          "output_type": "stream",
          "name": "stdout",
          "text": [
            "Epoch:  36  Train loss:  0.5071779621243477  Valid loss:  0.5514023005962372\n"
          ]
        },
        {
          "output_type": "stream",
          "name": "stderr",
          "text": [
            "\r 63%|██████▎   | 38/60 [40:38<23:21, 63.72s/it]"
          ]
        },
        {
          "output_type": "stream",
          "name": "stdout",
          "text": [
            "Epoch:  37  Train loss:  0.501350862622261  Valid loss:  0.5824821281433106\n"
          ]
        },
        {
          "output_type": "stream",
          "name": "stderr",
          "text": [
            "\r 65%|██████▌   | 39/60 [41:42<22:24, 64.01s/it]"
          ]
        },
        {
          "output_type": "stream",
          "name": "stdout",
          "text": [
            "Epoch:  38  Train loss:  0.5995346313714981  Valid loss:  0.6245629918575287\n"
          ]
        },
        {
          "output_type": "stream",
          "name": "stderr",
          "text": [
            "\r 67%|██████▋   | 40/60 [42:46<21:16, 63.80s/it]"
          ]
        },
        {
          "output_type": "stream",
          "name": "stdout",
          "text": [
            "Epoch:  39  Train loss:  0.4782844253182411  Valid loss:  0.5858954238891602\n"
          ]
        },
        {
          "output_type": "stream",
          "name": "stderr",
          "text": [
            "\r 68%|██████▊   | 41/60 [43:50<20:15, 63.99s/it]"
          ]
        },
        {
          "output_type": "stream",
          "name": "stdout",
          "text": [
            "Epoch:  40  Train loss:  0.4783279913067818  Valid loss:  0.6039896774291992\n"
          ]
        },
        {
          "output_type": "stream",
          "name": "stderr",
          "text": [
            "\r 70%|███████   | 42/60 [44:55<19:17, 64.32s/it]"
          ]
        },
        {
          "output_type": "stream",
          "name": "stdout",
          "text": [
            "Epoch:  41  Train loss:  0.4488563460111618  Valid loss:  0.5467322266101837\n"
          ]
        },
        {
          "output_type": "stream",
          "name": "stderr",
          "text": [
            "\r 72%|███████▏  | 43/60 [46:00<18:16, 64.48s/it]"
          ]
        },
        {
          "output_type": "stream",
          "name": "stdout",
          "text": [
            "Epoch:  42  Train loss:  0.45517939496040344  Valid loss:  0.7355094230175019\n"
          ]
        },
        {
          "output_type": "stream",
          "name": "stderr",
          "text": [
            "\r 73%|███████▎  | 44/60 [47:04<17:09, 64.34s/it]"
          ]
        },
        {
          "output_type": "stream",
          "name": "stdout",
          "text": [
            "Epoch:  43  Train loss:  0.5034045276045799  Valid loss:  0.5499902880191803\n"
          ]
        },
        {
          "output_type": "stream",
          "name": "stderr",
          "text": [
            "\r 75%|███████▌  | 45/60 [48:08<16:03, 64.25s/it]"
          ]
        },
        {
          "output_type": "stream",
          "name": "stdout",
          "text": [
            "Epoch:  44  Train loss:  0.4330575320124626  Valid loss:  0.6694608068466187\n"
          ]
        },
        {
          "output_type": "stream",
          "name": "stderr",
          "text": [
            "\r 77%|███████▋  | 46/60 [49:15<15:11, 65.09s/it]"
          ]
        },
        {
          "output_type": "stream",
          "name": "stdout",
          "text": [
            "Epoch:  45  Train loss:  0.5452697862982749  Valid loss:  0.5458189010620117\n"
          ]
        },
        {
          "output_type": "stream",
          "name": "stderr",
          "text": [
            "\r 78%|███████▊  | 47/60 [50:19<14:00, 64.64s/it]"
          ]
        },
        {
          "output_type": "stream",
          "name": "stdout",
          "text": [
            "Epoch:  46  Train loss:  0.41515186977386476  Valid loss:  0.5676490128040313\n"
          ]
        },
        {
          "output_type": "stream",
          "name": "stderr",
          "text": [
            "\r 80%|████████  | 48/60 [51:23<12:53, 64.49s/it]"
          ]
        },
        {
          "output_type": "stream",
          "name": "stdout",
          "text": [
            "Epoch:  47  Train loss:  0.4098503211438656  Valid loss:  0.536641172170639\n"
          ]
        },
        {
          "output_type": "stream",
          "name": "stderr",
          "text": [
            "\r 82%|████████▏ | 49/60 [52:26<11:45, 64.15s/it]"
          ]
        },
        {
          "output_type": "stream",
          "name": "stdout",
          "text": [
            "Epoch:  48  Train loss:  0.39858180344104766  Valid loss:  0.5525434494018555\n"
          ]
        },
        {
          "output_type": "stream",
          "name": "stderr",
          "text": [
            "\r 83%|████████▎ | 50/60 [53:32<10:46, 64.66s/it]"
          ]
        },
        {
          "output_type": "stream",
          "name": "stdout",
          "text": [
            "Epoch:  49  Train loss:  0.41426837134361266  Valid loss:  0.532695381641388\n"
          ]
        },
        {
          "output_type": "stream",
          "name": "stderr",
          "text": [
            "\r 85%|████████▌ | 51/60 [54:36<09:38, 64.32s/it]"
          ]
        },
        {
          "output_type": "stream",
          "name": "stdout",
          "text": [
            "Epoch:  50  Train loss:  0.3789533109664917  Valid loss:  0.47935141146183013\n"
          ]
        },
        {
          "output_type": "stream",
          "name": "stderr",
          "text": [
            "\r 87%|████████▋ | 52/60 [55:39<08:33, 64.17s/it]"
          ]
        },
        {
          "output_type": "stream",
          "name": "stdout",
          "text": [
            "Epoch:  51  Train loss:  0.3777516783475876  Valid loss:  0.5243636500835419\n"
          ]
        },
        {
          "output_type": "stream",
          "name": "stderr",
          "text": [
            "\r 88%|████████▊ | 53/60 [56:43<07:27, 63.86s/it]"
          ]
        },
        {
          "output_type": "stream",
          "name": "stdout",
          "text": [
            "Epoch:  52  Train loss:  0.37182027161121367  Valid loss:  0.503716162443161\n"
          ]
        },
        {
          "output_type": "stream",
          "name": "stderr",
          "text": [
            "\r 90%|█████████ | 54/60 [57:45<06:20, 63.42s/it]"
          ]
        },
        {
          "output_type": "stream",
          "name": "stdout",
          "text": [
            "Epoch:  53  Train loss:  0.3744707393348217  Valid loss:  0.5054369544982911\n"
          ]
        },
        {
          "output_type": "stream",
          "name": "stderr",
          "text": [
            "\r 92%|█████████▏| 55/60 [58:51<05:21, 64.22s/it]"
          ]
        },
        {
          "output_type": "stream",
          "name": "stdout",
          "text": [
            "Epoch:  54  Train loss:  0.3557858644425869  Valid loss:  0.5215938258171081\n"
          ]
        },
        {
          "output_type": "stream",
          "name": "stderr",
          "text": [
            "\r 93%|█████████▎| 56/60 [59:54<04:14, 63.72s/it]"
          ]
        },
        {
          "output_type": "stream",
          "name": "stdout",
          "text": [
            "Epoch:  55  Train loss:  0.3418346831798553  Valid loss:  0.5096210515499116\n"
          ]
        },
        {
          "output_type": "stream",
          "name": "stderr",
          "text": [
            "\r 95%|█████████▌| 57/60 [1:00:57<03:10, 63.65s/it]"
          ]
        },
        {
          "output_type": "stream",
          "name": "stdout",
          "text": [
            "Epoch:  56  Train loss:  0.3559099350273609  Valid loss:  0.6122074770927429\n"
          ]
        },
        {
          "output_type": "stream",
          "name": "stderr",
          "text": [
            "\r 97%|█████████▋| 58/60 [1:01:59<02:06, 63.10s/it]"
          ]
        },
        {
          "output_type": "stream",
          "name": "stdout",
          "text": [
            "Epoch:  57  Train loss:  0.3527812341451645  Valid loss:  0.5369656765460968\n"
          ]
        },
        {
          "output_type": "stream",
          "name": "stderr",
          "text": [
            "\r 98%|█████████▊| 59/60 [1:03:04<01:03, 63.57s/it]"
          ]
        },
        {
          "output_type": "stream",
          "name": "stdout",
          "text": [
            "Epoch:  58  Train loss:  0.3374334660768509  Valid loss:  0.49677942395210267\n"
          ]
        },
        {
          "output_type": "stream",
          "name": "stderr",
          "text": [
            "100%|██████████| 60/60 [1:04:06<00:00, 64.11s/it]"
          ]
        },
        {
          "output_type": "stream",
          "name": "stdout",
          "text": [
            "Epoch:  59  Train loss:  0.32281147769093516  Valid loss:  0.495280824303627\n"
          ]
        },
        {
          "output_type": "stream",
          "name": "stderr",
          "text": [
            "\n"
          ]
        }
      ],
      "source": [
        "from training import train_valid_loop\n",
        "\n",
        "train_loss, valid_loss = train_valid_loop(net, train_dataloader, valid_dataloader, 60)"
      ]
    },
    {
      "cell_type": "code",
      "execution_count": 15,
      "metadata": {
        "id": "Y0BcRVQ6Y7H-"
      },
      "outputs": [],
      "source": [
        "### Reload stored values ###\n",
        "train_loss = np.load('train_loss.npy')\n",
        "valid_loss = np.load('valid_loss.npy')"
      ]
    },
    {
      "cell_type": "code",
      "execution_count": 16,
      "metadata": {
        "colab": {
          "base_uri": "https://localhost:8080/"
        },
        "id": "WAcPFlHQY7H-",
        "outputId": "2ff2a2eb-20cd-4325-9819-227e127ff003"
      },
      "outputs": [
        {
          "output_type": "execute_result",
          "data": {
            "text/plain": [
              "<All keys matched successfully>"
            ]
          },
          "metadata": {},
          "execution_count": 16
        }
      ],
      "source": [
        "### Load saved model ###\n",
        "net.load_state_dict(torch.load('saved_model.pt',map_location=torch.device('cpu')))"
      ]
    },
    {
      "cell_type": "code",
      "execution_count": 17,
      "metadata": {
        "colab": {
          "base_uri": "https://localhost:8080/",
          "height": 451
        },
        "id": "ddbeZOfKY7H-",
        "outputId": "9f926011-7e41-4305-c66c-a72126f1a820"
      },
      "outputs": [
        {
          "output_type": "display_data",
          "data": {
            "text/plain": [
              "<Figure size 640x480 with 1 Axes>"
            ],
            "image/png": "[encoded data removed]"
          },
          "metadata": {}
        }
      ],
      "source": [
        "fig, axes = plt.subplots()\n",
        "axes.plot(range(len(train_loss)),train_loss,label='train loss')\n",
        "axes.plot(range(len(valid_loss)),valid_loss,label='valid loss')\n",
        "#axes.set_yscale('log')\n",
        "#axes.set_ylim([1e-2,1e0])\n",
        "axes.legend()\n",
        "plt.show()"
      ]
    },
    {
      "cell_type": "markdown",
      "metadata": {
        "id": "umN4X-dPY7H-"
      },
      "source": [
        "## Performance evaluation"
      ]
    },
    {
      "cell_type": "code",
      "execution_count": 18,
      "metadata": {
        "colab": {
          "base_uri": "https://localhost:8080/"
        },
        "id": "B6nkpCzeY7H-",
        "outputId": "8d7f7d30-e4b1-426d-a75a-e48e7a445cb8"
      },
      "outputs": [
        {
          "output_type": "stream",
          "name": "stderr",
          "text": [
            "100%|██████████| 20830/20830 [05:12<00:00, 66.59it/s]\n"
          ]
        }
      ],
      "source": [
        "preds, trues = [], []\n",
        "\n",
        "for i in tqdm(range(len(test_dataset))):\n",
        "    g, labels = test_dataset.__getitem__(i)\n",
        "    preds.append(net(g).detach().numpy().item())\n",
        "    trues.append(labels.item())\n",
        "\n",
        "preds = np.array(preds)\n",
        "trues = np.array(trues)"
      ]
    },
    {
      "cell_type": "markdown",
      "metadata": {
        "id": "Q_s8cAkqY7H-"
      },
      "source": [
        "### Predicted vs. true scatter plot"
      ]
    },
    {
      "cell_type": "code",
      "execution_count": 19,
      "metadata": {
        "colab": {
          "base_uri": "https://localhost:8080/",
          "height": 876
        },
        "id": "omFNVrNZY7H-",
        "outputId": "026f88ac-354c-4f77-f955-d7ee1bae65c1"
      },
      "outputs": [
        {
          "output_type": "display_data",
          "data": {
            "text/plain": [
              "<Figure size 1000x1000 with 1 Axes>"
            ],
            "image/png": "[encoded data removed]"
          },
          "metadata": {}
        }
      ],
      "source": [
        "fig, axes = plt.subplots(figsize=(10,10))\n",
        "axes.scatter(trues,preds,s=0.6,c='black')\n",
        "axes.plot([0,20],[0,20],c='red',ls='--')\n",
        "axes.set_xlabel('True EDM')\n",
        "axes.set_ylabel('Predicted EDM')\n",
        "axes.set_xlim(0,20)\n",
        "axes.set_ylim(0,20)\n",
        "axes.set_aspect('equal')"
      ]
    },
    {
      "cell_type": "markdown",
      "metadata": {
        "id": "vqbgul_GY7H-"
      },
      "source": [
        "### Residual distribution"
      ]
    },
    {
      "cell_type": "code",
      "execution_count": 20,
      "metadata": {
        "colab": {
          "base_uri": "https://localhost:8080/",
          "height": 502
        },
        "id": "D0c80GxOY7H-",
        "outputId": "4737e1b0-351c-4915-f38f-1ef9911630fa"
      },
      "outputs": [
        {
          "output_type": "execute_result",
          "data": {
            "text/plain": [
              "Text(0.5, 0, '(pred - true) / true')"
            ]
          },
          "metadata": {},
          "execution_count": 20
        },
        {
          "output_type": "display_data",
          "data": {
            "text/plain": [
              "<Figure size 1000x500 with 1 Axes>"
            ],
            "image/png": "[encoded data removed]"
          },
          "metadata": {}
        }
      ],
      "source": [
        "resids = (preds-trues)/(trues+1e-6)\n",
        "resids = resids[abs(resids) < 1.2]\n",
        "\n",
        "fig, axes = plt.subplots(figsize=(10,5))\n",
        "h = axes.hist(resids,bins=100,range=(-1.2,1.2),facecolor='black',alpha=0.2,density=True,lw=1,edgecolor='black')\n",
        "axes.set_xlim(-1.2,1.2)\n",
        "axes.text(0.85,0.9,'mean = {:.2f}'.format(np.mean(resids)),transform=axes.transAxes)\n",
        "axes.text(0.85,0.8,'std = {:.2f}'.format(np.std(resids)),transform=axes.transAxes)\n",
        "axes.set_xlabel('(pred - true) / true')"
      ]
    }
  ],
  "metadata": {
    "kernelspec": {
      "display_name": "base",
      "language": "python",
      "name": "python3"
    },
    "language_info": {
      "codemirror_mode": {
        "name": "ipython",
        "version": 3
      },
      "file_extension": ".py",
      "mimetype": "text/x-python",
      "name": "python",
      "nbconvert_exporter": "python",
      "pygments_lexer": "ipython3",
      "version": "3.11.6"
    },
    "orig_nbformat": 4,
    "colab": {
      "provenance": []
    }
  },
  "nbformat": 4,
  "nbformat_minor": 0
}
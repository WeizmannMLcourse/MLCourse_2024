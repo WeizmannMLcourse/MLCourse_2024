{
  "cells": [
    {
      "cell_type": "code",
      "execution_count": 39,
      "metadata": {
        "collapsed": false
      },
      "outputs": [],
      "source": [
        "%matplotlib inline"
      ]
    },
    {
      "attachments": {},
      "cell_type": "markdown",
      "metadata": {},
      "source": [
        "# This nb is modified from DGL documentation\n",
        "- https://docs.dgl.ai/en/0.8.x/tutorials/blitz/1_introduction.html \n",
        "- https://docs.dgl.ai/en/0.8.x/tutorials/blitz/3_message_passing.html \\\n",
        "With some additional material..."
      ]
    },
    {
      "attachments": {},
      "cell_type": "markdown",
      "metadata": {},
      "source": [
        "\n",
        "How Does DGL Represent A Graph?\n",
        "===============================\n",
        "\n",
        "By the end of this tutorial you will be able to:\n",
        "\n",
        "-  Construct a graph in DGL from scratch.\n",
        "-  Assign node and edge features to a graph.\n",
        "-  Query properties of a DGL graph such as node degrees and\n",
        "   connectivity.\n",
        "-  Transform a DGL graph into another graph.\n",
        "-  Load and save DGL graphs.\n",
        "\n",
        "(Time estimate: 16 minutes)\n"
      ]
    },
    {
      "attachments": {},
      "cell_type": "markdown",
      "metadata": {},
      "source": [
        "DGL Graph Construction\n",
        "----------------------\n",
        "\n",
        "DGL represents a directed graph as a ``DGLGraph`` object. You can\n",
        "construct a graph by specifying the number of nodes in the graph as well\n",
        "as the list of source and destination nodes.  Nodes in the graph have\n",
        "consecutive IDs starting from 0.\n",
        "\n",
        "For instance, the following code constructs a directed star graph with 5\n",
        "leaves. The center node's ID is 0. The edges go from the\n",
        "center node to the leaves.\n",
        "\n",
        "\n"
      ]
    },
    {
      "cell_type": "code",
      "execution_count": 40,
      "metadata": {
        "collapsed": false
      },
      "outputs": [],
      "source": [
        "import dgl\n",
        "import numpy as np\n",
        "import torch\n",
        "\n",
        "g = dgl.graph(([0, 0, 0, 0, 0], [1, 2, 3, 4, 5]), num_nodes=6)\n",
        "# Equivalently, PyTorch LongTensors also work.\n",
        "g = dgl.graph((torch.LongTensor([0, 0, 0, 0, 0]), torch.LongTensor([1, 2, 3, 4, 5])), num_nodes=6)\n",
        "\n",
        "# You can omit the number of nodes argument if you can tell the number of nodes from the edge list alone.\n",
        "g = dgl.graph(([0, 0, 0, 0, 0], [1, 2, 3, 4, 5]))"
      ]
    },
    {
      "attachments": {},
      "cell_type": "markdown",
      "metadata": {},
      "source": [
        "Edges in the graph have consecutive IDs starting from 0, and are\n",
        "in the same order as the list of source and destination nodes during\n",
        "creation.\n",
        "\n",
        "\n"
      ]
    },
    {
      "cell_type": "code",
      "execution_count": 41,
      "metadata": {
        "collapsed": false
      },
      "outputs": [
        {
          "name": "stdout",
          "output_type": "stream",
          "text": [
            "(tensor([0, 0, 0, 0, 0]), tensor([1, 2, 3, 4, 5]))\n"
          ]
        }
      ],
      "source": [
        "# Print the source and destination nodes of every edge.\n",
        "print(g.edges())"
      ]
    },
    {
      "attachments": {},
      "cell_type": "markdown",
      "metadata": {},
      "source": [
        "<div class=\"alert alert-info\"><h4>Note</h4><p>``DGLGraph``'s are always directed to best fit the computation\n",
        "   pattern of graph neural networks, where the messages sent\n",
        "   from one node to the other are often different between both\n",
        "   directions. If you want to handle undirected graphs, you may consider\n",
        "   treating it as a bidirectional graph. See `Graph\n",
        "   Transformations`_ for an example of making\n",
        "   a bidirectional graph.</p></div>\n",
        "\n",
        "\n"
      ]
    },
    {
      "attachments": {},
      "cell_type": "markdown",
      "metadata": {},
      "source": [
        "### We can add and remove edges"
      ]
    },
    {
      "cell_type": "code",
      "execution_count": 42,
      "metadata": {},
      "outputs": [
        {
          "name": "stdout",
          "output_type": "stream",
          "text": [
            "(tensor([0, 0, 0, 0, 0, 1, 2, 2]), tensor([1, 2, 3, 4, 5, 0, 0, 5]))\n",
            "(tensor([0, 0, 0]), tensor([3, 4, 5]))\n"
          ]
        }
      ],
      "source": [
        "g1 = dgl.graph(([0, 0, 0, 0, 0], [1, 2, 3, 4, 5]))\n",
        "g1 = dgl.add_edges(g1, [1, 2, 2], [0, 0, 5])\n",
        "print(g1.edges())\n",
        "\n",
        "g2 = dgl.graph(([0, 0, 0, 0, 0], [1, 2, 3, 4, 5]))\n",
        "g2 = dgl.remove_edges(g2,[0,1])\n",
        "print(g2.edges())"
      ]
    },
    {
      "attachments": {},
      "cell_type": "markdown",
      "metadata": {},
      "source": [
        "### We can visualize the graph using `networkx`"
      ]
    },
    {
      "cell_type": "code",
      "execution_count": 43,
      "metadata": {},
      "outputs": [
        {
          "data": {
            "image/png": "[encoded data removed]",
            "text/plain": [
              "<Figure size 1500x500 with 3 Axes>"
            ]
          },
          "metadata": {},
          "output_type": "display_data"
        }
      ],
      "source": [
        "import networkx as nx\n",
        "import matplotlib.pyplot as plt\n",
        "\n",
        "fig, axes = plt.subplots(1, 3, figsize=(15, 5))\n",
        "\n",
        "for i, g_ in enumerate([g, g1, g2]):\n",
        "    nx.draw(g_.to_networkx(), with_labels=True, ax=axes[i])"
      ]
    },
    {
      "attachments": {},
      "cell_type": "markdown",
      "metadata": {},
      "source": [
        "### We can also convert a graph to a bidirectional one"
      ]
    },
    {
      "cell_type": "code",
      "execution_count": 44,
      "metadata": {},
      "outputs": [],
      "source": [
        "g = dgl.to_bidirected(g)"
      ]
    },
    {
      "attachments": {},
      "cell_type": "markdown",
      "metadata": {},
      "source": [
        "Assigning Node and Edge Features to Graph\n",
        "-----------------------------------------\n",
        "\n",
        "Many graph data contain attributes on nodes and edges.\n",
        "Although the types of node and edge attributes can be arbitrary in real\n",
        "world, ``DGLGraph`` only accepts attributes stored in tensors (with\n",
        "numerical contents). Consequently, an attribute of all the nodes or\n",
        "edges must have the same shape. In the context of deep learning, those\n",
        "attributes are often called *features*.\n",
        "\n",
        "You can assign and retrieve node and edge features via ``ndata`` and\n",
        "``edata`` interface.\n",
        "\n",
        "\n"
      ]
    },
    {
      "cell_type": "code",
      "execution_count": 45,
      "metadata": {
        "collapsed": false
      },
      "outputs": [
        {
          "name": "stdout",
          "output_type": "stream",
          "text": [
            "tensor([[ 0.1839, -1.4032, -0.5300, -1.0968],\n",
            "        [-0.5715,  0.9698,  1.7552,  0.0919],\n",
            "        [ 1.9893,  0.3549,  0.4737,  1.0044],\n",
            "        [ 0.8567, -1.6130, -1.8468,  0.1931],\n",
            "        [-0.2605,  1.2040, -0.9464, -0.5368],\n",
            "        [-0.0244,  0.0705, -0.8480, -1.0355],\n",
            "        [ 2.5281, -0.4872,  0.4697,  2.3219],\n",
            "        [ 1.4906,  1.6954,  2.0233,  1.0748],\n",
            "        [ 0.1077,  0.0708, -0.5470, -0.2120],\n",
            "        [-0.9596,  0.8414, -1.3071,  0.4107]])\n"
          ]
        }
      ],
      "source": [
        "# Assign a 3-dimensional node feature vector for each node.\n",
        "g.ndata['x'] = torch.randn(6, 3)\n",
        "# Assign a 4-dimensional edge feature vector for each edge.\n",
        "g.edata['a'] = torch.randn(g.num_edges(), 4)\n",
        "# Assign a 5x4 node feature matrix for each node.  Node and edge features in DGL can be multi-dimensional.\n",
        "g.ndata['y'] = torch.randn(6, 5, 4)\n",
        "\n",
        "print(g.edata['a'])"
      ]
    },
    {
      "attachments": {},
      "cell_type": "markdown",
      "metadata": {},
      "source": [
        "<div class=\"alert alert-info\"><h4>Note</h4><p>The vast development of deep learning has provided us many\n",
        "   ways to encode various types of attributes into numerical features.\n",
        "   Here are some general suggestions:\n",
        "\n",
        "   -  For categorical attributes (e.g. gender, occupation), consider\n",
        "      converting them to integers or one-hot encoding.\n",
        "   -  For variable length string contents (e.g. news article, quote),\n",
        "      consider applying a language model.\n",
        "   -  For images, consider applying a vision model such as CNNs.\n",
        "\n",
        "   You can find plenty of materials on how to encode such attributes\n",
        "   into a tensor in the `PyTorch Deep Learning\n",
        "   Tutorials <https://pytorch.org/tutorials/>`__.</p></div>\n",
        "\n",
        "\n"
      ]
    },
    {
      "attachments": {},
      "cell_type": "markdown",
      "metadata": {},
      "source": [
        "Querying Graph Structures\n",
        "-------------------------\n",
        "\n",
        "``DGLGraph`` object provides various methods to query a graph structure.\n",
        "\n",
        "\n"
      ]
    },
    {
      "cell_type": "code",
      "execution_count": 46,
      "metadata": {
        "collapsed": false
      },
      "outputs": [
        {
          "name": "stdout",
          "output_type": "stream",
          "text": [
            "6\n",
            "10\n",
            "5\n",
            "5\n"
          ]
        }
      ],
      "source": [
        "print(g.num_nodes())\n",
        "print(g.num_edges())\n",
        "# Out degrees of the center node\n",
        "print(g.out_degrees(0))\n",
        "# In degrees of the center node - note that the graph is undirected so the in and out degrees should match\n",
        "print(g.in_degrees(0))"
      ]
    },
    {
      "attachments": {},
      "cell_type": "markdown",
      "metadata": {},
      "source": [
        "# Message passing"
      ]
    },
    {
      "attachments": {},
      "cell_type": "markdown",
      "metadata": {},
      "source": [
        "<img src=\"./messages.jpeg\"  width=\"500\" height=\"665\">"
      ]
    },
    {
      "attachments": {},
      "cell_type": "markdown",
      "metadata": {},
      "source": [
        "### In DGL the `update_all` function can be used to perform all three steps in one go"
      ]
    },
    {
      "attachments": {},
      "cell_type": "markdown",
      "metadata": {},
      "source": [
        "### First load some ones onto all the nodes"
      ]
    },
    {
      "cell_type": "code",
      "execution_count": 47,
      "metadata": {},
      "outputs": [
        {
          "name": "stdout",
          "output_type": "stream",
          "text": [
            "tensor([[1., 1., 1., 1.],\n",
            "        [1., 1., 1., 1.],\n",
            "        [1., 1., 1., 1.],\n",
            "        [1., 1., 1., 1.],\n",
            "        [1., 1., 1., 1.],\n",
            "        [1., 1., 1., 1.]])\n"
          ]
        }
      ],
      "source": [
        "import dgl.function as fn\n",
        "\n",
        "ones = torch.ones(4)\n",
        "g.ndata['count'] = dgl.broadcast_nodes(g, ones)\n",
        "print(g.ndata['count'])"
      ]
    },
    {
      "attachments": {},
      "cell_type": "markdown",
      "metadata": {},
      "source": [
        "### Then for each node, let's add up its neighbors"
      ]
    },
    {
      "cell_type": "code",
      "execution_count": 48,
      "metadata": {},
      "outputs": [],
      "source": [
        "g.update_all(\n",
        "    fn.copy_u('count', 'm'), # <-- propagate\n",
        "    fn.sum('m', 'sum')       # <-- aggregate\n",
        "    )"
      ]
    },
    {
      "attachments": {},
      "cell_type": "markdown",
      "metadata": {},
      "source": [
        "### Let's look at the resulting feature"
      ]
    },
    {
      "cell_type": "code",
      "execution_count": 49,
      "metadata": {},
      "outputs": [
        {
          "name": "stdout",
          "output_type": "stream",
          "text": [
            "tensor([[5., 5., 5., 5.],\n",
            "        [1., 1., 1., 1.],\n",
            "        [1., 1., 1., 1.],\n",
            "        [1., 1., 1., 1.],\n",
            "        [1., 1., 1., 1.],\n",
            "        [1., 1., 1., 1.]])\n"
          ]
        }
      ],
      "source": [
        "print(g.ndata['sum'])"
      ]
    },
    {
      "attachments": {},
      "cell_type": "markdown",
      "metadata": {},
      "source": [
        "### We can define our own custom aggregate function"
      ]
    },
    {
      "cell_type": "code",
      "execution_count": 50,
      "metadata": {},
      "outputs": [],
      "source": [
        "### For aggregating, DGL assumes that the input is the set of nodes\n",
        "def my_function(nodes):\n",
        "    mail = nodes.mailbox['m']\n",
        "    my_sum = torch.sum(mail,dim=1) / g.num_nodes()\n",
        "\n",
        "    ### It should return a dictionary representing the name and the value of the (new) node feature\n",
        "    return {'my sum': my_sum}"
      ]
    },
    {
      "cell_type": "code",
      "execution_count": 51,
      "metadata": {},
      "outputs": [],
      "source": [
        "g.update_all(\n",
        "    fn.copy_u('count', 'm'), # <-- propagate\n",
        "    my_function              # <-- aggregate\n",
        "    )"
      ]
    },
    {
      "cell_type": "code",
      "execution_count": 52,
      "metadata": {},
      "outputs": [
        {
          "name": "stdout",
          "output_type": "stream",
          "text": [
            "tensor([[0.8333, 0.8333, 0.8333, 0.8333],\n",
            "        [0.1667, 0.1667, 0.1667, 0.1667],\n",
            "        [0.1667, 0.1667, 0.1667, 0.1667],\n",
            "        [0.1667, 0.1667, 0.1667, 0.1667],\n",
            "        [0.1667, 0.1667, 0.1667, 0.1667],\n",
            "        [0.1667, 0.1667, 0.1667, 0.1667]])\n"
          ]
        }
      ],
      "source": [
        "print(g.ndata['my sum'])"
      ]
    },
    {
      "attachments": {},
      "cell_type": "markdown",
      "metadata": {},
      "source": [
        "### Similarly, we can create our own propagation function"
      ]
    },
    {
      "cell_type": "code",
      "execution_count": 53,
      "metadata": {},
      "outputs": [],
      "source": [
        "### For propagating, DGL assumes that the input is the set of edges\n",
        "def propagate(edges):\n",
        "\n",
        "    ### It should return a dictionary representing the name and the value of the (new) edge feature\n",
        "    return {'m': edges.src['count'], 'a': edges.data['a']}"
      ]
    },
    {
      "cell_type": "code",
      "execution_count": 54,
      "metadata": {},
      "outputs": [],
      "source": [
        "### A second example of custom aggregation function (weighted sum)\n",
        "def sum_count_times_a(nodes):\n",
        "    mail      = nodes.mailbox['m']\n",
        "    edge_mail = nodes.mailbox['a']\n",
        "\n",
        "    #edge-weighted sum\n",
        "    my_sum    = torch.sum(mail * edge_mail, dim=1)\n",
        "\n",
        "    return {'my sum': my_sum}"
      ]
    },
    {
      "cell_type": "code",
      "execution_count": 55,
      "metadata": {},
      "outputs": [],
      "source": [
        "g.update_all(\n",
        "    propagate,         # <-- propagate\n",
        "    sum_count_times_a  # <-- aggregate\n",
        "    )"
      ]
    },
    {
      "cell_type": "code",
      "execution_count": 56,
      "metadata": {},
      "outputs": [
        {
          "name": "stdout",
          "output_type": "stream",
          "text": [
            "tensor([[ 3.1423,  2.1908, -0.2091,  2.5598],\n",
            "        [ 0.1839, -1.4032, -0.5300, -1.0968],\n",
            "        [-0.5715,  0.9698,  1.7552,  0.0919],\n",
            "        [ 1.9893,  0.3549,  0.4737,  1.0044],\n",
            "        [ 0.8567, -1.6130, -1.8468,  0.1931],\n",
            "        [-0.2605,  1.2040, -0.9464, -0.5368]])\n"
          ]
        }
      ],
      "source": [
        "print(g.ndata['my sum'])"
      ]
    }
  ],
  "metadata": {
    "kernelspec": {
      "display_name": "Python 3",
      "language": "python",
      "name": "python3"
    },
    "language_info": {
      "codemirror_mode": {
        "name": "ipython",
        "version": 3
      },
      "file_extension": ".py",
      "mimetype": "text/x-python",
      "name": "python",
      "nbconvert_exporter": "python",
      "pygments_lexer": "ipython3",
      "version": "3.11.6"
    }
  },
  "nbformat": 4,
  "nbformat_minor": 0
}

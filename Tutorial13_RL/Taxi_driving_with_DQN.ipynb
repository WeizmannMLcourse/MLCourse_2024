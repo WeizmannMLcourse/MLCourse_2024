{
 "cells": [
  {
   "cell_type": "markdown",
   "metadata": {},
   "source": [
    "## Taxi driving with DQN"
   ]
  },
  {
   "cell_type": "code",
   "execution_count": 1,
   "metadata": {},
   "outputs": [],
   "source": [
    "#!pip install gymnasium"
   ]
  },
  {
   "cell_type": "code",
   "execution_count": 106,
   "metadata": {},
   "outputs": [],
   "source": [
    "import gymnasium as gym\n",
    "import numpy as np\n",
    "import torch\n",
    "from torch import nn\n",
    "from PIL import Image\n",
    "import random\n",
    "import torch.nn.functional as F\n",
    "import torchvision.transforms as T\n",
    "import matplotlib.pyplot as plt\n",
    "from matplotlib import animation, rc\n",
    "from IPython.display import HTML\n",
    "from IPython.display import clear_output\n",
    "from time import sleep\n",
    "from tqdm import tqdm"
   ]
  },
  {
   "cell_type": "markdown",
   "metadata": {},
   "source": [
    "## The task: taxi-v3 from openai gym\n",
    "\n",
    "This task involves driving a taxi on a 5x5 grid to pick up a passanger from 1 location and drop him off at a destination\\\n",
    "There is a more detailed explanation of the game here: \n",
    "https://gymnasium.farama.org/environments/toy_text/taxi/\n",
    "\n",
    "Pictures and another solution can be found here: \n",
    "https://medium.com/mlearning-ai/deep-q-learning-with-pytorch-and-openai-gym-the-taxi-cab-puzzle-e7a3028f732"
   ]
  },
  {
   "attachments": {
    "image.png": {
     "image/png": "[encoded data removed]"
    }
   },
   "cell_type": "markdown",
   "metadata": {},
   "source": [
    "![image.png](attachment:image.png)"
   ]
  },
  {
   "cell_type": "code",
   "execution_count": 107,
   "metadata": {},
   "outputs": [],
   "source": [
    "env = gym.make(\"Taxi-v3\", render_mode=\"ansi\").env\n",
    "env.reset();"
   ]
  },
  {
   "cell_type": "markdown",
   "metadata": {},
   "source": [
    "We have 6 possible actions:\n",
    "- 0 = Move South\n",
    "- 1 = Move North\n",
    "- 2 = Move East\n",
    "- 3 = Move West\n",
    "- 4 = Pickup passenger\n",
    "- 5 = Dropoff passenger"
   ]
  },
  {
   "cell_type": "code",
   "execution_count": 108,
   "metadata": {},
   "outputs": [
    {
     "data": {
      "text/plain": [
       "Discrete(6)"
      ]
     },
     "execution_count": 108,
     "metadata": {},
     "output_type": "execute_result"
    }
   ],
   "source": [
    "env.action_space"
   ]
  },
  {
   "cell_type": "markdown",
   "metadata": {},
   "source": [
    "And 500 possible states:\n",
    "- 25 possible locations for the taxi\n",
    "- 5 possible locations for the passanger\n",
    "- 4 possible destinations for the passanger\n"
   ]
  },
  {
   "cell_type": "code",
   "execution_count": 109,
   "metadata": {},
   "outputs": [
    {
     "data": {
      "text/plain": [
       "Discrete(500)"
      ]
     },
     "execution_count": 109,
     "metadata": {},
     "output_type": "execute_result"
    }
   ],
   "source": [
    "env.observation_space"
   ]
  },
  {
   "cell_type": "code",
   "execution_count": 113,
   "metadata": {},
   "outputs": [
    {
     "name": "stdout",
     "output_type": "stream",
     "text": [
      "+---------+\n",
      "|R:\u001b[43m \u001b[0m| : :G|\n",
      "| : | : : |\n",
      "| : : : : |\n",
      "| | : | : |\n",
      "|\u001b[34;1mY\u001b[0m| : |\u001b[35mB\u001b[0m: |\n",
      "+---------+\n",
      "\n",
      "\n"
     ]
    }
   ],
   "source": [
    "env.reset()\n",
    "print(env.render())"
   ]
  },
  {
   "cell_type": "markdown",
   "metadata": {},
   "source": [
    "### We can do steps in our environment like this:\n",
    "```python\n",
    "env.step(action) # take a step in the environment\n",
    "```\n",
    "It returns:\n",
    "- observation: the new state of the environment (number from 0 to 499)\n",
    "- reward: the reward for the action\n",
    "- terminated: if the episode is over\n",
    "- truncated: if the episode was ended because it reached the maximum number of steps\n",
    "- info: additional information"
   ]
  },
  {
   "cell_type": "code",
   "execution_count": 114,
   "metadata": {},
   "outputs": [
    {
     "name": "stdout",
     "output_type": "stream",
     "text": [
      "+---------+\n",
      "|\u001b[34;1mR\u001b[0m: | : :G|\n",
      "| : | : : |\n",
      "| : : : : |\n",
      "|\u001b[43m \u001b[0m| : | : |\n",
      "|\u001b[35mY\u001b[0m| : |B: |\n",
      "+---------+\n",
      "\n",
      "\n",
      "+---------+\n",
      "|\u001b[34;1mR\u001b[0m: | : :G|\n",
      "| : | : : |\n",
      "|\u001b[43m \u001b[0m: : : : |\n",
      "| | : | : |\n",
      "|\u001b[35mY\u001b[0m| : |B: |\n",
      "+---------+\n",
      "  (North)\n",
      "\n"
     ]
    }
   ],
   "source": [
    "env.reset()\n",
    "print(env.render())\n",
    "env.step(1)\n",
    "print(env.render())"
   ]
  },
  {
   "cell_type": "markdown",
   "metadata": {},
   "source": [
    "Rewards:\n",
    "- -1 per step unless other reward is triggered.\n",
    "- +20 delivering passenger.\n",
    "- -10 executing “pickup” and “drop-off” actions illegally."
   ]
  },
  {
   "cell_type": "code",
   "execution_count": 115,
   "metadata": {},
   "outputs": [
    {
     "name": "stdout",
     "output_type": "stream",
     "text": [
      "+---------+\n",
      "|\u001b[35mR\u001b[0m: | : :\u001b[34;1mG\u001b[0m|\n",
      "| : | : : |\n",
      "| : : : : |\n",
      "| | : | : |\n",
      "|\u001b[43mY\u001b[0m| : |B: |\n",
      "+---------+\n",
      "\n",
      "\n",
      "Just move:  -1\n",
      "+---------+\n",
      "|\u001b[35mR\u001b[0m: | : :\u001b[34;1mG\u001b[0m|\n",
      "| : | : : |\n",
      "| : : : : |\n",
      "|\u001b[43m \u001b[0m| : | : |\n",
      "|Y| : |B: |\n",
      "+---------+\n",
      "  (North)\n",
      "\n",
      "Wrong pickup/dropoff:  -10\n"
     ]
    }
   ],
   "source": [
    "env.reset()\n",
    "print(env.render())\n",
    "print(\"Just move: \", env.step(1)[1])\n",
    "print(env.render())\n",
    "print(\"Wrong pickup/dropoff: \", env.step(5)[1])"
   ]
  },
  {
   "cell_type": "markdown",
   "metadata": {},
   "source": [
    "## Let's see a random game being played, where the actions is chosen randomly\n",
    "\n",
    "Notice that the environment gives -1 reward for each time step where you don't finish the task, -10 reward for incorrect dropoff/pickup and +20 points for finishing the task.\n",
    "\n",
    "The random agent can take a long time to finish the task - if you see this game being played for more than 1000+ steps, feel free to kill it and try again. sometimes it mananges to finish in under 1000 steps."
   ]
  },
  {
   "cell_type": "code",
   "execution_count": 116,
   "metadata": {},
   "outputs": [],
   "source": [
    "def play_game(render=False, sleep_time=0.0):\n",
    "    done = False\n",
    "    steps = 0\n",
    "    state = env.reset()\n",
    "    while not done:\n",
    "        steps += 1\n",
    "        clear_output(wait=True)\n",
    "        next_state, reward, terminated, truncated, env_info = env.step(\n",
    "            env.action_space.sample()\n",
    "        )\n",
    "        if render:\n",
    "            print(env.render())\n",
    "            print(\"steps \", steps, \" reward \", reward)\n",
    "            sleep(sleep_time)\n",
    "        done = terminated or truncated\n",
    "        if done:\n",
    "            if render:\n",
    "                print(\"done!\")\n",
    "            return steps\n",
    "        else:\n",
    "            state = next_state\n",
    "\n",
    "    return -99"
   ]
  },
  {
   "cell_type": "code",
   "execution_count": 117,
   "metadata": {},
   "outputs": [
    {
     "name": "stdout",
     "output_type": "stream",
     "text": [
      "+---------+\n",
      "|\u001b[35mR\u001b[0m: | : :\u001b[34;1mG\u001b[0m|\n",
      "| : | : : |\n",
      "| : : :\u001b[43m \u001b[0m: |\n",
      "| | : | : |\n",
      "|Y| : |B: |\n",
      "+---------+\n",
      "  (Pickup)\n",
      "\n",
      "steps  282  reward  -10\n"
     ]
    },
    {
     "ename": "KeyboardInterrupt",
     "evalue": "",
     "output_type": "error",
     "traceback": [
      "\u001b[0;31m---------------------------------------------------------------------------\u001b[0m",
      "\u001b[0;31mKeyboardInterrupt\u001b[0m                         Traceback (most recent call last)",
      "Cell \u001b[0;32mIn[117], line 1\u001b[0m\n\u001b[0;32m----> 1\u001b[0m \u001b[43mplay_game\u001b[49m\u001b[43m(\u001b[49m\u001b[43mrender\u001b[49m\u001b[38;5;241;43m=\u001b[39;49m\u001b[38;5;28;43;01mTrue\u001b[39;49;00m\u001b[43m,\u001b[49m\u001b[43m \u001b[49m\u001b[43msleep_time\u001b[49m\u001b[38;5;241;43m=\u001b[39;49m\u001b[38;5;241;43m0.05\u001b[39;49m\u001b[43m)\u001b[49m\n",
      "Cell \u001b[0;32mIn[116], line 14\u001b[0m, in \u001b[0;36mplay_game\u001b[0;34m(render, sleep_time)\u001b[0m\n\u001b[1;32m     12\u001b[0m     \u001b[38;5;28mprint\u001b[39m(env\u001b[38;5;241m.\u001b[39mrender())\n\u001b[1;32m     13\u001b[0m     \u001b[38;5;28mprint\u001b[39m(\u001b[38;5;124m\"\u001b[39m\u001b[38;5;124msteps \u001b[39m\u001b[38;5;124m\"\u001b[39m, steps, \u001b[38;5;124m\"\u001b[39m\u001b[38;5;124m reward \u001b[39m\u001b[38;5;124m\"\u001b[39m, reward)\n\u001b[0;32m---> 14\u001b[0m     \u001b[43msleep\u001b[49m\u001b[43m(\u001b[49m\u001b[43msleep_time\u001b[49m\u001b[43m)\u001b[49m\n\u001b[1;32m     15\u001b[0m done \u001b[38;5;241m=\u001b[39m terminated \u001b[38;5;129;01mor\u001b[39;00m truncated\n\u001b[1;32m     16\u001b[0m \u001b[38;5;28;01mif\u001b[39;00m done:\n",
      "\u001b[0;31mKeyboardInterrupt\u001b[0m: "
     ]
    }
   ],
   "source": [
    "play_game(render=True, sleep_time=0.05)"
   ]
  },
  {
   "cell_type": "markdown",
   "metadata": {},
   "source": [
    "## we can train an agent to \"solve\" this task in about 30 seconds using Q-learning (no neural network). \n",
    "\n",
    "\n",
    "This is because there are only 500 possible states in the game. We solve the game by creating a 500x6 matrix, where each state in the game (described by an integer between 0 and 499) has a quality value to each possible action. the max value determines which action we will take.\n",
    "\n",
    "We start with all 0 \"Q values\" and start playing games randomly, updating the q values based on the rewards we observe, a quick but clear description of this algorithm you can read here:\n",
    "https://learndatasci.com/tutorials/reinforcement-q-learning-scratch-python-openai-gym/\n",
    "\n",
    "This algorithm learns to solve the task well in about 30 seconds of \"training\""
   ]
  },
  {
   "cell_type": "markdown",
   "metadata": {},
   "source": [
    "![](q_table.jpeg)"
   ]
  },
  {
   "cell_type": "code",
   "execution_count": 118,
   "metadata": {},
   "outputs": [],
   "source": [
    "# start with the all zeros table,\n",
    "q_table = np.zeros([env.observation_space.n, env.action_space.n])"
   ]
  },
  {
   "cell_type": "markdown",
   "metadata": {},
   "source": [
    "We know the formula for Q:\n",
    "$$\n",
    "Q(s,a) = r + \\gamma \\cdot (r_{t+1} + \\gamma \\cdot (r_{t+2} + \\gamma \\cdot (r_{t+3} + \\ldots)))\n",
    "$$\n",
    "Which is equal to the reward of the current action plus the discounted reward of the next action.\n",
    "$$\n",
    "Q(s,a) = r + \\gamma \\cdot Q(s',a')\n",
    "$$"
   ]
  },
  {
   "cell_type": "markdown",
   "metadata": {},
   "source": [
    "To update Q-table we will use the following formula:\n",
    "$$\n",
    "Q(s,a) \\leftarrow Q(s,a) + \\alpha \\cdot (r + \\gamma \\cdot \\max_{a'} Q(s',a') - Q(s,a))\n",
    "$$\n",
    "\n",
    "Where:\n",
    "- $Q(s,a)$ is the current Q-value for the state-action pair\n",
    "- $r$ is the reward for the action\n",
    "- $\\alpha$ is the learning rate\n",
    "- $\\gamma$ is the discount factor\n",
    "- $Q(s',a')$ is the Q-value for the next state-action pair\n",
    "\n",
    "If we put $\\alpha = 1$, we will obtain regular Bellman equation\n",
    "$$\n",
    "Q(s,a) = r + \\gamma \\cdot \\max_{a'} Q(s',a')\n",
    "$$"
   ]
  },
  {
   "cell_type": "markdown",
   "metadata": {},
   "source": [
    "If we select next state based only on Q-table we could fail into a local minimum and not cover all possible states. \n",
    "\n",
    "To avoid this we will use epsilon-greedy policy. This means that we will select next state based on Q-table with probability 1-epsilon and with probability epsilon we will select random state.\n",
    "\n",
    "![](Epsilon-Greedy-DQN.jpg)"
   ]
  },
  {
   "cell_type": "code",
   "execution_count": 119,
   "metadata": {},
   "outputs": [],
   "source": [
    "# training parameters\n",
    "alpha = 0.1\n",
    "gamma = 0.6\n",
    "epsilon = 0.1"
   ]
  },
  {
   "cell_type": "code",
   "execution_count": 120,
   "metadata": {},
   "outputs": [
    {
     "name": "stdout",
     "output_type": "stream",
     "text": [
      "Episode: 100000\n"
     ]
    }
   ],
   "source": [
    "steps_per_game = []\n",
    "\n",
    "for i in range(1, 100001):\n",
    "    state, info = env.reset()\n",
    "\n",
    "    (\n",
    "        epochs,\n",
    "        penalties,\n",
    "        reward,\n",
    "    ) = (\n",
    "        0,\n",
    "        0,\n",
    "        0,\n",
    "    )\n",
    "    done = False\n",
    "    steps = 0\n",
    "\n",
    "    while not done:\n",
    "        steps += 1\n",
    "        if random.uniform(0, 1) < epsilon:\n",
    "            action = env.action_space.sample()  # Explore action space\n",
    "        else:\n",
    "            action = np.argmax(q_table[state])  # Exploit learned values\n",
    "\n",
    "        next_state, reward, terminated, truncated, info = env.step(action)\n",
    "        done = terminated or truncated\n",
    "\n",
    "        old_value = q_table[state, action]\n",
    "        next_max = np.max(q_table[next_state])\n",
    "\n",
    "        new_value = (1 - alpha) * old_value + alpha * (reward + gamma * next_max)\n",
    "        q_table[state, action] = new_value\n",
    "\n",
    "        state = next_state\n",
    "\n",
    "        if done:\n",
    "            steps_per_game.append(steps)\n",
    "\n",
    "    if i % 100 == 0:\n",
    "        clear_output(wait=True)\n",
    "        print(f\"Episode: {i}\")"
   ]
  },
  {
   "cell_type": "code",
   "execution_count": 121,
   "metadata": {},
   "outputs": [
    {
     "data": {
      "image/png": "[encoded data removed]",
      "text/plain": [
       "<Figure size 640x480 with 1 Axes>"
      ]
     },
     "metadata": {},
     "output_type": "display_data"
    }
   ],
   "source": [
    "# We can see that over the first 100 games the number of steps it takes to finish the game dropped dramatically\n",
    "\n",
    "plt.plot(steps_per_game[:600])\n",
    "plt.title(\"Steps per game\")\n",
    "plt.show()"
   ]
  },
  {
   "cell_type": "markdown",
   "metadata": {},
   "source": [
    "### Once trained, we can see our q-table agent play the game almost perfectly"
   ]
  },
  {
   "cell_type": "code",
   "execution_count": 122,
   "metadata": {},
   "outputs": [
    {
     "name": "stdout",
     "output_type": "stream",
     "text": [
      "+---------+\n",
      "|\u001b[35m\u001b[34;1m\u001b[43mR\u001b[0m\u001b[0m\u001b[0m: | : :G|\n",
      "| : | : : |\n",
      "| : : : : |\n",
      "| | : | : |\n",
      "|Y| : |B: |\n",
      "+---------+\n",
      "  (Dropoff)\n",
      "\n",
      "steps  18\n",
      "done!\n"
     ]
    }
   ],
   "source": [
    "def play_game(render=False, sleep_time=0.0):\n",
    "    done = False\n",
    "    steps = 0\n",
    "    state, _ = env.reset()\n",
    "    while not done:\n",
    "        steps += 1\n",
    "        clear_output(wait=True)\n",
    "        next_state, _, terminated, truncated, _ = env.step(np.argmax(q_table[state]))\n",
    "        if render:\n",
    "            print(env.render())\n",
    "            print(\"steps \", steps)\n",
    "        done = terminated or truncated\n",
    "        if done:\n",
    "            if render:\n",
    "                print(\"done!\")\n",
    "                sleep(1)\n",
    "            return steps\n",
    "        else:\n",
    "            state = next_state\n",
    "        if render:\n",
    "            sleep(sleep_time)\n",
    "\n",
    "\n",
    "for game_i in range(2):\n",
    "    play_game(render=True, sleep_time=0.5)"
   ]
  },
  {
   "cell_type": "code",
   "execution_count": 123,
   "metadata": {},
   "outputs": [
    {
     "data": {
      "image/png": "[encoded data removed]",
      "text/plain": [
       "<Figure size 300x800 with 1 Axes>"
      ]
     },
     "metadata": {},
     "output_type": "display_data"
    }
   ],
   "source": [
    "fig, ax = plt.subplots(figsize=(3, 8))\n",
    "\n",
    "ax.imshow(q_table)\n",
    "ax.set_aspect(0.02)"
   ]
  },
  {
   "cell_type": "code",
   "execution_count": 124,
   "metadata": {},
   "outputs": [
    {
     "data": {
      "image/png": "[encoded data removed]",
      "text/plain": [
       "<Figure size 800x1200 with 1 Axes>"
      ]
     },
     "metadata": {},
     "output_type": "display_data"
    }
   ],
   "source": [
    "fig, ax = plt.subplots(figsize=(8, 12))\n",
    "\n",
    "ax.imshow(q_table[:10])\n",
    "ax.set_aspect(0.7)\n",
    "\n",
    "for (j, i), label in np.ndenumerate(q_table[:10]):\n",
    "    ax.text(i, j, \"{0:.2f}\".format(label), ha=\"center\", va=\"center\", fontsize=12)"
   ]
  },
  {
   "cell_type": "markdown",
   "metadata": {},
   "source": [
    "We observe zero lines because there is only 400 reachable states in the game. The other 100 corresponds to the situations in which the passenger is at the same location as their destination. That's why values are 0 for all actions in those states."
   ]
  },
  {
   "cell_type": "code",
   "execution_count": 125,
   "metadata": {},
   "outputs": [
    {
     "data": {
      "text/plain": [
       "100"
      ]
     },
     "execution_count": 125,
     "metadata": {},
     "output_type": "execute_result"
    }
   ],
   "source": [
    "np.sum(np.sum(q_table, -1) == 0)"
   ]
  },
  {
   "cell_type": "markdown",
   "metadata": {},
   "source": [
    "## The problem is that with more complicated environments, we don't have such a small number (500) of possible states. so the q-table is replaced with a neural network\n",
    "\n",
    "Below we define the neural network, which take in a state (an integer between 0 and 499) and outputs 6 \"q-values\" for the 6 possible actions"
   ]
  },
  {
   "cell_type": "code",
   "execution_count": 126,
   "metadata": {},
   "outputs": [],
   "source": [
    "class QNet(nn.Module):\n",
    "    def __init__(self):\n",
    "        super().__init__()\n",
    "\n",
    "        self.layers = nn.Sequential(\n",
    "            nn.Embedding(500, 20),\n",
    "            nn.Linear(20, 50),\n",
    "            nn.ReLU(),\n",
    "            nn.Linear(50, 50),\n",
    "            nn.ReLU(),\n",
    "            nn.Linear(50, 6),\n",
    "        )\n",
    "\n",
    "    def forward(self, x):\n",
    "        return self.layers(x)"
   ]
  },
  {
   "cell_type": "markdown",
   "metadata": {},
   "source": [
    "## Define a function to choose an action based on neural network output and epsilon parameter\n",
    "\n",
    "Notice: We divide the reward by 20, to put it in the range between -1,1"
   ]
  },
  {
   "cell_type": "markdown",
   "metadata": {},
   "source": [
    "![](eps_search.jpeg)"
   ]
  },
  {
   "cell_type": "code",
   "execution_count": 31,
   "metadata": {},
   "outputs": [],
   "source": [
    "def ChooseAction(env, net, state, eps):\n",
    "    if random.uniform(0, 1) < eps:\n",
    "        action = env.action_space.sample()\n",
    "    else:\n",
    "        q, arg_q = (\n",
    "            net(torch.LongTensor([state])).data.cpu().max(1)\n",
    "        )  # choose max Q and matching action\n",
    "        action = arg_q.item()\n",
    "\n",
    "    next_state, reward, terminated, truncated, _ = env.step(action)\n",
    "    done = terminated or truncated\n",
    "\n",
    "    reward = reward / 20.0\n",
    "\n",
    "    return next_state, reward, action, done"
   ]
  },
  {
   "cell_type": "markdown",
   "metadata": {},
   "source": [
    "## Now we define a function to play a single game with our neural network agent, and save the memory of (state, action, reward, next state) transitions\n",
    "\n",
    "note: this algorithm is much less efficient compared to the non-neural-net algorithm shown above, in order for the results to be seen quickly, we use\n",
    "\n",
    "`state = env.encode(0, 0, 3, 2)`\n",
    "\n",
    "at the start of the game.\n",
    "this tell the game to always start the taxi in the same position, and to always pick up and dropoff the passanger and the same pickup/dropoff locations. this simplifies things so we can train in a few minutes\n",
    "\n",
    "so the taxi starts at R, has to go to B, pickup, go to Y, and dropoff\n"
   ]
  },
  {
   "cell_type": "code",
   "execution_count": 131,
   "metadata": {},
   "outputs": [
    {
     "data": {
      "text/plain": [
       "(271, {'prob': 1.0, 'action_mask': array([1, 1, 1, 1, 0, 0], dtype=int8)})"
      ]
     },
     "execution_count": 131,
     "metadata": {},
     "output_type": "execute_result"
    }
   ],
   "source": [
    "env.reset()"
   ]
  },
  {
   "cell_type": "code",
   "execution_count": 132,
   "metadata": {},
   "outputs": [
    {
     "name": "stdout",
     "output_type": "stream",
     "text": [
      "+---------+\n",
      "|R: | : :G|\n",
      "| : | : : |\n",
      "| : : :\u001b[43m \u001b[0m: |\n",
      "| | : | : |\n",
      "|\u001b[34;1mY\u001b[0m| : |\u001b[35mB\u001b[0m: |\n",
      "+---------+\n",
      "\n",
      "\n"
     ]
    }
   ],
   "source": [
    "print(env.render())"
   ]
  },
  {
   "cell_type": "code",
   "execution_count": 134,
   "metadata": {},
   "outputs": [],
   "source": [
    "env.unwrapped.s = env.encode(0, 0, 3, 2)"
   ]
  },
  {
   "cell_type": "code",
   "execution_count": 135,
   "metadata": {},
   "outputs": [
    {
     "name": "stdout",
     "output_type": "stream",
     "text": [
      "+---------+\n",
      "|\u001b[43mR\u001b[0m: | : :G|\n",
      "| : | : : |\n",
      "| : : : : |\n",
      "| | : | : |\n",
      "|\u001b[35mY\u001b[0m| : |\u001b[34;1mB\u001b[0m: |\n",
      "+---------+\n",
      "\n",
      "\n"
     ]
    }
   ],
   "source": [
    "print(env.render())"
   ]
  },
  {
   "cell_type": "code",
   "execution_count": 136,
   "metadata": {},
   "outputs": [],
   "source": [
    "def play_game_agent(agent, eps, render=False, sleep_time=0.0, set_to_fixed_state=True):\n",
    "    done = False\n",
    "    steps = 0\n",
    "    state, _ = env.reset()\n",
    "    if set_to_fixed_state:\n",
    "        state = env.encode(0, 0, 3, 2)\n",
    "        env.s = state\n",
    "        env.unwrapped.s = state\n",
    "\n",
    "    single_game_memory = []\n",
    "    game_total_reward = 0\n",
    "\n",
    "    while not done and steps < 1000:  # limit the number of steps a game can go on for\n",
    "        steps += 1\n",
    "        if render:\n",
    "            clear_output(wait=True)\n",
    "\n",
    "        next_state, reward, action, done = ChooseAction(env, agent, state, eps=eps)\n",
    "\n",
    "        game_total_reward += reward\n",
    "        single_game_memory.append(\n",
    "            (\n",
    "                torch.LongTensor([state]),\n",
    "                torch.LongTensor([int(action)]),\n",
    "                torch.Tensor([reward]),\n",
    "                torch.LongTensor([next_state]),\n",
    "                torch.Tensor([done]),\n",
    "            )\n",
    "        )\n",
    "\n",
    "        if render:\n",
    "            print(env.render())\n",
    "            print(\"steps \", steps, \"action \", action, \" reward \", reward)\n",
    "            sleep(sleep_time)\n",
    "\n",
    "        if done:\n",
    "            if render:\n",
    "                print(\"done!\")\n",
    "\n",
    "        else:\n",
    "            state = next_state\n",
    "        if render and steps < 20:\n",
    "            sleep(0.1)\n",
    "    return single_game_memory, steps, game_total_reward"
   ]
  },
  {
   "cell_type": "code",
   "execution_count": 137,
   "metadata": {},
   "outputs": [
    {
     "data": {
      "text/plain": [
       "QNet(\n",
       "  (layers): Sequential(\n",
       "    (0): Embedding(500, 20)\n",
       "    (1): Linear(in_features=20, out_features=50, bias=True)\n",
       "    (2): ReLU()\n",
       "    (3): Linear(in_features=50, out_features=50, bias=True)\n",
       "    (4): ReLU()\n",
       "    (5): Linear(in_features=50, out_features=6, bias=True)\n",
       "  )\n",
       ")"
      ]
     },
     "execution_count": 137,
     "metadata": {},
     "output_type": "execute_result"
    }
   ],
   "source": [
    "qnet = QNet()\n",
    "qnet.eval()"
   ]
  },
  {
   "cell_type": "code",
   "execution_count": 138,
   "metadata": {},
   "outputs": [
    {
     "name": "stdout",
     "output_type": "stream",
     "text": [
      "+---------+\n",
      "|R: | : :G|\n",
      "| : | : : |\n",
      "| : : : : |\n",
      "| | : | : |\n",
      "|\u001b[35mY\u001b[0m| : |\u001b[42mB\u001b[0m: |\n",
      "+---------+\n",
      "  (Pickup)\n",
      "\n",
      "steps  495 action  4  reward  -0.5\n"
     ]
    },
    {
     "ename": "KeyboardInterrupt",
     "evalue": "",
     "output_type": "error",
     "traceback": [
      "\u001b[0;31m---------------------------------------------------------------------------\u001b[0m",
      "\u001b[0;31mKeyboardInterrupt\u001b[0m                         Traceback (most recent call last)",
      "Cell \u001b[0;32mIn[138], line 1\u001b[0m\n\u001b[0;32m----> 1\u001b[0m \u001b[43mplay_game_agent\u001b[49m\u001b[43m(\u001b[49m\u001b[43mqnet\u001b[49m\u001b[43m,\u001b[49m\u001b[43m \u001b[49m\u001b[38;5;241;43m0.2\u001b[39;49m\u001b[43m,\u001b[49m\u001b[43m \u001b[49m\u001b[43mrender\u001b[49m\u001b[38;5;241;43m=\u001b[39;49m\u001b[38;5;28;43;01mTrue\u001b[39;49;00m\u001b[43m,\u001b[49m\u001b[43m \u001b[49m\u001b[43msleep_time\u001b[49m\u001b[38;5;241;43m=\u001b[39;49m\u001b[38;5;241;43m0.05\u001b[39;49m\u001b[43m,\u001b[49m\u001b[43m \u001b[49m\u001b[43mset_to_fixed_state\u001b[49m\u001b[38;5;241;43m=\u001b[39;49m\u001b[38;5;28;43;01mTrue\u001b[39;49;00m\u001b[43m)\u001b[49m;\n",
      "Cell \u001b[0;32mIn[136], line 34\u001b[0m, in \u001b[0;36mplay_game_agent\u001b[0;34m(agent, eps, render, sleep_time, set_to_fixed_state)\u001b[0m\n\u001b[1;32m     32\u001b[0m     \u001b[38;5;28mprint\u001b[39m(env\u001b[38;5;241m.\u001b[39mrender())\n\u001b[1;32m     33\u001b[0m     \u001b[38;5;28mprint\u001b[39m(\u001b[38;5;124m\"\u001b[39m\u001b[38;5;124msteps \u001b[39m\u001b[38;5;124m\"\u001b[39m, steps, \u001b[38;5;124m\"\u001b[39m\u001b[38;5;124maction \u001b[39m\u001b[38;5;124m\"\u001b[39m, action, \u001b[38;5;124m\"\u001b[39m\u001b[38;5;124m reward \u001b[39m\u001b[38;5;124m\"\u001b[39m, reward)\n\u001b[0;32m---> 34\u001b[0m     \u001b[43msleep\u001b[49m\u001b[43m(\u001b[49m\u001b[43msleep_time\u001b[49m\u001b[43m)\u001b[49m\n\u001b[1;32m     36\u001b[0m \u001b[38;5;28;01mif\u001b[39;00m done:\n\u001b[1;32m     37\u001b[0m     \u001b[38;5;28;01mif\u001b[39;00m render:\n",
      "\u001b[0;31mKeyboardInterrupt\u001b[0m: "
     ]
    }
   ],
   "source": [
    "play_game_agent(qnet, 0.2, render=True, sleep_time=0.05, set_to_fixed_state=True);"
   ]
  },
  {
   "cell_type": "markdown",
   "metadata": {},
   "source": [
    "## We store the (state,action,reward, next state) information in a memory buffer\n",
    "\n",
    "Let's define the class for that memory buffer.\n",
    "\n",
    "Notice that I stored transitions with positive rewards in a different buffer, and when sampling from memory, I pick at least 1/4 of the mini-batch to have positive rewards samples. this is a simplified version of many techniques that use some variation on the sampling strategy to help DQN algorithms train faster"
   ]
  },
  {
   "cell_type": "code",
   "execution_count": 39,
   "metadata": {},
   "outputs": [],
   "source": [
    "class ReplayMemory(object):\n",
    "    \"\"\"Facilitates memory replay.\"\"\"\n",
    "\n",
    "    def __init__(self, capacity):\n",
    "        self.capacity = capacity\n",
    "        self.memory_neg = []\n",
    "        self.memory_pos = []\n",
    "\n",
    "    def push(self, m):\n",
    "        positive_m = [x for x in m if x[2].item() > 0]\n",
    "        negative_m = [x for x in m if x[2].item() <= 0]\n",
    "\n",
    "        # add new memory to storage\n",
    "        self.memory_neg += negative_m\n",
    "        self.memory_pos += positive_m\n",
    "\n",
    "        # if our memory is over the max size, discard the first elements\n",
    "        if len(self.memory_neg) > self.capacity:\n",
    "            self.memory_neg = self.memory_neg[-self.capacity :]\n",
    "        if len(self.memory_pos) > self.capacity:\n",
    "            self.memory_pos = self.memory_pos[-self.capacity :]\n",
    "\n",
    "    def sample(self, bsz):\n",
    "        pos_batch_size = int(min(bsz / 4, len(self.memory_pos)))\n",
    "\n",
    "        if pos_batch_size > 0:\n",
    "            pos_batch = random.sample(self.memory_pos, pos_batch_size)\n",
    "        else:\n",
    "            pos_batch = []\n",
    "\n",
    "        neg_batch = random.sample(self.memory_neg, bsz - pos_batch_size)\n",
    "\n",
    "        batch = pos_batch + neg_batch\n",
    "\n",
    "        return map(lambda x: torch.cat(x, 0), zip(*batch))"
   ]
  },
  {
   "cell_type": "markdown",
   "metadata": {},
   "source": [
    "## Now we are ready to start training our agent\n",
    "\n",
    "Remember the cycle is this:\n",
    "1. Initialize our neural network $Q(s,a, \\theta)$\n",
    "2. Intitalize our target network $Q(s,a, \\theta^-)$ by setting $\\theta^- = \\theta$\n",
    "3. Observe initial state $s_0$\n",
    "4. For $k = 0, 1, \\ldots$\n",
    "    - With probability $\\epsilon$ select a random action $a_k$ otherwise select $a_k = \\arg\\max_a Q(s_k, a, \\theta)$\n",
    "    - Send $a_k$ into the environment and get a reward $r_k$ and next state $s_{k+1}$\n",
    "    - Add $(s_k, a_k, r_k, s_{k+1})$ to the memory buffer\n",
    "    - If the memory buffer has required number of transitions do training step:\n",
    "        - Sample mini-batch of transitions from memory buffer $(s, a, r, s')$\n",
    "        - For each transition calculate target value $y = r + \\gamma \\max_{a'} Q(s', a', \\theta^-)$\n",
    "        - Do gradient descent step on $(y - Q(s, a, \\theta))^2$\n",
    "    - If $k$ is multiple of $C$ then set $\\theta^- = \\theta$"
   ]
  },
  {
   "cell_type": "markdown",
   "metadata": {},
   "source": [
    "![](training.jpeg)"
   ]
  },
  {
   "cell_type": "code",
   "execution_count": 139,
   "metadata": {},
   "outputs": [],
   "source": [
    "### hyperparameters\n",
    "\n",
    "max_episodes = 120\n",
    "n_games_per_episode = 20\n",
    "n_train_steps = 3000  # per episode\n",
    "\n",
    "mem_capacity = 100000\n",
    "\n",
    "initial_eps = 1.0\n",
    "eps_min = 0.1\n",
    "eps_decay_window = 90\n",
    "\n",
    "batch_size = 128\n",
    "gamma = 0.6"
   ]
  },
  {
   "cell_type": "code",
   "execution_count": 140,
   "metadata": {},
   "outputs": [],
   "source": [
    "env.reset()\n",
    "\n",
    "n_actions = env.action_space.n\n",
    "\n",
    "# create the memory buffer\n",
    "mem = ReplayMemory(mem_capacity)\n",
    "\n",
    "\n",
    "# and two neural networks (one to stay static while the other is training)\n",
    "Qnet = QNet()\n",
    "Tnet = QNet()\n",
    "Tnet.load_state_dict(Qnet.state_dict())\n",
    "\n",
    "\n",
    "opt = torch.optim.Adam(Qnet.parameters(), lr=5e-4)\n",
    "\n",
    "Qnet.train()\n",
    "Tnet.eval()\n",
    "\n",
    "eps = initial_eps\n",
    "eps_delta = (eps - eps_min) / eps_decay_window"
   ]
  },
  {
   "cell_type": "markdown",
   "metadata": {},
   "source": [
    "## This is how the epsilon decay will look"
   ]
  },
  {
   "cell_type": "code",
   "execution_count": 141,
   "metadata": {},
   "outputs": [
    {
     "data": {
      "image/png": "[encoded data removed]",
      "text/plain": [
       "<Figure size 600x600 with 1 Axes>"
      ]
     },
     "metadata": {},
     "output_type": "display_data"
    }
   ],
   "source": [
    "fig, ax = plt.subplots(figsize=(6, 6))\n",
    "\n",
    "eps_i = []\n",
    "for epsisode_i in range(max_episodes):\n",
    "    eps_i.append(max(eps_min, initial_eps * np.exp(-eps_delta * epsisode_i)))\n",
    "\n",
    "ax.plot(eps_i)\n",
    "ax.set_ylim(0, 1)\n",
    "ax.set_xlabel(\n",
    "    \"episode (a set of \" + str(n_games_per_episode) + \" games played before training)\"\n",
    ")\n",
    "ax.set_ylabel(\"eps\")\n",
    "plt.show()"
   ]
  },
  {
   "cell_type": "markdown",
   "metadata": {},
   "source": [
    "## Fill the memory buffer with random games\n",
    "\n",
    "Only keep games that manages to randomly finish in under 1500 steps"
   ]
  },
  {
   "cell_type": "code",
   "execution_count": 142,
   "metadata": {},
   "outputs": [],
   "source": [
    "collected_games = 0\n",
    "while collected_games < 20:\n",
    "    game_memory, steps, rewards = play_game_agent(Qnet, 1, render=False)\n",
    "\n",
    "    if steps < 1000:\n",
    "        mem.push(game_memory)\n",
    "        collected_games += 1"
   ]
  },
  {
   "cell_type": "markdown",
   "metadata": {},
   "source": [
    "## Perform an initial training where we aim for the Q values to be just the immediate reward (without confusing it with the initial Q values given by the network)"
   ]
  },
  {
   "cell_type": "code",
   "execution_count": 143,
   "metadata": {},
   "outputs": [
    {
     "name": "stderr",
     "output_type": "stream",
     "text": [
      "100%|██████████| 5000/5000 [00:02<00:00, 1937.06it/s]\n"
     ]
    }
   ],
   "source": [
    "Qnet.train()\n",
    "for train_step_i in tqdm(range(5000)):\n",
    "    opt.zero_grad()\n",
    "\n",
    "    bs, ba, br, bns, bdone = mem.sample(batch_size)\n",
    "\n",
    "    bq = Qnet(bs).gather(1, ba.unsqueeze(1)).squeeze(1)\n",
    "\n",
    "    # normally, you would use the existing Q value given by the network to compute the next step Q value\n",
    "    # but for the intiail training we assume the next Q value is 0, this helps start the training on the right foot\n",
    "    # bnq = Tnet(bns).detach().max(1)[0] * gamma * (1 - bdone)\n",
    "    loss = F.smooth_l1_loss(bq, br)\n",
    "    loss.backward()\n",
    "    opt.step()"
   ]
  },
  {
   "cell_type": "markdown",
   "metadata": {},
   "source": [
    "## let's visualize the inital training to make it clear what it did:"
   ]
  },
  {
   "cell_type": "code",
   "execution_count": 144,
   "metadata": {},
   "outputs": [
    {
     "data": {
      "image/png": "[encoded data removed]",
      "text/plain": [
       "<Figure size 600x600 with 1 Axes>"
      ]
     },
     "metadata": {},
     "output_type": "display_data"
    }
   ],
   "source": [
    "Qnet.eval()\n",
    "\n",
    "batch_rewards = []\n",
    "batch_qs = []\n",
    "\n",
    "for eval_step_i in range(300):\n",
    "    bs, ba, br, bns, bdone = mem.sample(batch_size)\n",
    "\n",
    "    bq = Qnet(bs).gather(1, ba.unsqueeze(1)).squeeze(1)\n",
    "\n",
    "    bg = list(bq.data.numpy().flatten())\n",
    "\n",
    "    batch_qs += bg\n",
    "\n",
    "    br = list(br.data.numpy().flatten())\n",
    "\n",
    "    batch_rewards += br\n",
    "\n",
    "\n",
    "fig, ax = plt.subplots(figsize=(6, 6))\n",
    "\n",
    "ax.scatter(batch_rewards, batch_qs)\n",
    "ax.plot([-1, 1], [-1, 1], c=\"r\")\n",
    "ax.set_xlim(-1.1, 1.1)\n",
    "ax.set_ylim(-1.1, 1.1)\n",
    "ax.set_xlabel(\"immediate reward\")\n",
    "ax.set_ylabel(\"Qnet prediction\")\n",
    "\n",
    "plt.show()"
   ]
  },
  {
   "cell_type": "code",
   "execution_count": 145,
   "metadata": {
    "scrolled": false
   },
   "outputs": [
    {
     "name": "stdout",
     "output_type": "stream",
     "text": [
      "episode  1  avg steps per game  1000.0  avg rewards  -95.44999999999843\n",
      "episode  2  avg steps per game  1000.0  avg rewards  -89.48749999999845\n",
      "episode  3  avg steps per game  1000.0  avg rewards  -95.78749999999846\n",
      "episode  4  avg steps per game  1000.0  avg rewards  -95.53999999999847\n",
      "episode  5  avg steps per game  1000.0  avg rewards  -92.97499999999847\n",
      "episode  6  avg steps per game  993.3  avg rewards  -94.88249999999849\n",
      "episode  7  avg steps per game  267.75  avg rewards  -24.03749999999999\n",
      "episode  8  avg steps per game  956.05  avg rewards  -91.69249999999852\n",
      "episode  9  avg steps per game  598.05  avg rewards  -57.322499999999266\n",
      "episode  10  avg steps per game  41.7  avg rewards  -3.0824999999999996\n",
      "episode  11  avg steps per game  317.3  avg rewards  -29.432499999999777\n",
      "episode  12  avg steps per game  739.4  avg rewards  -70.26249999999894\n"
     ]
    },
    {
     "ename": "KeyboardInterrupt",
     "evalue": "",
     "output_type": "error",
     "traceback": [
      "\u001b[0;31m---------------------------------------------------------------------------\u001b[0m",
      "\u001b[0;31mKeyboardInterrupt\u001b[0m                         Traceback (most recent call last)",
      "Cell \u001b[0;32mIn[145], line 46\u001b[0m\n\u001b[1;32m     43\u001b[0m     bnq \u001b[38;5;241m=\u001b[39m Tnet(bns)\u001b[38;5;241m.\u001b[39mdetach()\u001b[38;5;241m.\u001b[39mmax(\u001b[38;5;241m1\u001b[39m)[\u001b[38;5;241m0\u001b[39m] \u001b[38;5;241m*\u001b[39m gamma \u001b[38;5;241m*\u001b[39m (\u001b[38;5;241m1\u001b[39m \u001b[38;5;241m-\u001b[39m bdone)\n\u001b[1;32m     44\u001b[0m loss \u001b[38;5;241m=\u001b[39m F\u001b[38;5;241m.\u001b[39msmooth_l1_loss(bq, br \u001b[38;5;241m+\u001b[39m bnq)\n\u001b[0;32m---> 46\u001b[0m \u001b[43mloss\u001b[49m\u001b[38;5;241;43m.\u001b[39;49m\u001b[43mbackward\u001b[49m\u001b[43m(\u001b[49m\u001b[43m)\u001b[49m\n\u001b[1;32m     48\u001b[0m opt\u001b[38;5;241m.\u001b[39mstep()\n",
      "File \u001b[0;32m/opt/homebrew/Caskroom/miniforge/base/envs/ML/lib/python3.10/site-packages/torch/_tensor.py:428\u001b[0m, in \u001b[0;36mTensor.backward\u001b[0;34m(self, gradient, retain_graph, create_graph, inputs)\u001b[0m\n\u001b[1;32m    425\u001b[0m     \u001b[38;5;66;03m# All strings are unicode in Python 3.\u001b[39;00m\n\u001b[1;32m    426\u001b[0m     \u001b[38;5;28;01mreturn\u001b[39;00m torch\u001b[38;5;241m.\u001b[39m_tensor_str\u001b[38;5;241m.\u001b[39m_str(\u001b[38;5;28mself\u001b[39m, tensor_contents\u001b[38;5;241m=\u001b[39mtensor_contents)\n\u001b[0;32m--> 428\u001b[0m \u001b[38;5;28;01mdef\u001b[39;00m \u001b[38;5;21mbackward\u001b[39m(\n\u001b[1;32m    429\u001b[0m     \u001b[38;5;28mself\u001b[39m, gradient\u001b[38;5;241m=\u001b[39m\u001b[38;5;28;01mNone\u001b[39;00m, retain_graph\u001b[38;5;241m=\u001b[39m\u001b[38;5;28;01mNone\u001b[39;00m, create_graph\u001b[38;5;241m=\u001b[39m\u001b[38;5;28;01mFalse\u001b[39;00m, inputs\u001b[38;5;241m=\u001b[39m\u001b[38;5;28;01mNone\u001b[39;00m\n\u001b[1;32m    430\u001b[0m ):\n\u001b[1;32m    431\u001b[0m \u001b[38;5;250m    \u001b[39m\u001b[38;5;124mr\u001b[39m\u001b[38;5;124;03m\"\"\"Computes the gradient of current tensor w.r.t. graph leaves.\u001b[39;00m\n\u001b[1;32m    432\u001b[0m \n\u001b[1;32m    433\u001b[0m \u001b[38;5;124;03m    The graph is differentiated using the chain rule. If the tensor is\u001b[39;00m\n\u001b[0;32m   (...)\u001b[0m\n\u001b[1;32m    475\u001b[0m \u001b[38;5;124;03m            used to compute the attr::tensors.\u001b[39;00m\n\u001b[1;32m    476\u001b[0m \u001b[38;5;124;03m    \"\"\"\u001b[39;00m\n\u001b[1;32m    477\u001b[0m     \u001b[38;5;28;01mif\u001b[39;00m has_torch_function_unary(\u001b[38;5;28mself\u001b[39m):\n",
      "\u001b[0;31mKeyboardInterrupt\u001b[0m: "
     ]
    }
   ],
   "source": [
    "Qnet.train()\n",
    "\n",
    "\n",
    "avg_game_steps_history = []\n",
    "\n",
    "\n",
    "for episode_i in range(max_episodes):\n",
    "    steps_per_game = []\n",
    "    reward_per_game = []\n",
    "\n",
    "    cur_eps = max(eps_min, initial_eps * np.exp(-eps_delta * epsisode_i))\n",
    "\n",
    "    # play X games\n",
    "    for game_i in range(n_games_per_episode):\n",
    "        game_memory, steps, rewards = play_game_agent(Qnet, cur_eps, render=False)\n",
    "\n",
    "        mem.push(game_memory)\n",
    "        steps_per_game.append(steps)\n",
    "        reward_per_game.append(rewards)\n",
    "\n",
    "    print(\n",
    "        \"episode \",\n",
    "        episode_i + 1,\n",
    "        \" avg steps per game \",\n",
    "        np.mean(steps_per_game),\n",
    "        \" avg rewards \",\n",
    "        np.mean(reward_per_game),\n",
    "    )\n",
    "\n",
    "    # save the sate of the neural network at the start of the episode\n",
    "    # if episode_i % 2 == 0:\n",
    "    Tnet.load_state_dict(Qnet.state_dict())\n",
    "    # train the network\n",
    "    for train_step_i in range(n_train_steps):\n",
    "        opt.zero_grad()\n",
    "\n",
    "        bs, ba, br, bns, bdone = mem.sample(batch_size)\n",
    "\n",
    "        bq = Qnet(bs).gather(1, ba.unsqueeze(1)).squeeze(1)\n",
    "        with torch.no_grad():\n",
    "            bnq = Tnet(bns).detach().max(1)[0] * gamma * (1 - bdone)\n",
    "        loss = F.smooth_l1_loss(bq, br + bnq)\n",
    "\n",
    "        loss.backward()\n",
    "\n",
    "        opt.step()"
   ]
  },
  {
   "cell_type": "markdown",
   "metadata": {},
   "source": [
    "## Now let's watch our NN play the game (remember we gave a fixed starting condition)"
   ]
  },
  {
   "cell_type": "code",
   "execution_count": 99,
   "metadata": {},
   "outputs": [
    {
     "name": "stdout",
     "output_type": "stream",
     "text": [
      "+---------+\n",
      "|\u001b[43mR\u001b[0m: | : :G|\n",
      "| : | : : |\n",
      "| : : : : |\n",
      "| | : | : |\n",
      "|\u001b[35mY\u001b[0m| : |\u001b[34;1mB\u001b[0m: |\n",
      "+---------+\n",
      "  (West)\n",
      "\n",
      "steps  799 action  3  reward  -0.05\n"
     ]
    },
    {
     "ename": "KeyboardInterrupt",
     "evalue": "",
     "output_type": "error",
     "traceback": [
      "\u001b[0;31m---------------------------------------------------------------------------\u001b[0m",
      "\u001b[0;31mKeyboardInterrupt\u001b[0m                         Traceback (most recent call last)",
      "Cell \u001b[0;32mIn[99], line 4\u001b[0m\n\u001b[1;32m      1\u001b[0m Qnet\u001b[38;5;241m.\u001b[39meval()\n\u001b[1;32m      3\u001b[0m \u001b[38;5;66;03m# eps=0 means the neural network is totally in charge\u001b[39;00m\n\u001b[0;32m----> 4\u001b[0m \u001b[43mplay_game_agent\u001b[49m\u001b[43m(\u001b[49m\u001b[43mTnet\u001b[49m\u001b[43m,\u001b[49m\u001b[43m \u001b[49m\u001b[43meps\u001b[49m\u001b[38;5;241;43m=\u001b[39;49m\u001b[38;5;241;43m0\u001b[39;49m\u001b[43m,\u001b[49m\u001b[43m \u001b[49m\u001b[43mrender\u001b[49m\u001b[38;5;241;43m=\u001b[39;49m\u001b[38;5;28;43;01mTrue\u001b[39;49;00m\u001b[43m,\u001b[49m\u001b[43m \u001b[49m\u001b[43msleep_time\u001b[49m\u001b[38;5;241;43m=\u001b[39;49m\u001b[38;5;241;43m0.01\u001b[39;49m\u001b[43m,\u001b[49m\u001b[43m \u001b[49m\u001b[43mset_to_fixed_state\u001b[49m\u001b[38;5;241;43m=\u001b[39;49m\u001b[38;5;28;43;01mTrue\u001b[39;49;00m\u001b[43m)\u001b[49m;\n",
      "Cell \u001b[0;32mIn[36], line 34\u001b[0m, in \u001b[0;36mplay_game_agent\u001b[0;34m(agent, eps, render, sleep_time, set_to_fixed_state)\u001b[0m\n\u001b[1;32m     32\u001b[0m     \u001b[38;5;28mprint\u001b[39m(env\u001b[38;5;241m.\u001b[39mrender())\n\u001b[1;32m     33\u001b[0m     \u001b[38;5;28mprint\u001b[39m(\u001b[38;5;124m\"\u001b[39m\u001b[38;5;124msteps \u001b[39m\u001b[38;5;124m\"\u001b[39m, steps, \u001b[38;5;124m\"\u001b[39m\u001b[38;5;124maction \u001b[39m\u001b[38;5;124m\"\u001b[39m, action, \u001b[38;5;124m\"\u001b[39m\u001b[38;5;124m reward \u001b[39m\u001b[38;5;124m\"\u001b[39m, reward)\n\u001b[0;32m---> 34\u001b[0m     \u001b[43msleep\u001b[49m\u001b[43m(\u001b[49m\u001b[43msleep_time\u001b[49m\u001b[43m)\u001b[49m\n\u001b[1;32m     36\u001b[0m \u001b[38;5;28;01mif\u001b[39;00m done:\n\u001b[1;32m     37\u001b[0m     \u001b[38;5;28;01mif\u001b[39;00m render:\n",
      "\u001b[0;31mKeyboardInterrupt\u001b[0m: "
     ]
    }
   ],
   "source": [
    "Qnet.eval()\n",
    "\n",
    "# eps=0 means the neural network is totally in charge\n",
    "play_game_agent(Qnet, eps=0, render=True, sleep_time=0.01, set_to_fixed_state=True);"
   ]
  },
  {
   "cell_type": "code",
   "execution_count": 139,
   "metadata": {},
   "outputs": [],
   "source": [
    "# torch.save(Qnet.state_dict(),'qnet.pt')"
   ]
  },
  {
   "cell_type": "code",
   "execution_count": 146,
   "metadata": {},
   "outputs": [],
   "source": [
    "Qnet = QNet();"
   ]
  },
  {
   "cell_type": "code",
   "execution_count": 147,
   "metadata": {},
   "outputs": [
    {
     "data": {
      "text/plain": [
       "<All keys matched successfully>"
      ]
     },
     "execution_count": 147,
     "metadata": {},
     "output_type": "execute_result"
    }
   ],
   "source": [
    "Qnet.load_state_dict(torch.load(\"qnet.pt\"))"
   ]
  },
  {
   "cell_type": "code",
   "execution_count": 148,
   "metadata": {},
   "outputs": [],
   "source": [
    "Qnet.eval();"
   ]
  },
  {
   "cell_type": "code",
   "execution_count": 150,
   "metadata": {},
   "outputs": [
    {
     "name": "stdout",
     "output_type": "stream",
     "text": [
      "+---------+\n",
      "|R: | : :G|\n",
      "| : | : : |\n",
      "| : : : : |\n",
      "| | : | : |\n",
      "|\u001b[35m\u001b[34;1m\u001b[43mY\u001b[0m\u001b[0m\u001b[0m| : |B: |\n",
      "+---------+\n",
      "  (Dropoff)\n",
      "\n",
      "steps  16 action  5  reward  1.0\n",
      "done!\n"
     ]
    }
   ],
   "source": [
    "play_game_agent(Qnet, eps=0, render=True, sleep_time=0.1);"
   ]
  },
  {
   "cell_type": "code",
   "execution_count": null,
   "metadata": {},
   "outputs": [],
   "source": []
  }
 ],
 "metadata": {
  "kernelspec": {
   "display_name": "Python 3",
   "language": "python",
   "name": "python3"
  },
  "language_info": {
   "codemirror_mode": {
    "name": "ipython",
    "version": 3
   },
   "file_extension": ".py",
   "mimetype": "text/x-python",
   "name": "python",
   "nbconvert_exporter": "python",
   "pygments_lexer": "ipython3",
   "version": "3.10.12"
  }
 },
 "nbformat": 4,
 "nbformat_minor": 2
}

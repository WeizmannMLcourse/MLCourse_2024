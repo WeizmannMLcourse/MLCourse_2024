{
 "cells": [
  {
   "attachments": {},
   "cell_type": "markdown",
   "metadata": {},
   "source": [
    "# Python essentials"
   ]
  },
  {
   "attachments": {},
   "cell_type": "markdown",
   "metadata": {},
   "source": [
    "### Helpful links:\n",
    " - https://www.kaggle.com/learn/python\n",
    " - https://docs.python.org/3/tutorial/index.html"
   ]
  },
  {
   "cell_type": "markdown",
   "metadata": {},
   "source": [
    "## Importing and running"
   ]
  },
  {
   "cell_type": "markdown",
   "metadata": {},
   "source": [
    "#### Editors\n",
    "- VS Code: https://code.visualstudio.com\n",
    "- PyCharm: https://www.jetbrains.com/pycharm/\n",
    "- Jupyter: https://jupyter.org\n",
    "\n",
    "#### Notebook editor + python\n",
    "- Collaboratory: https://colab.research.google.com\n",
    "\n",
    "#### Installing python locally\n",
    "- https://www.python.org/downloads/"
   ]
  },
  {
   "cell_type": "markdown",
   "metadata": {},
   "source": [
    "#### 1) Run interactive session on terminal\n",
    "```\n",
    "python\n",
    "> x = 4\n",
    "```\n",
    "\n",
    "#### 2) Run script on terminal\n",
    "```\n",
    "python my_script.py\n",
    "```\n",
    "\n",
    "#### 3) Run notebook\n",
    "```\n",
    "jupyter notebook\n",
    "```"
   ]
  },
  {
   "attachments": {},
   "cell_type": "markdown",
   "metadata": {},
   "source": [
    "### Packages"
   ]
  },
  {
   "attachments": {},
   "cell_type": "markdown",
   "metadata": {},
   "source": [
    "e.g.\n",
    "```\n",
    "import numpy as np\n",
    "```"
   ]
  },
  {
   "attachments": {},
   "cell_type": "markdown",
   "metadata": {},
   "source": [
    "What if you don't have the library?\n",
    "```\n",
    "pip install numpy\n",
    "```"
   ]
  },
  {
   "cell_type": "markdown",
   "metadata": {},
   "source": [
    "### Importing code"
   ]
  },
  {
   "attachments": {},
   "cell_type": "markdown",
   "metadata": {},
   "source": [
    "Let's say I have some python code which I want to include in my current code (instead of writing it all over again).\n",
    "```\n",
    "sys.path.append('path/to/my/code.py')\n",
    "from code import my_useful_function\n",
    "```"
   ]
  },
  {
   "attachments": {},
   "cell_type": "markdown",
   "metadata": {},
   "source": [
    "## Data types"
   ]
  },
  {
   "cell_type": "markdown",
   "metadata": {},
   "source": [
    "### Numbers"
   ]
  },
  {
   "cell_type": "code",
   "execution_count": 12,
   "metadata": {},
   "outputs": [
    {
     "name": "stdout",
     "output_type": "stream",
     "text": [
      "x: <class 'float'>\n",
      "i: <class 'int'>\n"
     ]
    }
   ],
   "source": [
    "### Float\n",
    "x = 3.5\n",
    "print(f\"x: {type(x)}\")\n",
    "\n",
    "### Integer\n",
    "i = 42\n",
    "j = 40\n",
    "print(f\"i: {type(i)}\")"
   ]
  },
  {
   "cell_type": "code",
   "execution_count": 13,
   "metadata": {},
   "outputs": [
    {
     "name": "stdout",
     "output_type": "stream",
     "text": [
      "x times x: 12.25\n",
      "x squared: 12.25\n",
      "\n",
      "\n",
      "real division: 1.05\n",
      "integer division: 1\n",
      "remainder: 2\n"
     ]
    }
   ],
   "source": [
    "x_times_x = x*x\n",
    "x2 = x**2\n",
    "print(f\"x times x: {x_times_x}\")\n",
    "print(f\"x squared: {x2}\")\n",
    "\n",
    "print(\"\\n\")\n",
    "\n",
    "i_div_j = i/j\n",
    "i_int_div_j = i//j\n",
    "i_mod_j = i%j\n",
    "print(f\"real division: {i_div_j}\")\n",
    "print(f\"integer division: {i_int_div_j}\")\n",
    "print(f\"remainder: {i_mod_j}\")\n"
   ]
  },
  {
   "attachments": {},
   "cell_type": "markdown",
   "metadata": {},
   "source": [
    "### Booleans"
   ]
  },
  {
   "cell_type": "code",
   "execution_count": 14,
   "metadata": {},
   "outputs": [
    {
     "name": "stdout",
     "output_type": "stream",
     "text": [
      "I learn something:  False\n",
      "I learn python:  False\n",
      "I learn cpp:  False\n"
     ]
    }
   ],
   "source": [
    "### Boolean\n",
    "python_is_cool = True\n",
    "I_have_time = False\n",
    "cpp_is_better_than_python = False\n",
    "\n",
    "I_learn_python = python_is_cool and I_have_time\n",
    "\n",
    "I_learn_cpp = I_have_time and (cpp_is_better_than_python and (not python_is_cool))\n",
    "\n",
    "I_learn_something = I_learn_python or I_learn_cpp\n",
    "\n",
    "print(\"I learn something: \",I_learn_something)\n",
    "print(\"I learn python: \",I_learn_python)\n",
    "print(\"I learn cpp: \",I_learn_cpp)\n"
   ]
  },
  {
   "attachments": {},
   "cell_type": "markdown",
   "metadata": {},
   "source": [
    "### Strings"
   ]
  },
  {
   "cell_type": "code",
   "execution_count": 15,
   "metadata": {},
   "outputs": [
    {
     "name": "stdout",
     "output_type": "stream",
     "text": [
      "I must learn python\n"
     ]
    }
   ],
   "source": [
    "### String\n",
    "words = \"I must learn python\"\n",
    "print(words)"
   ]
  },
  {
   "cell_type": "code",
   "execution_count": 16,
   "metadata": {},
   "outputs": [
    {
     "name": "stdout",
     "output_type": "stream",
     "text": [
      "Length of \"words\": 19\n",
      "I\n"
     ]
    }
   ],
   "source": [
    "### Strings are treated as lists of characters\n",
    "print(f\"Length of \\\"words\\\": {len(words)}\") # <-- notice how we can use f in front of the string to substitute variables into the string\n",
    "print(words[0])"
   ]
  },
  {
   "cell_type": "code",
   "execution_count": 17,
   "metadata": {},
   "outputs": [
    {
     "name": "stdout",
     "output_type": "stream",
     "text": [
      "No, I must learn c++\n"
     ]
    }
   ],
   "source": [
    "### String manipulation\n",
    "words = words.replace(\"python\",\"c++\")\n",
    "words = \"No, \" + words\n",
    "print(words)"
   ]
  },
  {
   "attachments": {},
   "cell_type": "markdown",
   "metadata": {},
   "source": [
    "### Structured data"
   ]
  },
  {
   "cell_type": "code",
   "execution_count": 18,
   "metadata": {},
   "outputs": [],
   "source": [
    "### Set (unordered, unique)\n",
    "favorites = {'python','cpp','java','python'} # <-- notice how python will only be listed once\n",
    "\n",
    "### List (ordered)\n",
    "animals = ['lion','hippo']\n",
    "animals += ['baboon']\n",
    "cages   = [10,9,4]\n",
    "\n",
    "### Tuple (ordered, unchanging)\n",
    "animals = ('lion','hippo','baboon')\n",
    "#animals[1] = 'giraffe' # <-- this will throw an error\n",
    "\n",
    "### Dictionary (key:value pairs)\n",
    "zoo = {\n",
    "    'lion': 10,\n",
    "    'hippo': 9,\n",
    "    'baboon': 4\n",
    "}"
   ]
  },
  {
   "cell_type": "code",
   "execution_count": 19,
   "metadata": {},
   "outputs": [
    {
     "name": "stdout",
     "output_type": "stream",
     "text": [
      "{'lion': 10, 'hippo': 9, 'baboon': 4}\n",
      "dict_keys(['lion', 'hippo', 'baboon'])\n",
      "dict_values([10, 9, 4])\n"
     ]
    }
   ],
   "source": [
    "print(zoo)\n",
    "print(zoo.keys())\n",
    "print(zoo.values())"
   ]
  },
  {
   "attachments": {},
   "cell_type": "markdown",
   "metadata": {},
   "source": [
    "## Indexing"
   ]
  },
  {
   "cell_type": "code",
   "execution_count": 20,
   "metadata": {},
   "outputs": [
    {
     "name": "stdout",
     "output_type": "stream",
     "text": [
      "[1, 2, 3, 4, 5, 6, 7, 8, 9, 10, 11, 12, 13, 14, 15, 16, 17, 18, 19, 20, 21, 22, 23, 24, 25, 26, 27, 28, 29, 30]\n"
     ]
    }
   ],
   "source": [
    "days = [1, 2, 3, 4, 5, 6, 7, 8, 9, 10, 11, 12, 13, 14, 15, 16, 17, 18, 19, 20, 21, 22, 23, 24, 25, 26, 27, 28, 29, 30]\n",
    "print(days)"
   ]
  },
  {
   "attachments": {},
   "cell_type": "markdown",
   "metadata": {},
   "source": [
    "Syntax: [start:end:step]"
   ]
  },
  {
   "cell_type": "code",
   "execution_count": 21,
   "metadata": {},
   "outputs": [
    {
     "data": {
      "text/plain": [
       "[1, 2, 3, 4, 5, 6, 7, 8, 9, 10]"
      ]
     },
     "execution_count": 21,
     "metadata": {},
     "output_type": "execute_result"
    }
   ],
   "source": [
    "days[0:10]"
   ]
  },
  {
   "cell_type": "code",
   "execution_count": 22,
   "metadata": {},
   "outputs": [
    {
     "data": {
      "text/plain": [
       "30"
      ]
     },
     "execution_count": 22,
     "metadata": {},
     "output_type": "execute_result"
    }
   ],
   "source": [
    "days[-1]"
   ]
  },
  {
   "cell_type": "code",
   "execution_count": 23,
   "metadata": {},
   "outputs": [
    {
     "name": "stdout",
     "output_type": "stream",
     "text": [
      "[30, 29, 28, 27, 26, 25, 24, 23, 22, 21, 20, 19, 18, 17, 16, 15, 14, 13, 12, 11, 10, 9, 8, 7, 6, 5, 4, 3, 2, 1]\n"
     ]
    }
   ],
   "source": [
    "# by putting -1 as step, indexing will go backwards\n",
    "print(days[::-1])"
   ]
  },
  {
   "attachments": {},
   "cell_type": "markdown",
   "metadata": {},
   "source": [
    "## Logic and loops"
   ]
  },
  {
   "cell_type": "code",
   "execution_count": 24,
   "metadata": {},
   "outputs": [
    {
     "name": "stdout",
     "output_type": "stream",
     "text": [
      "a short month\n"
     ]
    }
   ],
   "source": [
    "if len(days) == 28:\n",
    "    print('it is February')\n",
    "elif len(days) == 31:\n",
    "    print('a looooooong month')\n",
    "else:\n",
    "    print('a short month')"
   ]
  },
  {
   "cell_type": "code",
   "execution_count": 25,
   "metadata": {},
   "outputs": [
    {
     "name": "stdout",
     "output_type": "stream",
     "text": [
      "1 2 3 4 5 6 7 8 9 10 11 12 13 14 15 16 17 18 19 20 21 22 23 24 25 26 27 28 29 30 "
     ]
    }
   ],
   "source": [
    "for day in days:\n",
    "    print(day,end=' ')"
   ]
  },
  {
   "cell_type": "code",
   "execution_count": 26,
   "metadata": {},
   "outputs": [
    {
     "name": "stdout",
     "output_type": "stream",
     "text": [
      "28\n"
     ]
    }
   ],
   "source": [
    "today = 18\n",
    "while today < 28:\n",
    "    today = today + 1\n",
    "\n",
    "print(today)"
   ]
  },
  {
   "attachments": {},
   "cell_type": "markdown",
   "metadata": {},
   "source": [
    "#### Helpful iteration methods"
   ]
  },
  {
   "cell_type": "code",
   "execution_count": 27,
   "metadata": {},
   "outputs": [],
   "source": [
    "dogs = ['spot','pluto','betty']\n",
    "cats = ['taz','garfield','simba']"
   ]
  },
  {
   "cell_type": "code",
   "execution_count": 28,
   "metadata": {},
   "outputs": [
    {
     "name": "stdout",
     "output_type": "stream",
     "text": [
      "spot taz\n",
      "pluto garfield\n",
      "betty simba\n"
     ]
    }
   ],
   "source": [
    "### zip\n",
    "for d,c in zip(dogs,cats):\n",
    "    print(d,c)"
   ]
  },
  {
   "cell_type": "code",
   "execution_count": 29,
   "metadata": {},
   "outputs": [
    {
     "name": "stdout",
     "output_type": "stream",
     "text": [
      "0: spot\n",
      "1: pluto\n",
      "2: betty\n"
     ]
    }
   ],
   "source": [
    "### enumerate\n",
    "for i, d in enumerate(dogs):\n",
    "    print(f\"{i}: {d}\")"
   ]
  },
  {
   "attachments": {},
   "cell_type": "markdown",
   "metadata": {},
   "source": [
    "## Functions"
   ]
  },
  {
   "cell_type": "code",
   "execution_count": 30,
   "metadata": {},
   "outputs": [],
   "source": [
    "def mean(data):\n",
    "\n",
    "    sum = 0\n",
    "    for x in data:\n",
    "        sum += x\n",
    "\n",
    "    return sum/len(data)"
   ]
  },
  {
   "attachments": {},
   "cell_type": "markdown",
   "metadata": {},
   "source": [
    "Lambda function"
   ]
  },
  {
   "cell_type": "code",
   "execution_count": 42,
   "metadata": {},
   "outputs": [],
   "source": [
    "another_mean = lambda data: sum(data)/len(data)"
   ]
  },
  {
   "cell_type": "code",
   "execution_count": 46,
   "metadata": {},
   "outputs": [
    {
     "name": "stdout",
     "output_type": "stream",
     "text": [
      "15.5\n",
      "15.5\n"
     ]
    }
   ],
   "source": [
    "print(mean(days))\n",
    "print(another_mean(days))"
   ]
  },
  {
   "attachments": {},
   "cell_type": "markdown",
   "metadata": {},
   "source": [
    "## Classes and inheritance"
   ]
  },
  {
   "attachments": {},
   "cell_type": "markdown",
   "metadata": {},
   "source": [
    "Classes are used to express entities that possess both attributes and functions (methods)"
   ]
  },
  {
   "cell_type": "code",
   "execution_count": 225,
   "metadata": {},
   "outputs": [],
   "source": [
    "from typing import Any\n",
    "\n",
    "\n",
    "class calendar:\n",
    "\n",
    "    ### Variables defined here are shared by all instances and are typically static\n",
    "    weekdays  = ['Sun','Mon','Tue','Wed','Thu','Fri','Sat']\n",
    "    months    = ['Jan','Feb','Mar','Apr','May','Jun','Jul','Aug','Sep','Oct','Nov','Dec']\n",
    "    Ndays     = [31,29,31,30,31,30,31,31,30,31,30,31] # <- note Feb had 29 days in 2024\n",
    "\n",
    "    ### Method names with \"dunder\" (double underscore) are reserved for special purposes\n",
    "    ### In the case of __init__, it gets called right when an instance of the class is created\n",
    "    def __init__(self):\n",
    "\n",
    "        ### Variables defined here belong to this specific instance and are typically dynamic\n",
    "        self.weekday  = 'Mon'\n",
    "        self.month    = 'Jan'\n",
    "        self.monthday =  1\n",
    "        self.yearday  =  0\n",
    "\n",
    "    ### Methods that do nothing in the base class simply do \"pass\" as a placeholder\n",
    "    def my_func(self):\n",
    "        pass\n",
    "\n",
    "    ### Custom methods\n",
    "    def next_day(self):\n",
    "\n",
    "        self.yearday += 1\n",
    "        self.yearday %= 365\n",
    "        self.update()\n",
    "        \n",
    "    def update(self):\n",
    "\n",
    "        ### Find which month we are in\n",
    "        count = 0\n",
    "        for month, N in zip(self.months,self.Ndays):\n",
    "\n",
    "            if self.yearday - count < N:\n",
    "\n",
    "                self.month = month\n",
    "                self.monthday = self.yearday - count + 1\n",
    "                self.weekday = self.weekdays[(self.yearday % 7) + 1] # 2024 started on a monday\n",
    "                break\n",
    "\n",
    "            count += N\n"
   ]
  },
  {
   "cell_type": "code",
   "execution_count": 226,
   "metadata": {},
   "outputs": [],
   "source": [
    "year_2024 = calendar()"
   ]
  },
  {
   "cell_type": "code",
   "execution_count": 227,
   "metadata": {},
   "outputs": [
    {
     "name": "stdout",
     "output_type": "stream",
     "text": [
      "Mon\n"
     ]
    }
   ],
   "source": [
    "print(year_2024.weekday)"
   ]
  },
  {
   "cell_type": "code",
   "execution_count": 228,
   "metadata": {},
   "outputs": [],
   "source": [
    "year_2024.next_day()"
   ]
  },
  {
   "cell_type": "code",
   "execution_count": 229,
   "metadata": {},
   "outputs": [
    {
     "name": "stdout",
     "output_type": "stream",
     "text": [
      "Tue\n"
     ]
    }
   ],
   "source": [
    "print(year_2024.weekday)"
   ]
  },
  {
   "attachments": {},
   "cell_type": "markdown",
   "metadata": {},
   "source": [
    "### Inherited class"
   ]
  },
  {
   "cell_type": "code",
   "execution_count": 230,
   "metadata": {},
   "outputs": [],
   "source": [
    "class better_calender(calendar):\n",
    "\n",
    "    ### Now let's \"overload\" the init function, adding optional user arguments during initialization\n",
    "    def __init__(self, date='Mon Jan 1'):\n",
    "\n",
    "        ### \"super\" allows the new class to access methods of the parent class\n",
    "        super().__init__()\n",
    "\n",
    "        ### Assert statements are helpful to avoid user mistakes\n",
    "        assert len(date.split(' ')) == 3, \"User-provided date is invalid. Please provide date in the form \\\"Mon Jan 1\\\"\"\n",
    "\n",
    "        ### Variables defined here belong to this specific instance and are typically dynamic\n",
    "        self.weekday  =     date.split(' ')[0]\n",
    "        self.month    =     date.split(' ')[1]\n",
    "        self.monthday = int(date.split(' ')[2])\n",
    "\n",
    "        ### Check that the weekday and month is valid\n",
    "        assert self.weekday in self.weekdays, f\"User-provided weekday {self.weekday} is invalid\"\n",
    "        assert self.month in self.months, f\"User-provided month {self.month} is invalid\"\n",
    "\n",
    "        ### Compute the yearday\n",
    "        self.get_yearday()\n",
    "\n",
    "    def get_yearday(self):\n",
    "\n",
    "        count = 0\n",
    "        for month, N in zip(self.months,self.Ndays):\n",
    "\n",
    "            if month != self.month:\n",
    "                count += N\n",
    "            else:\n",
    "                date = 1\n",
    "                while date < self.monthday:\n",
    "                    date  += 1\n",
    "                    count += 1\n",
    "                self.yearday = count\n",
    "\n",
    "    ### Let's add a new method overloading the function reserved for the purpose of printing an object\n",
    "    def __str__(self):\n",
    "        return f\"{self.weekday} {self.month} {self.monthday}\""
   ]
  },
  {
   "cell_type": "code",
   "execution_count": 237,
   "metadata": {},
   "outputs": [],
   "source": [
    "today = \"Thu Apr 18\"\n",
    "year_2024 = better_calender(today)"
   ]
  },
  {
   "cell_type": "code",
   "execution_count": 238,
   "metadata": {},
   "outputs": [
    {
     "data": {
      "text/plain": [
       "108"
      ]
     },
     "execution_count": 238,
     "metadata": {},
     "output_type": "execute_result"
    }
   ],
   "source": [
    "year_2024.yearday"
   ]
  },
  {
   "cell_type": "code",
   "execution_count": 239,
   "metadata": {},
   "outputs": [],
   "source": [
    "year_2024.next_day()"
   ]
  },
  {
   "cell_type": "code",
   "execution_count": 240,
   "metadata": {},
   "outputs": [
    {
     "name": "stdout",
     "output_type": "stream",
     "text": [
      "Fri Apr 19\n"
     ]
    }
   ],
   "source": [
    "print(year_2024)"
   ]
  }
 ],
 "metadata": {
  "kernelspec": {
   "display_name": "base",
   "language": "python",
   "name": "python3"
  },
  "language_info": {
   "codemirror_mode": {
    "name": "ipython",
    "version": 3
   },
   "file_extension": ".py",
   "mimetype": "text/x-python",
   "name": "python",
   "nbconvert_exporter": "python",
   "pygments_lexer": "ipython3",
   "version": "3.11.6"
  },
  "orig_nbformat": 4
 },
 "nbformat": 4,
 "nbformat_minor": 2
}

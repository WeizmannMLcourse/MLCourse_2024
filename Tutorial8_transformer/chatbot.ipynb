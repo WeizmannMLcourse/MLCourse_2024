{
  "cells": [
    {
      "cell_type": "code",
      "execution_count": 1,
      "metadata": {
        "id": "16vJtU4a3wO2"
      },
      "outputs": [],
      "source": [
        "import os\n",
        "import yaml\n",
        "import sys\n",
        "\n",
        "import re\n",
        "from collections import Counter\n",
        "import numpy as np\n",
        "import math\n",
        "from tqdm.notebook import tqdm\n",
        "\n",
        "import torch\n",
        "import torch.nn as nn\n",
        "import torch.nn.functional as F\n",
        "import torch.optim as optim\n",
        "from torch.utils.data import Dataset, DataLoader\n",
        "\n",
        "import matplotlib.pyplot as plt\n",
        "from matplotlib import gridspec"
      ]
    },
    {
      "cell_type": "code",
      "execution_count": 2,
      "metadata": {
        "id": "oiaTlNQU3wO3"
      },
      "outputs": [],
      "source": [
        "device = torch.device('cuda' if torch.cuda.is_available() else 'cpu')"
      ]
    },
    {
      "cell_type": "markdown",
      "source": [
        "# Get the dataset\n",
        "\n",
        "- The dataset is taken from the repo https://github.com/gunthercox/chatterbot-corpus/\n",
        "- Only the english part (https://github.com/gunthercox/chatterbot-corpus/tree/master/chatterbot_corpus/data/english)"
      ],
      "metadata": {
        "id": "wAdg1zMl4Ns5"
      }
    },
    {
      "cell_type": "code",
      "source": [
        "!wget https://www.dropbox.com/s/y767mmtt8uo8a41/data.zip"
      ],
      "metadata": {
        "colab": {
          "base_uri": "https://localhost:8080/"
        },
        "id": "X8C6j4N04uGM",
        "outputId": "7105243f-b915-423b-bce2-6870ed1b9f29"
      },
      "execution_count": 3,
      "outputs": [
        {
          "output_type": "stream",
          "name": "stdout",
          "text": [
            "--2024-05-30 09:50:04--  https://www.dropbox.com/s/y767mmtt8uo8a41/data.zip\n",
            "Resolving www.dropbox.com (www.dropbox.com)... 162.125.65.18, 2620:100:6017:18::a27d:212\n",
            "Connecting to www.dropbox.com (www.dropbox.com)|162.125.65.18|:443... connected.\n",
            "HTTP request sent, awaiting response... 302 Found\n",
            "Location: /s/raw/y767mmtt8uo8a41/data.zip [following]\n",
            "--2024-05-30 09:50:04--  https://www.dropbox.com/s/raw/y767mmtt8uo8a41/data.zip\n",
            "Reusing existing connection to www.dropbox.com:443.\n",
            "HTTP request sent, awaiting response... 302 Found\n",
            "Location: https://ucae917857a73be431c0cb62ce24.dl-eu.dropboxusercontent.com/cd/0/inline/CT0_AcE6lu9EzW_3QtWrZNFOaz2dGkw5jsYEzK-PM1-9ZJ3AwABCKiNhlh8cDDug8KtnOaRM-Fz2Wo7dXnclVGCAywDZ2PDk4xd_aqmHh_gzlExixVWj8vL-UFWGUz1Y5xRNxq9XZE90H72e5Nj6TqvT/file# [following]\n",
            "--2024-05-30 09:50:05--  https://ucae917857a73be431c0cb62ce24.dl-eu.dropboxusercontent.com/cd/0/inline/CT0_AcE6lu9EzW_3QtWrZNFOaz2dGkw5jsYEzK-PM1-9ZJ3AwABCKiNhlh8cDDug8KtnOaRM-Fz2Wo7dXnclVGCAywDZ2PDk4xd_aqmHh_gzlExixVWj8vL-UFWGUz1Y5xRNxq9XZE90H72e5Nj6TqvT/file\n",
            "Resolving ucae917857a73be431c0cb62ce24.dl-eu.dropboxusercontent.com (ucae917857a73be431c0cb62ce24.dl-eu.dropboxusercontent.com)... 162.125.65.15, 2620:100:6017:15::a27d:20f\n",
            "Connecting to ucae917857a73be431c0cb62ce24.dl-eu.dropboxusercontent.com (ucae917857a73be431c0cb62ce24.dl-eu.dropboxusercontent.com)|162.125.65.15|:443... connected.\n",
            "HTTP request sent, awaiting response... 302 Found\n",
            "Location: /cd/0/inline2/CT2gxV7NwVY2Eo5cJbnBCmQ8WpSOqs83Z2xz5wa6d88y11LSu9sUFj-Q2_rXUv4SU5IFvkhPiuUrpgMhVk8ppMyJapjJYCE7NBQHvoGep7tr2F6owbmtFXQSXPsgR0m8OOOa3edB0hB1lup6o91a3ETLYPPF2cYVGnf92fUzz4X3uwC31EifSGnhAPJ0Z07M_06z2b6CzAQ8y2nxyaSRTphWuEirXqIgwcN1KysZ_tdOcAXsQbjnoxeATJBTtRCBzJi3SySMVPuQAaKyyRxrKo6GNSMWH-40H8Fyw0gUsAiZAJai-FDBJnVM72apnS8bKlMPgeQgYjJPoRbDJScymu6EfX7zYUJEQzEnwMJt6Xw2-wmDDQZv1wrzJfe8wM03PkU/file [following]\n",
            "--2024-05-30 09:50:06--  https://ucae917857a73be431c0cb62ce24.dl-eu.dropboxusercontent.com/cd/0/inline2/CT2gxV7NwVY2Eo5cJbnBCmQ8WpSOqs83Z2xz5wa6d88y11LSu9sUFj-Q2_rXUv4SU5IFvkhPiuUrpgMhVk8ppMyJapjJYCE7NBQHvoGep7tr2F6owbmtFXQSXPsgR0m8OOOa3edB0hB1lup6o91a3ETLYPPF2cYVGnf92fUzz4X3uwC31EifSGnhAPJ0Z07M_06z2b6CzAQ8y2nxyaSRTphWuEirXqIgwcN1KysZ_tdOcAXsQbjnoxeATJBTtRCBzJi3SySMVPuQAaKyyRxrKo6GNSMWH-40H8Fyw0gUsAiZAJai-FDBJnVM72apnS8bKlMPgeQgYjJPoRbDJScymu6EfX7zYUJEQzEnwMJt6Xw2-wmDDQZv1wrzJfe8wM03PkU/file\n",
            "Reusing existing connection to ucae917857a73be431c0cb62ce24.dl-eu.dropboxusercontent.com:443.\n",
            "HTTP request sent, awaiting response... 200 OK\n",
            "Length: 26671 (26K) [application/zip]\n",
            "Saving to: ‘data.zip’\n",
            "\n",
            "data.zip            100%[===================>]  26.05K   160KB/s    in 0.2s    \n",
            "\n",
            "2024-05-30 09:50:06 (160 KB/s) - ‘data.zip’ saved [26671/26671]\n",
            "\n"
          ]
        }
      ]
    },
    {
      "cell_type": "code",
      "source": [
        "!unzip -q data.zip"
      ],
      "metadata": {
        "id": "zsLCWzoT4Txt"
      },
      "execution_count": 4,
      "outputs": []
    },
    {
      "cell_type": "code",
      "execution_count": 5,
      "metadata": {
        "id": "le3whhG63wO3"
      },
      "outputs": [],
      "source": [
        "def load_yaml_files(dirname, categories=None):\n",
        "    \"\"\"\n",
        "    Load all YAML files in the given directory and merge them into a single dictionary.\n",
        "    \"\"\"\n",
        "    dicts = []\n",
        "    for filename in os.listdir(dirname):\n",
        "        with open(os.path.join(dirname, filename), 'r') as f:\n",
        "            yaml_data = yaml.safe_load(f)\n",
        "            dicts.append(yaml_data)\n",
        "\n",
        "    if categories is not None:\n",
        "        dicts = [d for d in dicts if d['categories'][0] in categories]\n",
        "    return dicts\n",
        "\n",
        "def get_convo_pairs(dicts):\n",
        "    convo_pairs = []\n",
        "    for d in dicts:\n",
        "        for convo in d['conversations']:\n",
        "            for i in range(len(convo) - 1):\n",
        "                convo_pairs.append([convo[0], convo[i + 1]])\n",
        "\n",
        "    return convo_pairs\n"
      ]
    },
    {
      "cell_type": "code",
      "execution_count": 6,
      "metadata": {
        "colab": {
          "base_uri": "https://localhost:8080/"
        },
        "id": "WAu4H60u3wO4",
        "outputId": "2f27963d-4eb3-41d0-b034-2b564d6704ca"
      },
      "outputs": [
        {
          "output_type": "stream",
          "name": "stdout",
          "text": [
            "Number of conversations: 869\n"
          ]
        }
      ],
      "source": [
        "data_dict = load_yaml_files('data') #, ['emotion', 'greeting'])\n",
        "convo_pairs = get_convo_pairs(data_dict)\n",
        "print('Number of conversations:', len(convo_pairs))"
      ]
    },
    {
      "cell_type": "markdown",
      "metadata": {
        "id": "kQwt7kTJ3wO4"
      },
      "source": [
        "## Tokenizer"
      ]
    },
    {
      "cell_type": "code",
      "execution_count": 7,
      "metadata": {
        "id": "gfIAYz0y3wO5"
      },
      "outputs": [],
      "source": [
        "import re\n",
        "from collections import Counter\n",
        "import numpy as np\n",
        "\n",
        "class CustomTokenizer:\n",
        "    def __init__(self):\n",
        "        self.vocab = None\n",
        "        self.token_to_id = None\n",
        "        self.id_to_token = None\n",
        "        self.vocab_size = None\n",
        "        self.special_tokens = ['<EOS>', '<PAD>']\n",
        "        self.pad_token_id = -1\n",
        "        self.eos_token_id = -1\n",
        "\n",
        "    def fit_on_texts(self, texts, vocab_size=None):\n",
        "        # Tokenize the texts and build the vocabulary\n",
        "        tokenized_texts = [self.tokenize(text) for text in texts]\n",
        "        all_tokens = [token for text_tokens in tokenized_texts for token in text_tokens]\n",
        "        token_counts = Counter(all_tokens)\n",
        "\n",
        "        # Create vocabulary with most common tokens\n",
        "        if vocab_size is not None:\n",
        "            most_common_tokens = token_counts.most_common(vocab_size)\n",
        "        else:\n",
        "            most_common_tokens = token_counts.most_common()\n",
        "\n",
        "        self.vocab = [token for token, count in most_common_tokens] + self.special_tokens\n",
        "        self.vocab_size = len(self.vocab)\n",
        "\n",
        "        # Assign token IDs\n",
        "        self.token_to_id = {token: i for i, token in enumerate(self.vocab)}\n",
        "        self.id_to_token = {i: token for i, token in enumerate(self.vocab)}\n",
        "\n",
        "        self.pad_token_id = self.token_to_id['<PAD>']\n",
        "        self.eos_token_id = self.token_to_id['<EOS>']\n",
        "\n",
        "    def tokenize(self, text):\n",
        "        # Tokenize text into individual tokens\n",
        "        tokens = re.findall(r'\\w+|[^\\w\\s]', text.lower())\n",
        "        return tokens\n",
        "\n",
        "    def encode(self, text, max_length=None):\n",
        "        # Convert text to a sequence of token IDs\n",
        "        tokens = self.tokenize(text) + ['<EOS>']\n",
        "        token_ids = [self.token_to_id.get(token, 0) for token in tokens]  # Assign 0 for out-of-vocabulary tokens\n",
        "\n",
        "        if max_length is not None:\n",
        "\n",
        "            n_real_tokens = len(token_ids)\n",
        "\n",
        "            # Pad or truncate the token IDs to the specified max length\n",
        "            token_ids = self.pad_or_truncate(token_ids, max_length)\n",
        "\n",
        "            # Generate attention mask\n",
        "            attention_mask = [1] * n_real_tokens + [0] * (max_length - n_real_tokens)\n",
        "            # attention_mask = [1] * len(token_ids) + [0] * (max_length - len(token_ids))\n",
        "            attention_mask = np.array(attention_mask)\n",
        "\n",
        "            return token_ids, attention_mask\n",
        "\n",
        "        return token_ids\n",
        "\n",
        "    def decode(self, token_ids):\n",
        "        # Convert token IDs back to text\n",
        "        tokens = [self.id_to_token.get(token_id, '') for token_id in token_ids]\n",
        "        text = ' '.join(tokens)\n",
        "        return text\n",
        "\n",
        "    def pad_or_truncate(self, token_ids, max_length):\n",
        "        if len(token_ids) < max_length:\n",
        "            token_ids = token_ids + [self.pad_token_id] * (max_length - len(token_ids))\n",
        "        else:\n",
        "            token_ids = token_ids[:max_length]\n",
        "        return token_ids\n"
      ]
    },
    {
      "cell_type": "code",
      "execution_count": 8,
      "metadata": {
        "id": "MfY-w0vN3wO6"
      },
      "outputs": [],
      "source": [
        "tokenizer = CustomTokenizer()\n",
        "all_sentences = list(set([pair[0] for pair in convo_pairs] + [pair[1] for pair in convo_pairs]))\n",
        "tokenizer.fit_on_texts(all_sentences)"
      ]
    },
    {
      "cell_type": "code",
      "execution_count": 9,
      "metadata": {
        "colab": {
          "base_uri": "https://localhost:8080/"
        },
        "id": "G-Qd6xmy3wO6",
        "outputId": "09da2d84-3be2-4681-ec41-5dc44279d2a0"
      },
      "outputs": [
        {
          "output_type": "execute_result",
          "data": {
            "text/plain": [
              "['.', 'i', 'you', 'a', 'the', ',', 'is', '?', \"'\", 'of']"
            ]
          },
          "metadata": {},
          "execution_count": 9
        }
      ],
      "source": [
        "tokenizer.vocab[:10]"
      ]
    },
    {
      "cell_type": "code",
      "execution_count": 10,
      "metadata": {
        "colab": {
          "base_uri": "https://localhost:8080/"
        },
        "id": "elAykQxJ3wO6",
        "outputId": "62d6eb2e-6bdc-454d-c3ba-c590d812d861"
      },
      "outputs": [
        {
          "output_type": "execute_result",
          "data": {
            "text/plain": [
              "[362, 5, 33, 12, 2, 7, 1964]"
            ]
          },
          "metadata": {},
          "execution_count": 10
        }
      ],
      "source": [
        "tokenizer.encode('Hello, how are you?')"
      ]
    },
    {
      "cell_type": "code",
      "execution_count": 11,
      "metadata": {
        "colab": {
          "base_uri": "https://localhost:8080/"
        },
        "id": "h9PB5VdS3wO6",
        "outputId": "323a229d-5844-4aef-acae-16104aab7fd1"
      },
      "outputs": [
        {
          "output_type": "stream",
          "name": "stdout",
          "text": [
            "[362, 5, 33, 12, 2, 7, 1964, 1965, 1965, 1965, 1965, 1965, 1965, 1965, 1965, 1965, 1965, 1965, 1965, 1965]\n",
            "[1 1 1 1 1 1 1 0 0 0 0 0 0 0 0 0 0 0 0 0]\n"
          ]
        }
      ],
      "source": [
        "# Encode (token IDs) and generate attention mask\n",
        "tokens, attention_mask = tokenizer.encode('Hello, how are you?', max_length=20)\n",
        "print(tokens)\n",
        "print(attention_mask)"
      ]
    },
    {
      "cell_type": "code",
      "execution_count": 12,
      "metadata": {
        "colab": {
          "base_uri": "https://localhost:8080/",
          "height": 56
        },
        "id": "S4pCH41-3wO7",
        "outputId": "988aa4a7-5eb4-4435-b172-0401ed15346e"
      },
      "outputs": [
        {
          "output_type": "execute_result",
          "data": {
            "text/plain": [
              "'meet , how are you ? <EOS> <PAD>'"
            ],
            "application/vnd.google.colaboratory.intrinsic+json": {
              "type": "string"
            }
          },
          "metadata": {},
          "execution_count": 12
        }
      ],
      "source": [
        "# Decode (token IDs -> text)\n",
        "tokenizer.decode([462, 5, 33, 12, 2, 7, 1964, 1965])"
      ]
    },
    {
      "cell_type": "markdown",
      "metadata": {
        "id": "ROzUuI743wO7"
      },
      "source": [
        "## Extra stuff"
      ]
    },
    {
      "cell_type": "code",
      "execution_count": 13,
      "metadata": {
        "colab": {
          "base_uri": "https://localhost:8080/"
        },
        "id": "o_4ycqMc3wO7",
        "outputId": "f011bdc7-30fe-4cd6-9907-e0229d74a62d"
      },
      "outputs": [
        {
          "output_type": "stream",
          "name": "stdout",
          "text": [
            "max_seq_len: 53\n",
            "vocab_size: 1966\n"
          ]
        }
      ],
      "source": [
        "# maxmimum sequence length\n",
        "max_seq_len = 0\n",
        "for pair in convo_pairs:\n",
        "    tokens = tokenizer.encode(pair[0])\n",
        "    max_seq_len = max(max_seq_len, len(tokens))\n",
        "    tokens = tokenizer.encode(pair[1])\n",
        "    max_seq_len = max(max_seq_len, len(tokens))\n",
        "max_seq_len += 1\n",
        "print(f'max_seq_len: {max_seq_len}')\n",
        "\n",
        "# vocabulary size\n",
        "vocab_size = tokenizer.vocab_size\n",
        "print(f'vocab_size: {vocab_size}')"
      ]
    },
    {
      "cell_type": "markdown",
      "metadata": {
        "id": "tmdLZXmB3wO8"
      },
      "source": [
        "## Dataset"
      ]
    },
    {
      "cell_type": "code",
      "execution_count": 14,
      "metadata": {
        "id": "PsAozGix3wO8"
      },
      "outputs": [],
      "source": [
        "class ChatbotDataset(Dataset):\n",
        "    def __init__(self, convo_pairs, tokenizer, max_length):\n",
        "        self.tokenizer = tokenizer\n",
        "        self.convo_pairs = convo_pairs\n",
        "        self.max_length = max_length\n",
        "\n",
        "    def __len__(self):\n",
        "        return len(self.convo_pairs)\n",
        "\n",
        "    def __getitem__(self, index):\n",
        "        # Get a single example from the dataset\n",
        "        input, output = self.convo_pairs[index]\n",
        "\n",
        "        # Convert the input and output sentences to token IDs\n",
        "        input_ids, input_attention_mask   = self.tokenizer.encode(input, self.max_length)\n",
        "        output_ids, output_attention_mask = self.tokenizer.encode(output, self.max_length)\n",
        "\n",
        "        # Convert the token IDs to tensors\n",
        "        input_ids = torch.LongTensor(input_ids)\n",
        "        output_ids = torch.LongTensor(output_ids)\n",
        "\n",
        "        # Convert the attention masks to tensors\n",
        "        input_attention_mask = torch.LongTensor(input_attention_mask)\n",
        "        output_attention_mask = torch.LongTensor(output_attention_mask)\n",
        "\n",
        "        if output_attention_mask.shape != output_ids.shape:\n",
        "            print(index)\n",
        "\n",
        "        return input_ids, input_attention_mask, output_ids, output_attention_mask\n"
      ]
    },
    {
      "cell_type": "code",
      "execution_count": 15,
      "metadata": {
        "id": "yOKaX1983wO8"
      },
      "outputs": [],
      "source": [
        "dataset = ChatbotDataset(convo_pairs, tokenizer, max_length=max_seq_len)\n",
        "data_loader = DataLoader(dataset, batch_size=32, shuffle=True)"
      ]
    },
    {
      "cell_type": "markdown",
      "metadata": {
        "id": "jSb5qllr3wO8"
      },
      "source": [
        "## Network"
      ]
    },
    {
      "cell_type": "code",
      "execution_count": 16,
      "metadata": {
        "id": "lEFRU62N3wO8"
      },
      "outputs": [],
      "source": [
        "class PositionalEncoding(nn.Module):\n",
        "    def __init__(self, embed_size, max_seq_len, dropout=0.1):\n",
        "        super(PositionalEncoding, self).__init__()\n",
        "\n",
        "        self.dropout = nn.Dropout(p=dropout)\n",
        "\n",
        "        position = torch.arange(max_seq_len).unsqueeze(1)\n",
        "        div_term = torch.exp(torch.arange(0, embed_size, 2) * -(math.log(10000.0) / embed_size))\n",
        "        pe = torch.zeros(1, max_seq_len, embed_size)\n",
        "\n",
        "        pe[0, :, 0::2] = torch.sin(position * div_term)\n",
        "        pe[0, :, 1::2] = torch.cos(position * div_term)\n",
        "\n",
        "        self.register_buffer('pe', pe)\n",
        "\n",
        "    def forward(self, x):\n",
        "        x = x + self.pe[:, :x.size(1), :]\n",
        "        return self.dropout(x)\n",
        "\n",
        "\n",
        "class TransformerChatbot(nn.Module):\n",
        "    def __init__(self, vocab_size, embedding_size, hidden_size, num_heads, num_layers, max_seq_len):\n",
        "        super(TransformerChatbot, self).__init__()\n",
        "\n",
        "        self.max_seq_len = max_seq_len\n",
        "\n",
        "        self.embedding = nn.Embedding(vocab_size, embedding_size)\n",
        "        self.positional_encoding = PositionalEncoding(embedding_size, max_seq_len)\n",
        "        self.transformer_encoder = nn.TransformerEncoder(\n",
        "            nn.TransformerEncoderLayer(embedding_size, num_heads, hidden_size),\n",
        "            num_layers\n",
        "        )\n",
        "        self.decoder = nn.Sequential(\n",
        "            nn.Linear(embedding_size, hidden_size),\n",
        "            nn.ReLU(),\n",
        "            nn.Linear(hidden_size, hidden_size),\n",
        "            nn.ReLU(),\n",
        "            nn.Linear(hidden_size, vocab_size)\n",
        "        )\n",
        "\n",
        "    def forward(self, input_ids, input_attention_mask):\n",
        "        embedded = self.embedding(input_ids)\n",
        "        embedded = self.positional_encoding(embedded)\n",
        "\n",
        "        # Transpose the embedded tensor for transformer encoder\n",
        "        embedded = embedded.transpose(0, 1)\n",
        "        encoded = self.transformer_encoder(embedded, src_key_padding_mask=~input_attention_mask.bool())\n",
        "\n",
        "        # Transpose the encoded tensor back to the original shape\n",
        "        encoded = encoded.transpose(0, 1)\n",
        "\n",
        "        # Decode the encoded tensor\n",
        "        output = self.decoder(encoded)\n",
        "        return output\n",
        "\n",
        "    def generate(self, input_text, tokenizer, device, return_full_text=False, sample=False):\n",
        "        # Set the model to evaluation mode (dropout + normalization layers won't work)\n",
        "        self.eval()\n",
        "\n",
        "        # Encode the input text to token IDs\n",
        "        input_ids, input_attention_mask = tokenizer.encode(input_text, self.max_seq_len)\n",
        "\n",
        "        # Convert the token IDs to tensors\n",
        "        input_ids = torch.LongTensor(input_ids).unsqueeze(0).to(device)\n",
        "        input_attention_mask = torch.LongTensor(input_attention_mask).unsqueeze(0).to(device)\n",
        "\n",
        "        # Generate output token IDs\n",
        "        output_ids = self.forward(input_ids, input_attention_mask)\n",
        "\n",
        "        if sample:\n",
        "            # sample from top 5\n",
        "            output_ids = torch.topk(output_ids, k=3, dim=-1)[1]\n",
        "\n",
        "            # Get the size of the third dimension\n",
        "            num_elements = output_ids.size(-1)\n",
        "\n",
        "            # Choose a random index to sample from\n",
        "            index = torch.multinomial(torch.ones(num_elements), 1).item()\n",
        "\n",
        "            # Get the sampled element\n",
        "            output_ids = output_ids[:, :, index]\n",
        "        else:\n",
        "            output_ids = output_ids.argmax(dim=-1)\n",
        "\n",
        "        # Decode the output token IDs\n",
        "        output_text_full = tokenizer.decode(output_ids[0].tolist())\n",
        "\n",
        "        # Remove everything after the first <EOS> token\n",
        "        output_text = output_text_full.split('<EOS>')[0].strip()\n",
        "\n",
        "        if return_full_text:\n",
        "            return output_text, output_text_full\n",
        "        else:\n",
        "            return output_text"
      ]
    },
    {
      "cell_type": "code",
      "execution_count": 17,
      "metadata": {
        "id": "uETFmvIp3wO9"
      },
      "outputs": [],
      "source": [
        "embedding_size = 128\n",
        "hidden_size = 128\n",
        "num_heads = 4\n",
        "num_layers = 2"
      ]
    },
    {
      "cell_type": "markdown",
      "metadata": {
        "id": "YGjdlzSy3wO9"
      },
      "source": [
        "## Weighted custom loss"
      ]
    },
    {
      "cell_type": "code",
      "execution_count": 18,
      "metadata": {
        "id": "feQl81M93wO9"
      },
      "outputs": [],
      "source": [
        "chars = {i:[] for i in range(max_seq_len)}\n",
        "chars_int = {i:[] for i in range(max_seq_len)}\n",
        "chars_all = []\n",
        "for i in range(len(convo_pairs)):\n",
        "    for convo in convo_pairs[i]:\n",
        "        tokens = tokenizer.encode(convo, max_length=max_seq_len)[0]\n",
        "\n",
        "        for j in range(max_seq_len):\n",
        "            decoded = tokenizer.decode([tokens[j]])\n",
        "\n",
        "            chars_all.append(decoded)\n",
        "            chars[j].append(decoded)\n",
        "            chars_int[j].append(tokens[j])"
      ]
    },
    {
      "cell_type": "code",
      "execution_count": 19,
      "metadata": {
        "colab": {
          "base_uri": "https://localhost:8080/",
          "height": 982
        },
        "id": "Ybb0OkUM3wO9",
        "outputId": "c5ab9e40-cffa-425c-a6a8-22473d273d91"
      },
      "outputs": [
        {
          "output_type": "display_data",
          "data": {
            "text/plain": [
              "<Figure size 2250x1500 with 12 Axes>"
            ],
            "image/png": "[encoded data removed]"
          },
          "metadata": {}
        }
      ],
      "source": [
        "plt.figure(figsize=(15, 10), dpi=150)\n",
        "gs = gridspec.GridSpec(3, 4, wspace=0.3, hspace=0.6)\n",
        "\n",
        "# plot top 5 most common characters\n",
        "for i in range(12):\n",
        "    counter = Counter(chars[i])\n",
        "    most_common = counter.most_common(6)\n",
        "\n",
        "    for j in range(6):\n",
        "        if most_common[j][0] == '<PAD>':\n",
        "            most_common.pop(j)\n",
        "            break\n",
        "    if len(most_common) == 6:\n",
        "        most_common.pop()\n",
        "\n",
        "    ax = plt.subplot(gs[i])\n",
        "    ax.bar([x[0] for x in most_common], [x[1] for x in most_common])\n",
        "    ax.set_title(f'position {i}')"
      ]
    },
    {
      "cell_type": "code",
      "execution_count": 20,
      "metadata": {
        "id": "MdMg0U6W3wO9"
      },
      "outputs": [],
      "source": [
        "class CustomLoss(nn.Module):\n",
        "    def __init__(self, num_classes, token_weights, tokenizer):\n",
        "        super(CustomLoss, self).__init__()\n",
        "        self.num_classes = num_classes\n",
        "        self.tokenizer = tokenizer\n",
        "\n",
        "        # self.token_weights = token_weights\n",
        "        # self.max_seq_len = token_weights.size(0)\n",
        "        # self.arange_idx = torch.arange(0, max_seq_len).to(device)\n",
        "\n",
        "    def forward(self, logits, targets):\n",
        "\n",
        "        # no loss for the padded tokens\n",
        "        ce_loss = F.cross_entropy(logits.view(-1, self.num_classes), targets.view(-1), reduction='none', ignore_index=self.tokenizer.pad_token_id)\n",
        "\n",
        "        # bs = logits.size(0)\n",
        "        # # Create a weight mask that matches the shape of ce_loss\n",
        "        # weight_mask = self.token_weights[self.arange_idx.repeat(bs), targets.view(-1)]\n",
        "\n",
        "        # # Apply the weight mask element-wise to the CrossEntropy loss\n",
        "        # weighted_loss = ce_loss * weight_mask\n",
        "\n",
        "        # # Average the loss across non-padding positions\n",
        "        # loss = weighted_loss.mean()\n",
        "\n",
        "        loss = ce_loss.mean()\n",
        "\n",
        "        return loss"
      ]
    },
    {
      "cell_type": "markdown",
      "metadata": {
        "id": "mSl_9seB3wO9"
      },
      "source": [
        "## Training function"
      ]
    },
    {
      "cell_type": "code",
      "execution_count": 21,
      "metadata": {
        "id": "0COaHZ9J3wO-"
      },
      "outputs": [],
      "source": [
        "def train(model, data_loader, optimizer, criterion):\n",
        "    model.train()\n",
        "    total_loss = 0\n",
        "\n",
        "    for batch in data_loader:\n",
        "        input_ids, input_attention_mask, output_ids, output_attention_mask = batch\n",
        "\n",
        "        input_ids = input_ids.to(device)\n",
        "        input_attention_mask = input_attention_mask.to(device)\n",
        "        output_ids = output_ids.to(device)\n",
        "        output_attention_mask = output_attention_mask.to(device)\n",
        "\n",
        "        optimizer.zero_grad()\n",
        "\n",
        "        logits = model(input_ids, input_attention_mask)\n",
        "        labels = output_ids\n",
        "\n",
        "        loss = criterion(logits, labels)\n",
        "\n",
        "        loss.backward()\n",
        "        optimizer.step()\n",
        "\n",
        "        total_loss += loss.item()\n",
        "\n",
        "        # # write and erase loss\n",
        "        # sys.stdout.write(f'\\rLoss: {loss.item():.4f}')\n",
        "\n",
        "    return total_loss / len(data_loader)"
      ]
    },
    {
      "cell_type": "code",
      "execution_count": 22,
      "metadata": {
        "colab": {
          "base_uri": "https://localhost:8080/"
        },
        "id": "5Dt_p4003wO-",
        "outputId": "2cc6ecab-404e-4ffa-9bd3-91e1bdaf88e0"
      },
      "outputs": [
        {
          "output_type": "stream",
          "name": "stderr",
          "text": [
            "/usr/local/lib/python3.10/dist-packages/torch/nn/modules/transformer.py:306: UserWarning: enable_nested_tensor is True, but self.use_nested_tensor is False because encoder_layer.self_attn.batch_first was not True(use batch_first for better inference performance)\n",
            "  warnings.warn(f\"enable_nested_tensor is True, but self.use_nested_tensor is False because {why_not_sparsity_fast_path}\")\n"
          ]
        },
        {
          "output_type": "stream",
          "name": "stdout",
          "text": [
            "Number of parameters: 737454\n"
          ]
        }
      ],
      "source": [
        "token_weights = None\n",
        "\n",
        "# Instantiate the TransformerChatbot model\n",
        "model = TransformerChatbot(vocab_size, embedding_size, hidden_size, num_heads, num_layers, max_seq_len).to(device)\n",
        "\n",
        "# count the number of trainable parameters\n",
        "num_params = sum(p.numel() for p in model.parameters() if p.requires_grad)\n",
        "print(f'Number of parameters: {num_params}')\n",
        "\n",
        "# Define the loss function and optimizer\n",
        "criterion = CustomLoss(vocab_size, token_weights, tokenizer)\n",
        "optimizer = optim.Adam(model.parameters(), lr=0.0003)\n",
        "\n",
        "losses = []"
      ]
    },
    {
      "cell_type": "markdown",
      "metadata": {
        "id": "LvuAFnaP3wO-"
      },
      "source": [
        "## Training"
      ]
    },
    {
      "cell_type": "code",
      "execution_count": 23,
      "metadata": {
        "colab": {
          "base_uri": "https://localhost:8080/",
          "height": 89
        },
        "id": "NHIaO6Tp3wO-",
        "outputId": "668c76f2-582b-4e7a-ef4a-2a42b7297877"
      },
      "outputs": [
        {
          "output_type": "execute_result",
          "data": {
            "text/plain": [
              "'our our bionic electricity researchers president packets our our our our our our our our our our our our our our our our our our our our our our our our our researchers researchers researchers researchers researchers strawberry strawberry our our our our researchers researchers our our our our our strawberry strawberry strawberry'"
            ],
            "application/vnd.google.colaboratory.intrinsic+json": {
              "type": "string"
            }
          },
          "metadata": {},
          "execution_count": 23
        }
      ],
      "source": [
        "str = \"Hi, how are you?\"\n",
        "model.generate(str, tokenizer=tokenizer, device=device)"
      ]
    },
    {
      "cell_type": "code",
      "execution_count": 24,
      "metadata": {
        "colab": {
          "base_uri": "https://localhost:8080/",
          "height": 1000,
          "referenced_widgets": [
            "250e9814ae924670979edbc8c8e40066",
            "06f51038e9ec412e99c58c8b02cc82af",
            "4156bd00174c4f0aa9ceeb1e7bd441e0",
            "5a07870e47af4ad99338bee0dc1c2f58",
            "69322626cf714b90ab2e94cb49f40d83",
            "7b4e9287fa5f4afb911e08eb418d29fd",
            "a8046dfce74f4b0b874c364e0ed7d998",
            "35e10a5920444889b6ae98f578ed0299",
            "1253c3370faa49b894a4e4d15dd71905",
            "aa37eb707172458bbce1baea9e1290cd",
            "6557a969180a49efb65f4d4b611750b9"
          ]
        },
        "id": "wZSbvUpt3wO-",
        "outputId": "44b8ed3d-22bc-433d-f6a9-1d8a92140580"
      },
      "outputs": [
        {
          "output_type": "display_data",
          "data": {
            "text/plain": [
              "  0%|          | 0/1000 [00:00<?, ?it/s]"
            ],
            "application/vnd.jupyter.widget-view+json": {
              "version_major": 2,
              "version_minor": 0,
              "model_id": "250e9814ae924670979edbc8c8e40066"
            }
          },
          "metadata": {}
        },
        {
          "output_type": "stream",
          "name": "stdout",
          "text": [
            "Qn:  Hi, how are you?\n",
            "Epoch -1: our our bionic electricity researchers president packets our our our our our our our our our our our our our our our our our our our our our our our our our researchers researchers researchers researchers researchers strawberry strawberry our our our our researchers researchers our our our our our strawberry strawberry strawberry\n",
            "Epoch 9: i . i . . .\n",
            "Epoch 19: i\n",
            "Epoch 29: i\n",
            "Epoch 39: i you i . .\n",
            "Epoch 49: i . good . .\n",
            "Epoch 59: i\n",
            "Epoch 69: fine\n",
            "Epoch 79: i\n",
            "Epoch 89: fine probability also . .\n",
            "Epoch 99: fine\n",
            "Epoch 109: fine m am . .\n",
            "Epoch 119: right m good . .\n",
            "Epoch 129: fine m good . . .\n",
            "Epoch 139: fine m also . . .\n",
            "Epoch 149: fine you good . .\n",
            "Epoch 159: fine you good . . .\n",
            "Epoch 169: fine probability good . . .\n",
            "Epoch 179: fine you . . .\n",
            "Epoch 189: fine you good . .\n",
            "Epoch 199: fine you . . . .\n",
            "Epoch 209: fine , . , . .\n",
            "Epoch 219: fine you good . . .\n",
            "Epoch 229: fine you good . .\n",
            "Epoch 239: fine you good . . .\n",
            "Epoch 249: fine you . . .\n",
            "Epoch 259: fine you good . .\n",
            "Epoch 269: fine you . . .\n",
            "Epoch 279: fine , . . . .\n",
            "Epoch 289: fine you good . . .\n",
            "Epoch 299: fine , . . .\n",
            "Epoch 309: fine you good . .\n",
            "Epoch 319: fine , better . .\n",
            "Epoch 329: fine , good . .\n",
            "Epoch 339: fine you good . .\n",
            "Epoch 349: fine you better . .\n",
            "Epoch 359: fine you good . .\n",
            "Epoch 369: fine , good . .\n",
            "Epoch 379: fine you good . .\n",
            "Epoch 389: fine you good . .\n",
            "Epoch 399: fine you good . .\n",
            "Epoch 409: fine you good . .\n",
            "Epoch 419: fine you good . .\n",
            "Epoch 429: fine , good . .\n",
            "Epoch 439: fine you . . .\n",
            "Epoch 449: fine you good . .\n",
            "Epoch 459: fine you good . .\n",
            "Epoch 469: fine you good . . .\n",
            "Epoch 479: fine you good . .\n",
            "Epoch 489: fine you good . .\n",
            "Epoch 499: fine , good . .\n",
            "Epoch 509: fine you good . .\n",
            "Epoch 519: okay you good . .\n",
            "Epoch 529: fine you good have .\n",
            "Epoch 539: fine like good . .\n",
            "Epoch 549: okay you good . .\n",
            "Epoch 559: okay you good . .\n",
            "Epoch 569: fine you good . .\n",
            "Epoch 579: fine you good . .\n",
            "Epoch 589: fine like good . .\n",
            "Epoch 599: fine you good . .\n",
            "Epoch 609: fine you good . .\n",
            "Epoch 619: fine you good . .\n",
            "Epoch 629: fine like good . .\n",
            "Epoch 639: fine like good . .\n",
            "Epoch 649: fine like good . . .\n",
            "Epoch 659: fine like . . .\n",
            "Epoch 669: fine like . . .\n",
            "Epoch 679: fine like good . .\n",
            "Epoch 689: fine like good . .\n",
            "Epoch 699: fine like good . .\n",
            "Epoch 709: fine like good . . .\n",
            "Epoch 719: fine you good . . .\n",
            "Epoch 729: fine like good . .\n",
            "Epoch 739: fine like . . .\n",
            "Epoch 749: fine like .\n",
            "Epoch 759: fine you . . . .\n",
            "Epoch 769: fine like . . .\n",
            "Epoch 779: fine you good . .\n",
            "Epoch 789: fine like good . .\n",
            "Epoch 799: fine like good . possessions\n",
            "Epoch 809: fine you great . .\n",
            "Epoch 819: fine like good\n",
            "Epoch 829: fine like . . .\n",
            "Epoch 839: fine like good . .\n",
            "Epoch 849: fine like . . .\n",
            "Epoch 859: fine you good . possessions\n",
            "Epoch 869: fine you good . .\n",
            "Epoch 879: fine like good . .\n",
            "Epoch 889: fine like better . .\n",
            "Epoch 899: fine like .\n",
            "Epoch 909: fine like good . .\n",
            "Epoch 919: okay like good . .\n",
            "Epoch 929: fine you good . possessions\n",
            "Epoch 939: fine like good . .\n",
            "Epoch 949: okay you good . possessions\n",
            "Epoch 959: fine like good . possessions\n",
            "Epoch 969: fine you .\n",
            "Epoch 979: fine like good . possessions\n",
            "Epoch 989: fine you good . .\n",
            "Epoch 999: okay you good . .\n"
          ]
        }
      ],
      "source": [
        "# Training loop\n",
        "num_epochs = 1000\n",
        "\n",
        "for epoch in tqdm(range(num_epochs)):\n",
        "    if epoch == 0:\n",
        "        str = \"Hi, how are you?\"\n",
        "        print(\"Qn: \", str)\n",
        "        print('Epoch -1:', model.generate(str, tokenizer, device))\n",
        "\n",
        "    train_loss = train(model, data_loader, optimizer, criterion)\n",
        "    losses.append(train_loss)\n",
        "\n",
        "    if (epoch + 1) % 10 == 0:\n",
        "        str = \"Hi, how are you?\"\n",
        "        print(f'Epoch {epoch}:', model.generate(str, tokenizer, device))\n",
        "        model.train()"
      ]
    },
    {
      "cell_type": "code",
      "execution_count": 25,
      "metadata": {
        "id": "l3_3ygvA3wO-",
        "outputId": "62687de2-395c-4a50-a3f6-4aecf55cee04",
        "colab": {
          "base_uri": "https://localhost:8080/",
          "height": 486
        }
      },
      "outputs": [
        {
          "output_type": "execute_result",
          "data": {
            "text/plain": [
              "Text(0, 0.5, 'Loss')"
            ]
          },
          "metadata": {},
          "execution_count": 25
        },
        {
          "output_type": "display_data",
          "data": {
            "text/plain": [
              "<Figure size 640x480 with 1 Axes>"
            ],
            "image/png": "[encoded data removed]"
          },
          "metadata": {}
        }
      ],
      "source": [
        "plt.plot(losses)\n",
        "plt.xlabel('Epoch')\n",
        "plt.ylabel('Loss')"
      ]
    },
    {
      "cell_type": "code",
      "execution_count": 26,
      "metadata": {
        "id": "jDUCEdXe3wO_"
      },
      "outputs": [],
      "source": [
        "# save model\n",
        "torch.save(model.state_dict(), 'model.pth')"
      ]
    },
    {
      "cell_type": "code",
      "execution_count": 27,
      "metadata": {
        "id": "3FyOg4AG3wO_",
        "colab": {
          "base_uri": "https://localhost:8080/"
        },
        "outputId": "35582281-ba31-44e1-f8f6-e0bf510d943d"
      },
      "outputs": [
        {
          "output_type": "execute_result",
          "data": {
            "text/plain": [
              "<All keys matched successfully>"
            ]
          },
          "metadata": {},
          "execution_count": 27
        }
      ],
      "source": [
        "model.load_state_dict(torch.load('model.pth'))"
      ]
    },
    {
      "cell_type": "markdown",
      "metadata": {
        "id": "x1L29PGt3wO_"
      },
      "source": [
        "## Stochasticity in chatbot response (with sampling)\n"
      ]
    },
    {
      "cell_type": "code",
      "execution_count": 29,
      "metadata": {
        "id": "ljqJ7i9v3wO_",
        "outputId": "8af145e7-c319-4c8c-b749-94a8e9d756c9",
        "colab": {
          "base_uri": "https://localhost:8080/"
        }
      },
      "outputs": [
        {
          "output_type": "stream",
          "name": "stdout",
          "text": [
            "Qn:  Hi, how are you? \n",
            "\n",
            "------------------------------\n",
            "without sampling (argmax)\n",
            "------------------------------\n",
            "okay you good . .\n",
            "okay you good . .\n",
            "okay you good . .\n",
            "\n",
            "------------------------------\n",
            "with sampling (top 5)\n",
            "------------------------------\n",
            "okay you good . .\n",
            "not\n",
            "fine like .\n",
            "not\n",
            "fine like .\n"
          ]
        }
      ],
      "source": [
        "str = \"Hi, how are you?\"\n",
        "\n",
        "print(\"Qn: \", str, '\\n')\n",
        "\n",
        "print('-'*30)\n",
        "print('without sampling (argmax)')\n",
        "print('-'*30)\n",
        "for i in range(3):\n",
        "    print(model.generate(str, tokenizer, device, sample=False))\n",
        "\n",
        "print()\n",
        "print('-'*30)\n",
        "print('with sampling (top 5)')\n",
        "print('-'*30)\n",
        "for i in range(5):\n",
        "    print(model.generate(str, tokenizer, device, sample=True))"
      ]
    },
    {
      "cell_type": "code",
      "execution_count": null,
      "metadata": {
        "id": "gVn3eZca3wO_"
      },
      "outputs": [],
      "source": []
    }
  ],
  "metadata": {
    "kernelspec": {
      "display_name": "Python 3",
      "name": "python3"
    },
    "language_info": {
      "codemirror_mode": {
        "name": "ipython",
        "version": 3
      },
      "file_extension": ".py",
      "mimetype": "text/x-python",
      "name": "python",
      "nbconvert_exporter": "python",
      "pygments_lexer": "ipython3",
      "version": "3.9.16"
    },
    "orig_nbformat": 4,
    "colab": {
      "provenance": [],
      "gpuType": "T4"
    },
    "accelerator": "GPU",
    "widgets": {
      "application/vnd.jupyter.widget-state+json": {
        "250e9814ae924670979edbc8c8e40066": {
          "model_module": "@jupyter-widgets/controls",
          "model_name": "HBoxModel",
          "model_module_version": "1.5.0",
          "state": {
            "_dom_classes": [],
            "_model_module": "@jupyter-widgets/controls",
            "_model_module_version": "1.5.0",
            "_model_name": "HBoxModel",
            "_view_count": null,
            "_view_module": "@jupyter-widgets/controls",
            "_view_module_version": "1.5.0",
            "_view_name": "HBoxView",
            "box_style": "",
            "children": [
              "IPY_MODEL_06f51038e9ec412e99c58c8b02cc82af",
              "IPY_MODEL_4156bd00174c4f0aa9ceeb1e7bd441e0",
              "IPY_MODEL_5a07870e47af4ad99338bee0dc1c2f58"
            ],
            "layout": "IPY_MODEL_69322626cf714b90ab2e94cb49f40d83"
          }
        },
        "06f51038e9ec412e99c58c8b02cc82af": {
          "model_module": "@jupyter-widgets/controls",
          "model_name": "HTMLModel",
          "model_module_version": "1.5.0",
          "state": {
            "_dom_classes": [],
            "_model_module": "@jupyter-widgets/controls",
            "_model_module_version": "1.5.0",
            "_model_name": "HTMLModel",
            "_view_count": null,
            "_view_module": "@jupyter-widgets/controls",
            "_view_module_version": "1.5.0",
            "_view_name": "HTMLView",
            "description": "",
            "description_tooltip": null,
            "layout": "IPY_MODEL_7b4e9287fa5f4afb911e08eb418d29fd",
            "placeholder": "​",
            "style": "IPY_MODEL_a8046dfce74f4b0b874c364e0ed7d998",
            "value": "100%"
          }
        },
        "4156bd00174c4f0aa9ceeb1e7bd441e0": {
          "model_module": "@jupyter-widgets/controls",
          "model_name": "FloatProgressModel",
          "model_module_version": "1.5.0",
          "state": {
            "_dom_classes": [],
            "_model_module": "@jupyter-widgets/controls",
            "_model_module_version": "1.5.0",
            "_model_name": "FloatProgressModel",
            "_view_count": null,
            "_view_module": "@jupyter-widgets/controls",
            "_view_module_version": "1.5.0",
            "_view_name": "ProgressView",
            "bar_style": "success",
            "description": "",
            "description_tooltip": null,
            "layout": "IPY_MODEL_35e10a5920444889b6ae98f578ed0299",
            "max": 1000,
            "min": 0,
            "orientation": "horizontal",
            "style": "IPY_MODEL_1253c3370faa49b894a4e4d15dd71905",
            "value": 1000
          }
        },
        "5a07870e47af4ad99338bee0dc1c2f58": {
          "model_module": "@jupyter-widgets/controls",
          "model_name": "HTMLModel",
          "model_module_version": "1.5.0",
          "state": {
            "_dom_classes": [],
            "_model_module": "@jupyter-widgets/controls",
            "_model_module_version": "1.5.0",
            "_model_name": "HTMLModel",
            "_view_count": null,
            "_view_module": "@jupyter-widgets/controls",
            "_view_module_version": "1.5.0",
            "_view_name": "HTMLView",
            "description": "",
            "description_tooltip": null,
            "layout": "IPY_MODEL_aa37eb707172458bbce1baea9e1290cd",
            "placeholder": "​",
            "style": "IPY_MODEL_6557a969180a49efb65f4d4b611750b9",
            "value": " 1000/1000 [04:00&lt;00:00,  4.47it/s]"
          }
        },
        "69322626cf714b90ab2e94cb49f40d83": {
          "model_module": "@jupyter-widgets/base",
          "model_name": "LayoutModel",
          "model_module_version": "1.2.0",
          "state": {
            "_model_module": "@jupyter-widgets/base",
            "_model_module_version": "1.2.0",
            "_model_name": "LayoutModel",
            "_view_count": null,
            "_view_module": "@jupyter-widgets/base",
            "_view_module_version": "1.2.0",
            "_view_name": "LayoutView",
            "align_content": null,
            "align_items": null,
            "align_self": null,
            "border": null,
            "bottom": null,
            "display": null,
            "flex": null,
            "flex_flow": null,
            "grid_area": null,
            "grid_auto_columns": null,
            "grid_auto_flow": null,
            "grid_auto_rows": null,
            "grid_column": null,
            "grid_gap": null,
            "grid_row": null,
            "grid_template_areas": null,
            "grid_template_columns": null,
            "grid_template_rows": null,
            "height": null,
            "justify_content": null,
            "justify_items": null,
            "left": null,
            "margin": null,
            "max_height": null,
            "max_width": null,
            "min_height": null,
            "min_width": null,
            "object_fit": null,
            "object_position": null,
            "order": null,
            "overflow": null,
            "overflow_x": null,
            "overflow_y": null,
            "padding": null,
            "right": null,
            "top": null,
            "visibility": null,
            "width": null
          }
        },
        "7b4e9287fa5f4afb911e08eb418d29fd": {
          "model_module": "@jupyter-widgets/base",
          "model_name": "LayoutModel",
          "model_module_version": "1.2.0",
          "state": {
            "_model_module": "@jupyter-widgets/base",
            "_model_module_version": "1.2.0",
            "_model_name": "LayoutModel",
            "_view_count": null,
            "_view_module": "@jupyter-widgets/base",
            "_view_module_version": "1.2.0",
            "_view_name": "LayoutView",
            "align_content": null,
            "align_items": null,
            "align_self": null,
            "border": null,
            "bottom": null,
            "display": null,
            "flex": null,
            "flex_flow": null,
            "grid_area": null,
            "grid_auto_columns": null,
            "grid_auto_flow": null,
            "grid_auto_rows": null,
            "grid_column": null,
            "grid_gap": null,
            "grid_row": null,
            "grid_template_areas": null,
            "grid_template_columns": null,
            "grid_template_rows": null,
            "height": null,
            "justify_content": null,
            "justify_items": null,
            "left": null,
            "margin": null,
            "max_height": null,
            "max_width": null,
            "min_height": null,
            "min_width": null,
            "object_fit": null,
            "object_position": null,
            "order": null,
            "overflow": null,
            "overflow_x": null,
            "overflow_y": null,
            "padding": null,
            "right": null,
            "top": null,
            "visibility": null,
            "width": null
          }
        },
        "a8046dfce74f4b0b874c364e0ed7d998": {
          "model_module": "@jupyter-widgets/controls",
          "model_name": "DescriptionStyleModel",
          "model_module_version": "1.5.0",
          "state": {
            "_model_module": "@jupyter-widgets/controls",
            "_model_module_version": "1.5.0",
            "_model_name": "DescriptionStyleModel",
            "_view_count": null,
            "_view_module": "@jupyter-widgets/base",
            "_view_module_version": "1.2.0",
            "_view_name": "StyleView",
            "description_width": ""
          }
        },
        "35e10a5920444889b6ae98f578ed0299": {
          "model_module": "@jupyter-widgets/base",
          "model_name": "LayoutModel",
          "model_module_version": "1.2.0",
          "state": {
            "_model_module": "@jupyter-widgets/base",
            "_model_module_version": "1.2.0",
            "_model_name": "LayoutModel",
            "_view_count": null,
            "_view_module": "@jupyter-widgets/base",
            "_view_module_version": "1.2.0",
            "_view_name": "LayoutView",
            "align_content": null,
            "align_items": null,
            "align_self": null,
            "border": null,
            "bottom": null,
            "display": null,
            "flex": null,
            "flex_flow": null,
            "grid_area": null,
            "grid_auto_columns": null,
            "grid_auto_flow": null,
            "grid_auto_rows": null,
            "grid_column": null,
            "grid_gap": null,
            "grid_row": null,
            "grid_template_areas": null,
            "grid_template_columns": null,
            "grid_template_rows": null,
            "height": null,
            "justify_content": null,
            "justify_items": null,
            "left": null,
            "margin": null,
            "max_height": null,
            "max_width": null,
            "min_height": null,
            "min_width": null,
            "object_fit": null,
            "object_position": null,
            "order": null,
            "overflow": null,
            "overflow_x": null,
            "overflow_y": null,
            "padding": null,
            "right": null,
            "top": null,
            "visibility": null,
            "width": null
          }
        },
        "1253c3370faa49b894a4e4d15dd71905": {
          "model_module": "@jupyter-widgets/controls",
          "model_name": "ProgressStyleModel",
          "model_module_version": "1.5.0",
          "state": {
            "_model_module": "@jupyter-widgets/controls",
            "_model_module_version": "1.5.0",
            "_model_name": "ProgressStyleModel",
            "_view_count": null,
            "_view_module": "@jupyter-widgets/base",
            "_view_module_version": "1.2.0",
            "_view_name": "StyleView",
            "bar_color": null,
            "description_width": ""
          }
        },
        "aa37eb707172458bbce1baea9e1290cd": {
          "model_module": "@jupyter-widgets/base",
          "model_name": "LayoutModel",
          "model_module_version": "1.2.0",
          "state": {
            "_model_module": "@jupyter-widgets/base",
            "_model_module_version": "1.2.0",
            "_model_name": "LayoutModel",
            "_view_count": null,
            "_view_module": "@jupyter-widgets/base",
            "_view_module_version": "1.2.0",
            "_view_name": "LayoutView",
            "align_content": null,
            "align_items": null,
            "align_self": null,
            "border": null,
            "bottom": null,
            "display": null,
            "flex": null,
            "flex_flow": null,
            "grid_area": null,
            "grid_auto_columns": null,
            "grid_auto_flow": null,
            "grid_auto_rows": null,
            "grid_column": null,
            "grid_gap": null,
            "grid_row": null,
            "grid_template_areas": null,
            "grid_template_columns": null,
            "grid_template_rows": null,
            "height": null,
            "justify_content": null,
            "justify_items": null,
            "left": null,
            "margin": null,
            "max_height": null,
            "max_width": null,
            "min_height": null,
            "min_width": null,
            "object_fit": null,
            "object_position": null,
            "order": null,
            "overflow": null,
            "overflow_x": null,
            "overflow_y": null,
            "padding": null,
            "right": null,
            "top": null,
            "visibility": null,
            "width": null
          }
        },
        "6557a969180a49efb65f4d4b611750b9": {
          "model_module": "@jupyter-widgets/controls",
          "model_name": "DescriptionStyleModel",
          "model_module_version": "1.5.0",
          "state": {
            "_model_module": "@jupyter-widgets/controls",
            "_model_module_version": "1.5.0",
            "_model_name": "DescriptionStyleModel",
            "_view_count": null,
            "_view_module": "@jupyter-widgets/base",
            "_view_module_version": "1.2.0",
            "_view_name": "StyleView",
            "description_width": ""
          }
        }
      }
    }
  },
  "nbformat": 4,
  "nbformat_minor": 0
}